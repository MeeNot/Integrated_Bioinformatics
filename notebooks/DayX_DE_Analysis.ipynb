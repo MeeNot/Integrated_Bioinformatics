{
 "cells": [
  {
   "cell_type": "markdown",
   "metadata": {},
   "source": [
    "General review:\n",
    "\n",
    "https://genomebiology.biomedcentral.com/articles/10.1186/gb-2003-4-4-210\n",
    "\n",
    "(doi:10.1186/gb-2003-4-4-210)"
   ]
  },
  {
   "cell_type": "code",
   "execution_count": 2,
   "metadata": {
    "collapsed": true
   },
   "outputs": [],
   "source": [
    "%matplotlib inline"
   ]
  },
  {
   "cell_type": "code",
   "execution_count": 3,
   "metadata": {
    "collapsed": true
   },
   "outputs": [],
   "source": [
    "import sys\n",
    "import os\n",
    "import matplotlib.pyplot as plt\n",
    "import seaborn as sns\n",
    "import pandas as pd\n",
    "import numpy as np\n",
    "from scipy.stats.stats import pearsonr\n",
    "import scipy.stats.stats\n",
    "import statsmodels.sandbox.stats.multicomp\n",
    "from scipy.stats import chi2_contingency\n",
    "from scipy.stats import chi2\n",
    "from scipy.stats import fisher_exact\n",
    "from scipy import stats\n",
    "from scipy.stats import linregress\n",
    "import statsmodels.api as sm"
   ]
  },
  {
   "cell_type": "markdown",
   "metadata": {},
   "source": [
    "## Subtask 0: Download the data"
   ]
  },
  {
   "cell_type": "markdown",
   "metadata": {},
   "source": [
    "hint:\n",
    "\n",
    "http://science.sciencemag.org/highwire/filestream/680254/field_highwire_adjunct_files/5/aad0189_DataFileS5.xlsx"
   ]
  },
  {
   "cell_type": "code",
   "execution_count": 4,
   "metadata": {
    "collapsed": false
   },
   "outputs": [],
   "source": [
    "p = \"/home/engelha/Documents/Praktikum/Integrated_Bioinformatics/notebooks/aad0189_DataFileS5.xlsx\""
   ]
  },
  {
   "cell_type": "markdown",
   "metadata": {},
   "source": [
    "## Task 1: Data wrangling"
   ]
  },
  {
   "cell_type": "markdown",
   "metadata": {},
   "source": [
    "hint:\n",
    "\n",
    "http://www.arrayanalysis.org/main.html"
   ]
  },
  {
   "cell_type": "markdown",
   "metadata": {},
   "source": [
    "### Subtask 1.1: Read in aad0189_DataFileS5.xlsx with pandas"
   ]
  },
  {
   "cell_type": "code",
   "execution_count": 5,
   "metadata": {
    "collapsed": false
   },
   "outputs": [],
   "source": [
    "data = pd.read_excel(p, header=2)"
   ]
  },
  {
   "cell_type": "markdown",
   "metadata": {},
   "source": [
    "### Subtask 1.2: Average over different probesets for a gene and generate a dataframe containing each gene symbol (once)  as rows and the corresponding averaged expression values for each strain + condition as columns"
   ]
  },
  {
   "cell_type": "code",
   "execution_count": 6,
   "metadata": {
    "collapsed": false,
    "scrolled": false
   },
   "outputs": [],
   "source": [
    "data.drop(\"Unnamed: 6\", 1, inplace=True)"
   ]
  },
  {
   "cell_type": "code",
   "execution_count": 7,
   "metadata": {
    "collapsed": false
   },
   "outputs": [
    {
     "data": {
      "text/html": [
       "<div>\n",
       "<table border=\"1\" class=\"dataframe\">\n",
       "  <thead>\n",
       "    <tr style=\"text-align: right;\">\n",
       "      <th></th>\n",
       "      <th>Original_Order</th>\n",
       "      <th>MATCH_ORDER</th>\n",
       "      <th>Gene</th>\n",
       "      <th>Probeset</th>\n",
       "      <th>Gene.1</th>\n",
       "      <th>Protein</th>\n",
       "      <th>Range CD</th>\n",
       "      <th>Range HFD</th>\n",
       "      <th>Range_All</th>\n",
       "      <th>C57BL/6J_Liver_CD</th>\n",
       "      <th>...</th>\n",
       "      <th>BXD89_Liver_HFD</th>\n",
       "      <th>BXD90_Liver_HFD</th>\n",
       "      <th>BXD95_Liver_HFD</th>\n",
       "      <th>BXD96_Liver_HFD</th>\n",
       "      <th>BXD97_Liver_HFD</th>\n",
       "      <th>BXD98_Liver_HFD</th>\n",
       "      <th>BXD99_Liver_HFD</th>\n",
       "      <th>BXD100_Liver_HFD</th>\n",
       "      <th>BXD101_Liver_HFD</th>\n",
       "      <th>BXD103_Liver_HFD</th>\n",
       "    </tr>\n",
       "  </thead>\n",
       "  <tbody>\n",
       "    <tr>\n",
       "      <th>0</th>\n",
       "      <td>12643</td>\n",
       "      <td>NaN</td>\n",
       "      <td>Igh</td>\n",
       "      <td>10403036</td>\n",
       "      <td>Igh</td>\n",
       "      <td>0</td>\n",
       "      <td>1.495886</td>\n",
       "      <td>1.720705</td>\n",
       "      <td>1.720705</td>\n",
       "      <td>5.138</td>\n",
       "      <td>...</td>\n",
       "      <td>4.959</td>\n",
       "      <td>5.483</td>\n",
       "      <td>5.347</td>\n",
       "      <td>5.087</td>\n",
       "      <td>5.125</td>\n",
       "      <td>5.160</td>\n",
       "      <td>5.020</td>\n",
       "      <td>5.170</td>\n",
       "      <td>4.775</td>\n",
       "      <td>4.982</td>\n",
       "    </tr>\n",
       "    <tr>\n",
       "      <th>1</th>\n",
       "      <td>12646</td>\n",
       "      <td>NaN</td>\n",
       "      <td>Igh</td>\n",
       "      <td>10403043</td>\n",
       "      <td>Igh</td>\n",
       "      <td>0</td>\n",
       "      <td>2.938337</td>\n",
       "      <td>1.988940</td>\n",
       "      <td>3.595021</td>\n",
       "      <td>7.983</td>\n",
       "      <td>...</td>\n",
       "      <td>7.415</td>\n",
       "      <td>7.252</td>\n",
       "      <td>7.547</td>\n",
       "      <td>7.358</td>\n",
       "      <td>7.424</td>\n",
       "      <td>7.447</td>\n",
       "      <td>7.567</td>\n",
       "      <td>7.732</td>\n",
       "      <td>7.365</td>\n",
       "      <td>7.369</td>\n",
       "    </tr>\n",
       "    <tr>\n",
       "      <th>2</th>\n",
       "      <td>12653</td>\n",
       "      <td>NaN</td>\n",
       "      <td>Igh</td>\n",
       "      <td>10403063</td>\n",
       "      <td>Igh</td>\n",
       "      <td>0</td>\n",
       "      <td>3.719220</td>\n",
       "      <td>1.859610</td>\n",
       "      <td>4.260433</td>\n",
       "      <td>7.169</td>\n",
       "      <td>...</td>\n",
       "      <td>6.665</td>\n",
       "      <td>6.948</td>\n",
       "      <td>6.999</td>\n",
       "      <td>6.974</td>\n",
       "      <td>6.886</td>\n",
       "      <td>6.876</td>\n",
       "      <td>7.027</td>\n",
       "      <td>7.093</td>\n",
       "      <td>6.748</td>\n",
       "      <td>6.771</td>\n",
       "    </tr>\n",
       "    <tr>\n",
       "      <th>3</th>\n",
       "      <td>8759</td>\n",
       "      <td>1458.0</td>\n",
       "      <td>Hcfc2</td>\n",
       "      <td>10365242</td>\n",
       "      <td>Hcfc2</td>\n",
       "      <td>A0AUN4</td>\n",
       "      <td>1.479388</td>\n",
       "      <td>1.465101</td>\n",
       "      <td>1.536875</td>\n",
       "      <td>9.241</td>\n",
       "      <td>...</td>\n",
       "      <td>9.177</td>\n",
       "      <td>9.021</td>\n",
       "      <td>8.803</td>\n",
       "      <td>8.928</td>\n",
       "      <td>8.914</td>\n",
       "      <td>8.838</td>\n",
       "      <td>9.056</td>\n",
       "      <td>8.924</td>\n",
       "      <td>8.945</td>\n",
       "      <td>8.865</td>\n",
       "    </tr>\n",
       "    <tr>\n",
       "      <th>4</th>\n",
       "      <td>18740</td>\n",
       "      <td>8191.0</td>\n",
       "      <td>Ccdc112</td>\n",
       "      <td>10458794</td>\n",
       "      <td>Ccdc112</td>\n",
       "      <td>A0AUP1</td>\n",
       "      <td>1.834008</td>\n",
       "      <td>1.943962</td>\n",
       "      <td>1.997229</td>\n",
       "      <td>6.761</td>\n",
       "      <td>...</td>\n",
       "      <td>6.623</td>\n",
       "      <td>6.371</td>\n",
       "      <td>6.187</td>\n",
       "      <td>6.310</td>\n",
       "      <td>6.448</td>\n",
       "      <td>6.531</td>\n",
       "      <td>6.167</td>\n",
       "      <td>6.401</td>\n",
       "      <td>6.470</td>\n",
       "      <td>6.565</td>\n",
       "    </tr>\n",
       "    <tr>\n",
       "      <th>5</th>\n",
       "      <td>16962</td>\n",
       "      <td>NaN</td>\n",
       "      <td>EG635895</td>\n",
       "      <td>10441899</td>\n",
       "      <td>EG635895</td>\n",
       "      <td>A0AUV4</td>\n",
       "      <td>1.937236</td>\n",
       "      <td>1.699370</td>\n",
       "      <td>2.168955</td>\n",
       "      <td>6.689</td>\n",
       "      <td>...</td>\n",
       "      <td>5.926</td>\n",
       "      <td>6.628</td>\n",
       "      <td>6.280</td>\n",
       "      <td>6.248</td>\n",
       "      <td>5.975</td>\n",
       "      <td>5.976</td>\n",
       "      <td>6.599</td>\n",
       "      <td>6.390</td>\n",
       "      <td>6.204</td>\n",
       "      <td>6.378</td>\n",
       "    </tr>\n",
       "    <tr>\n",
       "      <th>6</th>\n",
       "      <td>25569</td>\n",
       "      <td>12857.0</td>\n",
       "      <td>Srp72</td>\n",
       "      <td>10522676</td>\n",
       "      <td>Srp72</td>\n",
       "      <td>A0JLN1</td>\n",
       "      <td>1.582275</td>\n",
       "      <td>1.419123</td>\n",
       "      <td>1.584470</td>\n",
       "      <td>11.442</td>\n",
       "      <td>...</td>\n",
       "      <td>11.228</td>\n",
       "      <td>11.240</td>\n",
       "      <td>10.849</td>\n",
       "      <td>11.107</td>\n",
       "      <td>11.259</td>\n",
       "      <td>10.949</td>\n",
       "      <td>11.354</td>\n",
       "      <td>11.201</td>\n",
       "      <td>11.004</td>\n",
       "      <td>10.986</td>\n",
       "    </tr>\n",
       "    <tr>\n",
       "      <th>7</th>\n",
       "      <td>29717</td>\n",
       "      <td>15643.0</td>\n",
       "      <td>Ceacam15</td>\n",
       "      <td>10560294</td>\n",
       "      <td>Ceacam15</td>\n",
       "      <td>A0JLX4</td>\n",
       "      <td>1.773993</td>\n",
       "      <td>1.792533</td>\n",
       "      <td>1.835280</td>\n",
       "      <td>6.464</td>\n",
       "      <td>...</td>\n",
       "      <td>7.000</td>\n",
       "      <td>6.960</td>\n",
       "      <td>6.914</td>\n",
       "      <td>6.562</td>\n",
       "      <td>6.678</td>\n",
       "      <td>6.755</td>\n",
       "      <td>7.067</td>\n",
       "      <td>6.711</td>\n",
       "      <td>7.003</td>\n",
       "      <td>6.751</td>\n",
       "    </tr>\n",
       "    <tr>\n",
       "      <th>8</th>\n",
       "      <td>21302</td>\n",
       "      <td>10042.0</td>\n",
       "      <td>4930578N16Rik</td>\n",
       "      <td>10483536</td>\n",
       "      <td>4930578N16Rik</td>\n",
       "      <td>A0JLY1</td>\n",
       "      <td>1.534746</td>\n",
       "      <td>1.432962</td>\n",
       "      <td>1.726679</td>\n",
       "      <td>6.763</td>\n",
       "      <td>...</td>\n",
       "      <td>6.357</td>\n",
       "      <td>6.325</td>\n",
       "      <td>6.427</td>\n",
       "      <td>6.273</td>\n",
       "      <td>6.489</td>\n",
       "      <td>6.429</td>\n",
       "      <td>6.539</td>\n",
       "      <td>6.488</td>\n",
       "      <td>6.362</td>\n",
       "      <td>6.411</td>\n",
       "    </tr>\n",
       "    <tr>\n",
       "      <th>9</th>\n",
       "      <td>26618</td>\n",
       "      <td>13525.0</td>\n",
       "      <td>Ccdc64</td>\n",
       "      <td>10533007</td>\n",
       "      <td>Ccdc64</td>\n",
       "      <td>A0JNT9</td>\n",
       "      <td>1.655194</td>\n",
       "      <td>1.808759</td>\n",
       "      <td>1.808759</td>\n",
       "      <td>7.525</td>\n",
       "      <td>...</td>\n",
       "      <td>7.630</td>\n",
       "      <td>7.317</td>\n",
       "      <td>7.725</td>\n",
       "      <td>7.494</td>\n",
       "      <td>7.713</td>\n",
       "      <td>7.796</td>\n",
       "      <td>7.680</td>\n",
       "      <td>7.694</td>\n",
       "      <td>7.855</td>\n",
       "      <td>7.691</td>\n",
       "    </tr>\n",
       "    <tr>\n",
       "      <th>10</th>\n",
       "      <td>12174</td>\n",
       "      <td>3901.0</td>\n",
       "      <td>Aspg</td>\n",
       "      <td>10398795</td>\n",
       "      <td>Aspg</td>\n",
       "      <td>A0JNU3</td>\n",
       "      <td>2.830388</td>\n",
       "      <td>1.995845</td>\n",
       "      <td>2.859970</td>\n",
       "      <td>11.036</td>\n",
       "      <td>...</td>\n",
       "      <td>10.810</td>\n",
       "      <td>10.687</td>\n",
       "      <td>10.921</td>\n",
       "      <td>10.857</td>\n",
       "      <td>10.594</td>\n",
       "      <td>10.838</td>\n",
       "      <td>11.088</td>\n",
       "      <td>10.525</td>\n",
       "      <td>10.626</td>\n",
       "      <td>10.558</td>\n",
       "    </tr>\n",
       "    <tr>\n",
       "      <th>11</th>\n",
       "      <td>11143</td>\n",
       "      <td>3199.0</td>\n",
       "      <td>Efcab5</td>\n",
       "      <td>10388625</td>\n",
       "      <td>Efcab5</td>\n",
       "      <td>A0JP43</td>\n",
       "      <td>1.566994</td>\n",
       "      <td>1.481440</td>\n",
       "      <td>1.566994</td>\n",
       "      <td>5.682</td>\n",
       "      <td>...</td>\n",
       "      <td>5.913</td>\n",
       "      <td>5.901</td>\n",
       "      <td>6.052</td>\n",
       "      <td>5.900</td>\n",
       "      <td>5.781</td>\n",
       "      <td>5.701</td>\n",
       "      <td>5.797</td>\n",
       "      <td>5.871</td>\n",
       "      <td>5.785</td>\n",
       "      <td>5.866</td>\n",
       "    </tr>\n",
       "    <tr>\n",
       "      <th>12</th>\n",
       "      <td>23261</td>\n",
       "      <td>NaN</td>\n",
       "      <td>Bclp2</td>\n",
       "      <td>10501007</td>\n",
       "      <td>Bclp2</td>\n",
       "      <td>A0JP54</td>\n",
       "      <td>1.608817</td>\n",
       "      <td>1.443929</td>\n",
       "      <td>1.639209</td>\n",
       "      <td>5.902</td>\n",
       "      <td>...</td>\n",
       "      <td>6.103</td>\n",
       "      <td>5.984</td>\n",
       "      <td>6.119</td>\n",
       "      <td>5.863</td>\n",
       "      <td>6.042</td>\n",
       "      <td>6.117</td>\n",
       "      <td>6.171</td>\n",
       "      <td>6.180</td>\n",
       "      <td>6.333</td>\n",
       "      <td>6.012</td>\n",
       "    </tr>\n",
       "    <tr>\n",
       "      <th>13</th>\n",
       "      <td>22458</td>\n",
       "      <td>10842.0</td>\n",
       "      <td>Sprr2e</td>\n",
       "      <td>10493867</td>\n",
       "      <td>Sprr2e</td>\n",
       "      <td>A0PJN0</td>\n",
       "      <td>2.298990</td>\n",
       "      <td>2.234574</td>\n",
       "      <td>2.358713</td>\n",
       "      <td>6.463</td>\n",
       "      <td>...</td>\n",
       "      <td>6.128</td>\n",
       "      <td>6.433</td>\n",
       "      <td>6.084</td>\n",
       "      <td>5.756</td>\n",
       "      <td>5.660</td>\n",
       "      <td>5.707</td>\n",
       "      <td>6.002</td>\n",
       "      <td>6.080</td>\n",
       "      <td>5.998</td>\n",
       "      <td>6.334</td>\n",
       "    </tr>\n",
       "    <tr>\n",
       "      <th>14</th>\n",
       "      <td>13599</td>\n",
       "      <td>NaN</td>\n",
       "      <td>3110006E14Rik</td>\n",
       "      <td>10410460</td>\n",
       "      <td>3110006E14Rik</td>\n",
       "      <td>A0PJN4</td>\n",
       "      <td>2.337554</td>\n",
       "      <td>2.314980</td>\n",
       "      <td>2.414961</td>\n",
       "      <td>7.143</td>\n",
       "      <td>...</td>\n",
       "      <td>7.510</td>\n",
       "      <td>7.527</td>\n",
       "      <td>7.451</td>\n",
       "      <td>7.217</td>\n",
       "      <td>7.078</td>\n",
       "      <td>7.306</td>\n",
       "      <td>7.462</td>\n",
       "      <td>7.388</td>\n",
       "      <td>7.267</td>\n",
       "      <td>7.960</td>\n",
       "    </tr>\n",
       "  </tbody>\n",
       "</table>\n",
       "<p>15 rows × 91 columns</p>\n",
       "</div>"
      ],
      "text/plain": [
       "    Original_Order  MATCH_ORDER           Gene  Probeset         Gene.1  \\\n",
       "0            12643          NaN            Igh  10403036            Igh   \n",
       "1            12646          NaN            Igh  10403043            Igh   \n",
       "2            12653          NaN            Igh  10403063            Igh   \n",
       "3             8759       1458.0          Hcfc2  10365242          Hcfc2   \n",
       "4            18740       8191.0        Ccdc112  10458794        Ccdc112   \n",
       "5            16962          NaN       EG635895  10441899       EG635895   \n",
       "6            25569      12857.0          Srp72  10522676          Srp72   \n",
       "7            29717      15643.0       Ceacam15  10560294       Ceacam15   \n",
       "8            21302      10042.0  4930578N16Rik  10483536  4930578N16Rik   \n",
       "9            26618      13525.0         Ccdc64  10533007         Ccdc64   \n",
       "10           12174       3901.0           Aspg  10398795           Aspg   \n",
       "11           11143       3199.0         Efcab5  10388625         Efcab5   \n",
       "12           23261          NaN          Bclp2  10501007          Bclp2   \n",
       "13           22458      10842.0         Sprr2e  10493867         Sprr2e   \n",
       "14           13599          NaN  3110006E14Rik  10410460  3110006E14Rik   \n",
       "\n",
       "   Protein  Range CD  Range HFD  Range_All  C57BL/6J_Liver_CD  \\\n",
       "0        0  1.495886   1.720705   1.720705              5.138   \n",
       "1        0  2.938337   1.988940   3.595021              7.983   \n",
       "2        0  3.719220   1.859610   4.260433              7.169   \n",
       "3   A0AUN4  1.479388   1.465101   1.536875              9.241   \n",
       "4   A0AUP1  1.834008   1.943962   1.997229              6.761   \n",
       "5   A0AUV4  1.937236   1.699370   2.168955              6.689   \n",
       "6   A0JLN1  1.582275   1.419123   1.584470             11.442   \n",
       "7   A0JLX4  1.773993   1.792533   1.835280              6.464   \n",
       "8   A0JLY1  1.534746   1.432962   1.726679              6.763   \n",
       "9   A0JNT9  1.655194   1.808759   1.808759              7.525   \n",
       "10  A0JNU3  2.830388   1.995845   2.859970             11.036   \n",
       "11  A0JP43  1.566994   1.481440   1.566994              5.682   \n",
       "12  A0JP54  1.608817   1.443929   1.639209              5.902   \n",
       "13  A0PJN0  2.298990   2.234574   2.358713              6.463   \n",
       "14  A0PJN4  2.337554   2.314980   2.414961              7.143   \n",
       "\n",
       "          ...         BXD89_Liver_HFD  BXD90_Liver_HFD  BXD95_Liver_HFD  \\\n",
       "0         ...                   4.959            5.483            5.347   \n",
       "1         ...                   7.415            7.252            7.547   \n",
       "2         ...                   6.665            6.948            6.999   \n",
       "3         ...                   9.177            9.021            8.803   \n",
       "4         ...                   6.623            6.371            6.187   \n",
       "5         ...                   5.926            6.628            6.280   \n",
       "6         ...                  11.228           11.240           10.849   \n",
       "7         ...                   7.000            6.960            6.914   \n",
       "8         ...                   6.357            6.325            6.427   \n",
       "9         ...                   7.630            7.317            7.725   \n",
       "10        ...                  10.810           10.687           10.921   \n",
       "11        ...                   5.913            5.901            6.052   \n",
       "12        ...                   6.103            5.984            6.119   \n",
       "13        ...                   6.128            6.433            6.084   \n",
       "14        ...                   7.510            7.527            7.451   \n",
       "\n",
       "    BXD96_Liver_HFD  BXD97_Liver_HFD  BXD98_Liver_HFD  BXD99_Liver_HFD  \\\n",
       "0             5.087            5.125            5.160            5.020   \n",
       "1             7.358            7.424            7.447            7.567   \n",
       "2             6.974            6.886            6.876            7.027   \n",
       "3             8.928            8.914            8.838            9.056   \n",
       "4             6.310            6.448            6.531            6.167   \n",
       "5             6.248            5.975            5.976            6.599   \n",
       "6            11.107           11.259           10.949           11.354   \n",
       "7             6.562            6.678            6.755            7.067   \n",
       "8             6.273            6.489            6.429            6.539   \n",
       "9             7.494            7.713            7.796            7.680   \n",
       "10           10.857           10.594           10.838           11.088   \n",
       "11            5.900            5.781            5.701            5.797   \n",
       "12            5.863            6.042            6.117            6.171   \n",
       "13            5.756            5.660            5.707            6.002   \n",
       "14            7.217            7.078            7.306            7.462   \n",
       "\n",
       "    BXD100_Liver_HFD  BXD101_Liver_HFD  BXD103_Liver_HFD  \n",
       "0              5.170             4.775             4.982  \n",
       "1              7.732             7.365             7.369  \n",
       "2              7.093             6.748             6.771  \n",
       "3              8.924             8.945             8.865  \n",
       "4              6.401             6.470             6.565  \n",
       "5              6.390             6.204             6.378  \n",
       "6             11.201            11.004            10.986  \n",
       "7              6.711             7.003             6.751  \n",
       "8              6.488             6.362             6.411  \n",
       "9              7.694             7.855             7.691  \n",
       "10            10.525            10.626            10.558  \n",
       "11             5.871             5.785             5.866  \n",
       "12             6.180             6.333             6.012  \n",
       "13             6.080             5.998             6.334  \n",
       "14             7.388             7.267             7.960  \n",
       "\n",
       "[15 rows x 91 columns]"
      ]
     },
     "execution_count": 7,
     "metadata": {},
     "output_type": "execute_result"
    }
   ],
   "source": [
    "data[0:15]"
   ]
  },
  {
   "cell_type": "code",
   "execution_count": 8,
   "metadata": {
    "collapsed": false
   },
   "outputs": [],
   "source": [
    "gene_average = data.groupby(data[\"Gene\"], as_index=True, sort=False).mean()"
   ]
  },
  {
   "cell_type": "code",
   "execution_count": 9,
   "metadata": {
    "collapsed": false
   },
   "outputs": [
    {
     "data": {
      "text/html": [
       "<div>\n",
       "<table border=\"1\" class=\"dataframe\">\n",
       "  <thead>\n",
       "    <tr style=\"text-align: right;\">\n",
       "      <th></th>\n",
       "      <th>Original_Order</th>\n",
       "      <th>MATCH_ORDER</th>\n",
       "      <th>Probeset</th>\n",
       "      <th>Range CD</th>\n",
       "      <th>Range HFD</th>\n",
       "      <th>Range_All</th>\n",
       "      <th>C57BL/6J_Liver_CD</th>\n",
       "      <th>DBA/2J_Liver_CD</th>\n",
       "      <th>BXD43_Liver_CD</th>\n",
       "      <th>BXD44_Liver_CD</th>\n",
       "      <th>...</th>\n",
       "      <th>BXD89_Liver_HFD</th>\n",
       "      <th>BXD90_Liver_HFD</th>\n",
       "      <th>BXD95_Liver_HFD</th>\n",
       "      <th>BXD96_Liver_HFD</th>\n",
       "      <th>BXD97_Liver_HFD</th>\n",
       "      <th>BXD98_Liver_HFD</th>\n",
       "      <th>BXD99_Liver_HFD</th>\n",
       "      <th>BXD100_Liver_HFD</th>\n",
       "      <th>BXD101_Liver_HFD</th>\n",
       "      <th>BXD103_Liver_HFD</th>\n",
       "    </tr>\n",
       "    <tr>\n",
       "      <th>Gene</th>\n",
       "      <th></th>\n",
       "      <th></th>\n",
       "      <th></th>\n",
       "      <th></th>\n",
       "      <th></th>\n",
       "      <th></th>\n",
       "      <th></th>\n",
       "      <th></th>\n",
       "      <th></th>\n",
       "      <th></th>\n",
       "      <th></th>\n",
       "      <th></th>\n",
       "      <th></th>\n",
       "      <th></th>\n",
       "      <th></th>\n",
       "      <th></th>\n",
       "      <th></th>\n",
       "      <th></th>\n",
       "      <th></th>\n",
       "      <th></th>\n",
       "      <th></th>\n",
       "    </tr>\n",
       "  </thead>\n",
       "  <tbody>\n",
       "    <tr>\n",
       "      <th>Igh</th>\n",
       "      <td>12641.0</td>\n",
       "      <td>NaN</td>\n",
       "      <td>10403001.5</td>\n",
       "      <td>2.524014</td>\n",
       "      <td>1.780279</td>\n",
       "      <td>3.047875</td>\n",
       "      <td>6.92575</td>\n",
       "      <td>6.7715</td>\n",
       "      <td>6.79375</td>\n",
       "      <td>6.74325</td>\n",
       "      <td>...</td>\n",
       "      <td>6.47225</td>\n",
       "      <td>6.67875</td>\n",
       "      <td>6.76175</td>\n",
       "      <td>6.62375</td>\n",
       "      <td>6.633</td>\n",
       "      <td>6.6735</td>\n",
       "      <td>6.66275</td>\n",
       "      <td>6.7925</td>\n",
       "      <td>6.5245</td>\n",
       "      <td>6.52325</td>\n",
       "    </tr>\n",
       "    <tr>\n",
       "      <th>Hcfc2</th>\n",
       "      <td>8759.0</td>\n",
       "      <td>1458.0</td>\n",
       "      <td>10365242.0</td>\n",
       "      <td>1.479388</td>\n",
       "      <td>1.465101</td>\n",
       "      <td>1.536875</td>\n",
       "      <td>9.24100</td>\n",
       "      <td>8.9900</td>\n",
       "      <td>8.96700</td>\n",
       "      <td>8.68100</td>\n",
       "      <td>...</td>\n",
       "      <td>9.17700</td>\n",
       "      <td>9.02100</td>\n",
       "      <td>8.80300</td>\n",
       "      <td>8.92800</td>\n",
       "      <td>8.914</td>\n",
       "      <td>8.8380</td>\n",
       "      <td>9.05600</td>\n",
       "      <td>8.9240</td>\n",
       "      <td>8.9450</td>\n",
       "      <td>8.86500</td>\n",
       "    </tr>\n",
       "    <tr>\n",
       "      <th>Ccdc112</th>\n",
       "      <td>18740.0</td>\n",
       "      <td>8191.0</td>\n",
       "      <td>10458794.0</td>\n",
       "      <td>1.834008</td>\n",
       "      <td>1.943962</td>\n",
       "      <td>1.997229</td>\n",
       "      <td>6.76100</td>\n",
       "      <td>6.6560</td>\n",
       "      <td>6.72900</td>\n",
       "      <td>6.81300</td>\n",
       "      <td>...</td>\n",
       "      <td>6.62300</td>\n",
       "      <td>6.37100</td>\n",
       "      <td>6.18700</td>\n",
       "      <td>6.31000</td>\n",
       "      <td>6.448</td>\n",
       "      <td>6.5310</td>\n",
       "      <td>6.16700</td>\n",
       "      <td>6.4010</td>\n",
       "      <td>6.4700</td>\n",
       "      <td>6.56500</td>\n",
       "    </tr>\n",
       "    <tr>\n",
       "      <th>EG635895</th>\n",
       "      <td>16962.0</td>\n",
       "      <td>NaN</td>\n",
       "      <td>10441899.0</td>\n",
       "      <td>1.937236</td>\n",
       "      <td>1.699370</td>\n",
       "      <td>2.168955</td>\n",
       "      <td>6.68900</td>\n",
       "      <td>6.4560</td>\n",
       "      <td>6.52800</td>\n",
       "      <td>6.53800</td>\n",
       "      <td>...</td>\n",
       "      <td>5.92600</td>\n",
       "      <td>6.62800</td>\n",
       "      <td>6.28000</td>\n",
       "      <td>6.24800</td>\n",
       "      <td>5.975</td>\n",
       "      <td>5.9760</td>\n",
       "      <td>6.59900</td>\n",
       "      <td>6.3900</td>\n",
       "      <td>6.2040</td>\n",
       "      <td>6.37800</td>\n",
       "    </tr>\n",
       "    <tr>\n",
       "      <th>Srp72</th>\n",
       "      <td>25569.0</td>\n",
       "      <td>12857.0</td>\n",
       "      <td>10522676.0</td>\n",
       "      <td>1.582275</td>\n",
       "      <td>1.419123</td>\n",
       "      <td>1.584470</td>\n",
       "      <td>11.44200</td>\n",
       "      <td>11.3130</td>\n",
       "      <td>11.35900</td>\n",
       "      <td>11.06500</td>\n",
       "      <td>...</td>\n",
       "      <td>11.22800</td>\n",
       "      <td>11.24000</td>\n",
       "      <td>10.84900</td>\n",
       "      <td>11.10700</td>\n",
       "      <td>11.259</td>\n",
       "      <td>10.9490</td>\n",
       "      <td>11.35400</td>\n",
       "      <td>11.2010</td>\n",
       "      <td>11.0040</td>\n",
       "      <td>10.98600</td>\n",
       "    </tr>\n",
       "    <tr>\n",
       "      <th>Ceacam15</th>\n",
       "      <td>29717.0</td>\n",
       "      <td>15643.0</td>\n",
       "      <td>10560294.0</td>\n",
       "      <td>1.773993</td>\n",
       "      <td>1.792533</td>\n",
       "      <td>1.835280</td>\n",
       "      <td>6.46400</td>\n",
       "      <td>6.5460</td>\n",
       "      <td>6.57000</td>\n",
       "      <td>6.98700</td>\n",
       "      <td>...</td>\n",
       "      <td>7.00000</td>\n",
       "      <td>6.96000</td>\n",
       "      <td>6.91400</td>\n",
       "      <td>6.56200</td>\n",
       "      <td>6.678</td>\n",
       "      <td>6.7550</td>\n",
       "      <td>7.06700</td>\n",
       "      <td>6.7110</td>\n",
       "      <td>7.0030</td>\n",
       "      <td>6.75100</td>\n",
       "    </tr>\n",
       "    <tr>\n",
       "      <th>4930578N16Rik</th>\n",
       "      <td>21302.0</td>\n",
       "      <td>10042.0</td>\n",
       "      <td>10483536.0</td>\n",
       "      <td>1.534746</td>\n",
       "      <td>1.432962</td>\n",
       "      <td>1.726679</td>\n",
       "      <td>6.76300</td>\n",
       "      <td>6.4440</td>\n",
       "      <td>6.70100</td>\n",
       "      <td>6.79500</td>\n",
       "      <td>...</td>\n",
       "      <td>6.35700</td>\n",
       "      <td>6.32500</td>\n",
       "      <td>6.42700</td>\n",
       "      <td>6.27300</td>\n",
       "      <td>6.489</td>\n",
       "      <td>6.4290</td>\n",
       "      <td>6.53900</td>\n",
       "      <td>6.4880</td>\n",
       "      <td>6.3620</td>\n",
       "      <td>6.41100</td>\n",
       "    </tr>\n",
       "    <tr>\n",
       "      <th>Ccdc64</th>\n",
       "      <td>26618.0</td>\n",
       "      <td>13525.0</td>\n",
       "      <td>10533007.0</td>\n",
       "      <td>1.655194</td>\n",
       "      <td>1.808759</td>\n",
       "      <td>1.808759</td>\n",
       "      <td>7.52500</td>\n",
       "      <td>7.7470</td>\n",
       "      <td>7.81900</td>\n",
       "      <td>7.79100</td>\n",
       "      <td>...</td>\n",
       "      <td>7.63000</td>\n",
       "      <td>7.31700</td>\n",
       "      <td>7.72500</td>\n",
       "      <td>7.49400</td>\n",
       "      <td>7.713</td>\n",
       "      <td>7.7960</td>\n",
       "      <td>7.68000</td>\n",
       "      <td>7.6940</td>\n",
       "      <td>7.8550</td>\n",
       "      <td>7.69100</td>\n",
       "    </tr>\n",
       "    <tr>\n",
       "      <th>Aspg</th>\n",
       "      <td>12174.0</td>\n",
       "      <td>3901.0</td>\n",
       "      <td>10398795.0</td>\n",
       "      <td>2.830388</td>\n",
       "      <td>1.995845</td>\n",
       "      <td>2.859970</td>\n",
       "      <td>11.03600</td>\n",
       "      <td>10.8970</td>\n",
       "      <td>10.36100</td>\n",
       "      <td>10.80000</td>\n",
       "      <td>...</td>\n",
       "      <td>10.81000</td>\n",
       "      <td>10.68700</td>\n",
       "      <td>10.92100</td>\n",
       "      <td>10.85700</td>\n",
       "      <td>10.594</td>\n",
       "      <td>10.8380</td>\n",
       "      <td>11.08800</td>\n",
       "      <td>10.5250</td>\n",
       "      <td>10.6260</td>\n",
       "      <td>10.55800</td>\n",
       "    </tr>\n",
       "    <tr>\n",
       "      <th>Efcab5</th>\n",
       "      <td>11143.0</td>\n",
       "      <td>3199.0</td>\n",
       "      <td>10388625.0</td>\n",
       "      <td>1.566994</td>\n",
       "      <td>1.481440</td>\n",
       "      <td>1.566994</td>\n",
       "      <td>5.68200</td>\n",
       "      <td>6.0190</td>\n",
       "      <td>5.86900</td>\n",
       "      <td>5.95000</td>\n",
       "      <td>...</td>\n",
       "      <td>5.91300</td>\n",
       "      <td>5.90100</td>\n",
       "      <td>6.05200</td>\n",
       "      <td>5.90000</td>\n",
       "      <td>5.781</td>\n",
       "      <td>5.7010</td>\n",
       "      <td>5.79700</td>\n",
       "      <td>5.8710</td>\n",
       "      <td>5.7850</td>\n",
       "      <td>5.86600</td>\n",
       "    </tr>\n",
       "  </tbody>\n",
       "</table>\n",
       "<p>10 rows × 88 columns</p>\n",
       "</div>"
      ],
      "text/plain": [
       "               Original_Order  MATCH_ORDER    Probeset  Range CD  Range HFD  \\\n",
       "Gene                                                                          \n",
       "Igh                   12641.0          NaN  10403001.5  2.524014   1.780279   \n",
       "Hcfc2                  8759.0       1458.0  10365242.0  1.479388   1.465101   \n",
       "Ccdc112               18740.0       8191.0  10458794.0  1.834008   1.943962   \n",
       "EG635895              16962.0          NaN  10441899.0  1.937236   1.699370   \n",
       "Srp72                 25569.0      12857.0  10522676.0  1.582275   1.419123   \n",
       "Ceacam15              29717.0      15643.0  10560294.0  1.773993   1.792533   \n",
       "4930578N16Rik         21302.0      10042.0  10483536.0  1.534746   1.432962   \n",
       "Ccdc64                26618.0      13525.0  10533007.0  1.655194   1.808759   \n",
       "Aspg                  12174.0       3901.0  10398795.0  2.830388   1.995845   \n",
       "Efcab5                11143.0       3199.0  10388625.0  1.566994   1.481440   \n",
       "\n",
       "               Range_All  C57BL/6J_Liver_CD  DBA/2J_Liver_CD  BXD43_Liver_CD  \\\n",
       "Gene                                                                           \n",
       "Igh             3.047875            6.92575           6.7715         6.79375   \n",
       "Hcfc2           1.536875            9.24100           8.9900         8.96700   \n",
       "Ccdc112         1.997229            6.76100           6.6560         6.72900   \n",
       "EG635895        2.168955            6.68900           6.4560         6.52800   \n",
       "Srp72           1.584470           11.44200          11.3130        11.35900   \n",
       "Ceacam15        1.835280            6.46400           6.5460         6.57000   \n",
       "4930578N16Rik   1.726679            6.76300           6.4440         6.70100   \n",
       "Ccdc64          1.808759            7.52500           7.7470         7.81900   \n",
       "Aspg            2.859970           11.03600          10.8970        10.36100   \n",
       "Efcab5          1.566994            5.68200           6.0190         5.86900   \n",
       "\n",
       "               BXD44_Liver_CD        ...         BXD89_Liver_HFD  \\\n",
       "Gene                                 ...                           \n",
       "Igh                   6.74325        ...                 6.47225   \n",
       "Hcfc2                 8.68100        ...                 9.17700   \n",
       "Ccdc112               6.81300        ...                 6.62300   \n",
       "EG635895              6.53800        ...                 5.92600   \n",
       "Srp72                11.06500        ...                11.22800   \n",
       "Ceacam15              6.98700        ...                 7.00000   \n",
       "4930578N16Rik         6.79500        ...                 6.35700   \n",
       "Ccdc64                7.79100        ...                 7.63000   \n",
       "Aspg                 10.80000        ...                10.81000   \n",
       "Efcab5                5.95000        ...                 5.91300   \n",
       "\n",
       "               BXD90_Liver_HFD  BXD95_Liver_HFD  BXD96_Liver_HFD  \\\n",
       "Gene                                                               \n",
       "Igh                    6.67875          6.76175          6.62375   \n",
       "Hcfc2                  9.02100          8.80300          8.92800   \n",
       "Ccdc112                6.37100          6.18700          6.31000   \n",
       "EG635895               6.62800          6.28000          6.24800   \n",
       "Srp72                 11.24000         10.84900         11.10700   \n",
       "Ceacam15               6.96000          6.91400          6.56200   \n",
       "4930578N16Rik          6.32500          6.42700          6.27300   \n",
       "Ccdc64                 7.31700          7.72500          7.49400   \n",
       "Aspg                  10.68700         10.92100         10.85700   \n",
       "Efcab5                 5.90100          6.05200          5.90000   \n",
       "\n",
       "               BXD97_Liver_HFD  BXD98_Liver_HFD  BXD99_Liver_HFD  \\\n",
       "Gene                                                               \n",
       "Igh                      6.633           6.6735          6.66275   \n",
       "Hcfc2                    8.914           8.8380          9.05600   \n",
       "Ccdc112                  6.448           6.5310          6.16700   \n",
       "EG635895                 5.975           5.9760          6.59900   \n",
       "Srp72                   11.259          10.9490         11.35400   \n",
       "Ceacam15                 6.678           6.7550          7.06700   \n",
       "4930578N16Rik            6.489           6.4290          6.53900   \n",
       "Ccdc64                   7.713           7.7960          7.68000   \n",
       "Aspg                    10.594          10.8380         11.08800   \n",
       "Efcab5                   5.781           5.7010          5.79700   \n",
       "\n",
       "               BXD100_Liver_HFD  BXD101_Liver_HFD  BXD103_Liver_HFD  \n",
       "Gene                                                                 \n",
       "Igh                      6.7925            6.5245           6.52325  \n",
       "Hcfc2                    8.9240            8.9450           8.86500  \n",
       "Ccdc112                  6.4010            6.4700           6.56500  \n",
       "EG635895                 6.3900            6.2040           6.37800  \n",
       "Srp72                   11.2010           11.0040          10.98600  \n",
       "Ceacam15                 6.7110            7.0030           6.75100  \n",
       "4930578N16Rik            6.4880            6.3620           6.41100  \n",
       "Ccdc64                   7.6940            7.8550           7.69100  \n",
       "Aspg                    10.5250           10.6260          10.55800  \n",
       "Efcab5                   5.8710            5.7850           5.86600  \n",
       "\n",
       "[10 rows x 88 columns]"
      ]
     },
     "execution_count": 9,
     "metadata": {},
     "output_type": "execute_result"
    }
   ],
   "source": [
    "gene_average[0:10]"
   ]
  },
  {
   "cell_type": "code",
   "execution_count": 10,
   "metadata": {
    "collapsed": false
   },
   "outputs": [
    {
     "data": {
      "text/plain": [
       "21834"
      ]
     },
     "execution_count": 10,
     "metadata": {},
     "output_type": "execute_result"
    }
   ],
   "source": [
    "len(gene_average)"
   ]
  },
  {
   "cell_type": "markdown",
   "metadata": {},
   "source": [
    "### Subtask 1.3: Quantile normalization: carry out a quantile normalization of the data (or not)"
   ]
  },
  {
   "cell_type": "markdown",
   "metadata": {},
   "source": [
    "#### Subsubtask 1.3.1: Implement a ratio intensity plot (using matplotlib)"
   ]
  },
  {
   "cell_type": "code",
   "execution_count": 11,
   "metadata": {
    "collapsed": false
   },
   "outputs": [],
   "source": [
    "def ratio_plot(x, y):\n",
    "    R = np.log10(x / y)\n",
    "    I = (np.log10(x) + np.log10(y)) / 2\n",
    "\n",
    "    plt.figure(figsize=(12,6), dpi=80)\n",
    "\n",
    "    \n",
    "    \n",
    "    plt.scatter(I,R)\n",
    "    \n",
    "    plt.show()"
   ]
  },
  {
   "cell_type": "code",
   "execution_count": 12,
   "metadata": {
    "collapsed": false
   },
   "outputs": [
    {
     "data": {
      "image/png": "[encoded data removed]",
      "text/plain": [
       "<matplotlib.figure.Figure at 0x7f0b6867a650>"
      ]
     },
     "metadata": {},
     "output_type": "display_data"
    }
   ],
   "source": [
    "ratio_plot(gene_average[\"C57BL/6J_Liver_CD\"], gene_average[\"DBA/2J_Liver_CD\"])"
   ]
  },
  {
   "cell_type": "markdown",
   "metadata": {},
   "source": [
    "#### Subsubtask 1.3.2: Apply your ratio intensity plot to several pairs of chips (columns of your above dataframe)"
   ]
  },
  {
   "cell_type": "code",
   "execution_count": 13,
   "metadata": {
    "collapsed": false
   },
   "outputs": [
    {
     "data": {
      "image/png": "[encoded data removed]",
      "text/plain": [
       "<matplotlib.figure.Figure at 0x7f0b663adf50>"
      ]
     },
     "metadata": {},
     "output_type": "display_data"
    }
   ],
   "source": [
    "ratio_plot(gene_average[\"C57BL/6J_Liver_CD\"], gene_average[\"BXD89_Liver_HFD\"])"
   ]
  },
  {
   "cell_type": "code",
   "execution_count": 14,
   "metadata": {
    "collapsed": false
   },
   "outputs": [
    {
     "data": {
      "image/png": "[encoded data removed]",
      "text/plain": [
       "<matplotlib.figure.Figure at 0x7f0b66355790>"
      ]
     },
     "metadata": {},
     "output_type": "display_data"
    }
   ],
   "source": [
    "ratio_plot(gene_average[\"BXD103_Liver_HFD\"], gene_average[\"BXD98_Liver_HFD\"])"
   ]
  },
  {
   "cell_type": "markdown",
   "metadata": {},
   "source": [
    "#### Subsubtask 1.3.3: Implement a rle plot (rle = relative log expression)"
   ]
  },
  {
   "cell_type": "code",
   "execution_count": null,
   "metadata": {
    "collapsed": false
   },
   "outputs": [],
   "source": []
  },
  {
   "cell_type": "code",
   "execution_count": null,
   "metadata": {
    "collapsed": false
   },
   "outputs": [],
   "source": []
  },
  {
   "cell_type": "markdown",
   "metadata": {},
   "source": [
    "#### Subsubtask 1.3.4: Apply your RLE plot to the data"
   ]
  },
  {
   "cell_type": "code",
   "execution_count": 75,
   "metadata": {
    "collapsed": false
   },
   "outputs": [],
   "source": [
    "def rle_plot(gene_exp):\n",
    "    genes = gene_exp.T / gene_exp.T.median()\n",
    "    \n",
    "  \n",
    "    plt.figure(figsize=(16,12), dpi=80)\n",
    "    plt.xlabel(\"Samples\")\n",
    "    plt.ylabel(\"Relative log expression\")\n",
    "    plt.xticks(range(len(gene_exp)), gene_exp.index, rotation=\"vertical\")\n",
    "    \n",
    "    \n",
    "    \n",
    "    sns.boxplot(data=np.log10(genes.T))\n",
    "    \n",
    "    "
   ]
  },
  {
   "cell_type": "code",
   "execution_count": 76,
   "metadata": {
    "collapsed": false
   },
   "outputs": [
    {
     "data": {
      "image/png": "[encoded data removed]",
      "text/plain": [
       "<matplotlib.figure.Figure at 0x7f0aaf00f290>"
      ]
     },
     "metadata": {},
     "output_type": "display_data"
    }
   ],
   "source": [
    "rle_plot(gene_average.drop(\"Unnamed: 51\", axis=1).ix[:,6:])"
   ]
  },
  {
   "cell_type": "markdown",
   "metadata": {},
   "source": [
    "#### Subsubtask 1.3.5: If you consider it necessary, perform a quantile normalization of the data "
   ]
  },
  {
   "cell_type": "markdown",
   "metadata": {
    "collapsed": true
   },
   "source": [
    "The ratio-intensity plots and the rle-plot above indicate that the data is already normalized. Since the outliers are within a minimal range, we don't need a quantile normalization for further analysis. "
   ]
  },
  {
   "cell_type": "markdown",
   "metadata": {},
   "source": [
    "## Task 2: Which statistical test to chose?"
   ]
  },
  {
   "cell_type": "markdown",
   "metadata": {},
   "source": [
    "We want to infer differentially expressed genes between the CD and the HFD condition. Therefore we (mis)(?)treat (!) the (already) normalized expression values of all the strains for a given condition as independent observations of the same sample. But first we need to figure out which statistical test for differential expression seems appropriate (concerning distribution and variance assumptions) and then apply it. Limit yourself to the Student t-test, the Welch t-test or Wilcoxon's rank-sum test (also sometimes refered to as Whitney-Mann U-test).\n",
    "\n",
    "Everything you may need, is most likely found here:\n",
    "\n",
    "http://docs.scipy.org/doc/scipy-0.17.1/reference/stats.html \n",
    "\n",
    "http://statsmodels.sourceforge.net/stable/graphics.html"
   ]
  },
  {
   "cell_type": "markdown",
   "metadata": {},
   "source": [
    "### Subtask 2.1: Do the CD and HFD samples have equal variance?"
   ]
  },
  {
   "cell_type": "markdown",
   "metadata": {},
   "source": [
    "Josef-Francisco Del-Marre-Doyle, famous and visionary president of the International BXD Society (IBXDS), just gave a celebrated TED-talk in which he reviewed the fact that any statistic associated with the universe is almost surely normally distributed, and hence you canonically assume that the only thing left to check is whether the samples have equal variance, that is whether to apply Student's or Welch's t-test. Josef-Francisco's assessment usually is that \"things are equal\" and so you're quite confident that you'll be able to use Student's t-test. But since you're an excellent scientist (and, additionally, won't pass the course otherwise) you still do the following certainly unnecessary work:"
   ]
  },
  {
   "cell_type": "markdown",
   "metadata": {},
   "source": [
    "#### Subsubtask 2.1.1: Choose a random row of your latest dataframe using the random module of Python"
   ]
  },
  {
   "cell_type": "code",
   "execution_count": null,
   "metadata": {
    "collapsed": false
   },
   "outputs": [],
   "source": []
  },
  {
   "cell_type": "markdown",
   "metadata": {},
   "source": [
    "#### Subsubtask 2.1.2: Make a Q-Q plot comparing the two samples for the just chosen gene and answer the question: Does this tell you anything?"
   ]
  },
  {
   "cell_type": "code",
   "execution_count": null,
   "metadata": {
    "collapsed": false
   },
   "outputs": [],
   "source": []
  },
  {
   "cell_type": "markdown",
   "metadata": {},
   "source": [
    "#### Subsubtask 2.1.3: Apply an appropriate statistical test in order to figure out whether the samples have equal variance (there may be more than one sensible solution)"
   ]
  },
  {
   "cell_type": "code",
   "execution_count": null,
   "metadata": {
    "collapsed": false
   },
   "outputs": [],
   "source": []
  },
  {
   "cell_type": "markdown",
   "metadata": {},
   "source": [
    "#### Subsubtask 2.1.4: To asses the global situation, plot a histogram of p-values for all the genes (using the same test you chose in 2.1.3)"
   ]
  },
  {
   "cell_type": "code",
   "execution_count": null,
   "metadata": {
    "collapsed": false
   },
   "outputs": [],
   "source": []
  },
  {
   "cell_type": "markdown",
   "metadata": {},
   "source": [
    "### Subtask 2.2 Are the CD and HFD samples normally distributed?"
   ]
  },
  {
   "cell_type": "markdown",
   "metadata": {},
   "source": [
    "Utterly shocked and overwhelmed by ambiguous emotions you begin to doubt the wisdom of Josef-Francisco and start a top-secret and highly dangerous investigation whether the samples are at least normally distributed. Be careful whom you'll tell about that you're working on this..."
   ]
  },
  {
   "cell_type": "markdown",
   "metadata": {},
   "source": [
    "#### Subsubtask 2.2.1: Using the same gene randomly chosen above, make a Box plot for the corresponding CD and HFD sample and give an interpretation"
   ]
  },
  {
   "cell_type": "code",
   "execution_count": null,
   "metadata": {
    "collapsed": false
   },
   "outputs": [],
   "source": []
  },
  {
   "cell_type": "markdown",
   "metadata": {},
   "source": [
    "#### Subsubtask 2.2.2: Just like in 2.2.1 make Q-Q plots for each sample (compare each to the theoretical normal distribution) and try an interpretation."
   ]
  },
  {
   "cell_type": "code",
   "execution_count": null,
   "metadata": {
    "collapsed": false
   },
   "outputs": [],
   "source": []
  },
  {
   "cell_type": "markdown",
   "metadata": {},
   "source": [
    "#### Subsubtask 2.2.3: Apply an appropriate statistical test in order to figure out whether the samples are normally distributed (there may be more than one sensible solution)"
   ]
  },
  {
   "cell_type": "code",
   "execution_count": null,
   "metadata": {
    "collapsed": false
   },
   "outputs": [],
   "source": []
  },
  {
   "cell_type": "markdown",
   "metadata": {},
   "source": [
    "#### Subsubtask 2.2.4: To asses the global situation, plot a histogram of p-values for all the genes (using the same test you chose in 2.2.3)"
   ]
  },
  {
   "cell_type": "code",
   "execution_count": null,
   "metadata": {
    "collapsed": false
   },
   "outputs": [],
   "source": []
  },
  {
   "cell_type": "markdown",
   "metadata": {},
   "source": [
    "#### Subsubtask 2.2.5: Write a 1-word essay about whether there is any instrinsic philosophical reason that any data follows a normal distribution"
   ]
  },
  {
   "cell_type": "markdown",
   "metadata": {},
   "source": []
  },
  {
   "cell_type": "markdown",
   "metadata": {},
   "source": [
    "### Subtask 2.3 Choose a suitable statistical test to assess differential expression, apply it to every row, store the results in a suitable dataframe (you may want to order the genes with respect to their p-values) and finally extract a list of differentially expressed genes (5% significance). How many differentially expressed genes do you get?"
   ]
  },
  {
   "cell_type": "code",
   "execution_count": null,
   "metadata": {
    "collapsed": true
   },
   "outputs": [],
   "source": []
  },
  {
   "cell_type": "markdown",
   "metadata": {},
   "source": [
    "## Task 3: Multiple-testing correction"
   ]
  },
  {
   "cell_type": "markdown",
   "metadata": {},
   "source": [
    "You receive an anonymous letter revealing to you that you should do multiple-testing correction, otherwise something awfully bad will happen, or not. Puzzled and shaking you embark on this endeavour.\n",
    "\n",
    "Fredholm, your lab's vodoo priest, is convinced that applying anything else than Bonferroni correction brings death and destruction to the people on the moon. Opportunistically neglecting any potential societal consequences of your actions (technology is neutral after all and who cares about the moon anyway!) you're obsessed to try as many multiple testing procedures as possible.\n",
    "\n",
    "Everything you may need, is most likely found here:\n",
    "\n",
    "http://statsmodels.sourceforge.net/stable/stats.html#multiple-tests-and-multiple-comparison-procedures"
   ]
  },
  {
   "cell_type": "markdown",
   "metadata": {},
   "source": [
    "### Subtask 3.1: For your official report you have to pretend to care about Bonferroni's correction (otherwise it will never pass through Fredholm's office): manually code it (do not use the statsmodels implementation for example) and store the results in a suitable dataframe. How many differentially expressed gene do you get?"
   ]
  },
  {
   "cell_type": "code",
   "execution_count": null,
   "metadata": {
    "collapsed": false
   },
   "outputs": [],
   "source": []
  },
  {
   "cell_type": "markdown",
   "metadata": {},
   "source": [
    "### Subtask 3.2: Apply all multiple testing procedures you can get your hands on (except Bonferroni; now you should use statsmodels) to your uncorrected p-values and store the results in one (!) dataframe. "
   ]
  },
  {
   "cell_type": "code",
   "execution_count": null,
   "metadata": {
    "collapsed": true
   },
   "outputs": [],
   "source": []
  },
  {
   "cell_type": "markdown",
   "metadata": {},
   "source": [
    "### Subtask 3.3: External visual comparison of the different methods\n",
    "1 Write the DE dataframe to a csv file.\n",
    "2 add a row with either 'numeric' or 'factor' as the first row to describe the data schema and save the file\n",
    "3 use [paco](http://parallelcoordinates.de/paco) to visualize your data in parallel coordinates\n",
    "4 which of the multiple testing methods is the most stringent? What's the relation between the others?"
   ]
  },
  {
   "cell_type": "code",
   "execution_count": null,
   "metadata": {
    "collapsed": false
   },
   "outputs": [],
   "source": []
  },
  {
   "cell_type": "markdown",
   "metadata": {},
   "source": [
    "### Subtask 3.4: Select a random method applied in 3.2 and extract the corresponding list of differentially expressed genes. Is this list contain more or less genes than the list from 2.3? Does it contain more or less genes than your Bonferroni list? ;)"
   ]
  },
  {
   "cell_type": "code",
   "execution_count": null,
   "metadata": {
    "collapsed": false
   },
   "outputs": [],
   "source": []
  },
  {
   "cell_type": "markdown",
   "metadata": {},
   "source": [
    "## Task 4: Vulcano plots"
   ]
  },
  {
   "cell_type": "markdown",
   "metadata": {},
   "source": [
    "Marie de la Stratonovich, the devious intellectual opponent of your (former) beloved idol Josef-Francisco Del-Marre-Doyle just received the glorious Popel prize (the first marsian scientist ever to reveive that prize) for copy-pasting the content of the following papers:\n",
    "\n",
    "1) arXiv:1103.3434 (https://arxiv.org/abs/1103.3434)\n",
    "\n",
    "2) http://www.ncbi.nlm.nih.gov/pubmed/23602812 (doi:10.1016/j.compbiolchem.2013.02.003)\n",
    "\n",
    "Overwhelmed by these achievments (and motivated by your ever declining esteem for Josef-Francisco) your're immensely excited about the joyous prospect of carrying out out the following tasks:"
   ]
  },
  {
   "cell_type": "markdown",
   "metadata": {},
   "source": [
    "### Subtask 4.1: Add a log2 fold change column to the data frame from 3.2 and store it as a csv file."
   ]
  },
  {
   "cell_type": "code",
   "execution_count": null,
   "metadata": {
    "collapsed": false
   },
   "outputs": [],
   "source": []
  },
  {
   "cell_type": "markdown",
   "metadata": {},
   "source": [
    "### Subtask 4.2:  Implement a Vulcano plot (from scratch using matplotlib)"
   ]
  },
  {
   "cell_type": "code",
   "execution_count": null,
   "metadata": {
    "collapsed": true
   },
   "outputs": [],
   "source": []
  },
  {
   "cell_type": "markdown",
   "metadata": {},
   "source": [
    "### Subtask 4.3: Apply your Volcano plot implementation to the uncorrected p-values, as well as the corrected p-values from 3.4 (you should have two plots in the end ;))"
   ]
  },
  {
   "cell_type": "code",
   "execution_count": null,
   "metadata": {
    "collapsed": false
   },
   "outputs": [],
   "source": []
  },
  {
   "cell_type": "markdown",
   "metadata": {},
   "source": [
    "## Task 5: RNA-seq"
   ]
  },
  {
   "cell_type": "markdown",
   "metadata": {},
   "source": [
    "There are faint rumours that some supposedly revolutionary technology could also be used to study gene expression. Find out the name of that technology and outline the most striking difference of that technology compared to microarrays from a statistical modeling point of view."
   ]
  },
  {
   "cell_type": "markdown",
   "metadata": {},
   "source": []
  }
 ],
 "metadata": {
  "anaconda-cloud": {},
  "kernelspec": {
   "display_name": "Python [Root]",
   "language": "python",
   "name": "Python [Root]"
  },
  "language_info": {
   "codemirror_mode": {
    "name": "ipython",
    "version": 2
   },
   "file_extension": ".py",
   "mimetype": "text/x-python",
   "name": "python",
   "nbconvert_exporter": "python",
   "pygments_lexer": "ipython2",
   "version": "2.7.12"
  },
  "nav_menu": {},
  "toc": {
   "navigate_menu": true,
   "number_sections": true,
   "sideBar": false,
   "threshold": 6,
   "toc_cell": true,
   "toc_section_display": "block",
   "toc_window_display": false
  }
 },
 "nbformat": 4,
 "nbformat_minor": 0
}
