{
 "cells": [
  {
   "cell_type": "markdown",
   "metadata": {
    "toc": "true"
   },
   "source": [
    "# Table of Contents\n",
    " <p><div class=\"lev1\"><a href=\"#Today's-topics\"><span class=\"toc-item-num\">1&nbsp;&nbsp;</span>Today's topics</a></div><div class=\"lev1\"><a href=\"#GWAS-background\"><span class=\"toc-item-num\">2&nbsp;&nbsp;</span>GWAS background</a></div><div class=\"lev1\"><a href=\"#Useful-Resources\"><span class=\"toc-item-num\">3&nbsp;&nbsp;</span>Useful Resources</a></div><div class=\"lev2\"><a href=\"#Packages\"><span class=\"toc-item-num\">3.1&nbsp;&nbsp;</span>Packages</a></div><div class=\"lev3\"><a href=\"#R\"><span class=\"toc-item-num\">3.1.1&nbsp;&nbsp;</span>R</a></div><div class=\"lev3\"><a href=\"#Python\"><span class=\"toc-item-num\">3.1.2&nbsp;&nbsp;</span>Python</a></div><div class=\"lev2\"><a href=\"#Books\"><span class=\"toc-item-num\">3.2&nbsp;&nbsp;</span>Books</a></div><div class=\"lev2\"><a href=\"#Tutorials\"><span class=\"toc-item-num\">3.3&nbsp;&nbsp;</span>Tutorials</a></div><div class=\"lev1\"><a href=\"#Load-data\"><span class=\"toc-item-num\">4&nbsp;&nbsp;</span>Load data</a></div><div class=\"lev2\"><a href=\"#Load-genotype-data-as-pandas-dataframe\"><span class=\"toc-item-num\">4.1&nbsp;&nbsp;</span>Load genotype data as pandas dataframe</a></div><div class=\"lev2\"><a href=\"#Subtask:-Set-SNP-ID-column-as-index\"><span class=\"toc-item-num\">4.2&nbsp;&nbsp;</span>Subtask: Set SNP-ID column as index</a></div><div class=\"lev2\"><a href=\"#Subtask:-Replace-categorical-data-strings-with-numerical-encoding\"><span class=\"toc-item-num\">4.3&nbsp;&nbsp;</span>Subtask: Replace categorical data strings with numerical encoding</a></div><div class=\"lev2\"><a href=\"#Subtask:-Drop-rows-with-unknown-genotypes\"><span class=\"toc-item-num\">4.4&nbsp;&nbsp;</span>Subtask: Drop rows with unknown genotypes</a></div><div class=\"lev2\"><a href=\"#Dowload-categorical-data-from-genenetworks.org\"><span class=\"toc-item-num\">4.5&nbsp;&nbsp;</span>Dowload categorical data from genenetworks.org</a></div><div class=\"lev2\"><a href=\"#Load-phenotype-data-(coat-color)\"><span class=\"toc-item-num\">4.6&nbsp;&nbsp;</span>Load phenotype data (coat color)</a></div><div class=\"lev2\"><a href=\"#Subtask:-remove-rows-with-missing-data\"><span class=\"toc-item-num\">4.7&nbsp;&nbsp;</span>Subtask: remove rows with missing data</a></div><div class=\"lev2\"><a href=\"#Convert-data-to-numeric\"><span class=\"toc-item-num\">4.8&nbsp;&nbsp;</span>Convert data to numeric</a></div><div class=\"lev1\"><a href=\"#Association-tests-between-variant(s)-and-categorical-phenotype\"><span class=\"toc-item-num\">5&nbsp;&nbsp;</span>Association tests between variant(s) and categorical phenotype</a></div><div class=\"lev2\"><a href=\"#Task:-Perfom-association-test-for-a-single-SNP-using-$\\chi^2$-test-and-odds-ratio\"><span class=\"toc-item-num\">5.1&nbsp;&nbsp;</span>Task: Perfom association test for a single SNP using <span class=\"MathJax_Preview\" style=\"color: inherit;\"></span><span class=\"MathJax\" id=\"MathJax-Element-1-Frame\" tabindex=\"0\" data-mathml=\"<math xmlns=&quot;http://www.w3.org/1998/Math/MathML&quot;><msup><mi>&amp;#x03C7;</mi><mn>2</mn></msup></math>\" role=\"presentation\" style=\"position: relative;\"><nobr aria-hidden=\"true\"><span class=\"math\" id=\"MathJax-Span-1\" role=\"math\" style=\"width: 1.176em; display: inline-block;\"><span style=\"display: inline-block; position: relative; width: 0.987em; height: 0px; font-size: 120%;\"><span style=\"position: absolute; clip: rect(1.252em 1000.99em 2.502em -999.998em); top: -2.195em; left: 0.002em;\"><span class=\"mrow\" id=\"MathJax-Span-2\"><span class=\"msubsup\" id=\"MathJax-Span-3\"><span style=\"display: inline-block; position: relative; width: 0.987em; height: 0px;\"><span style=\"position: absolute; clip: rect(3.449em 1000.49em 4.32em -999.998em); top: -4.013em; left: 0.002em;\"><span class=\"mi\" id=\"MathJax-Span-4\" style=\"font-family: STIXMathJax_Main-italic;\">χ<span style=\"display: inline-block; overflow: hidden; height: 1px; width: 0.04em;\"></span></span><span style=\"display: inline-block; width: 0px; height: 4.017em;\"></span></span><span style=\"position: absolute; top: -4.392em; left: 0.57em;\"><span class=\"mn\" id=\"MathJax-Span-5\" style=\"font-size: 70.7%; font-family: STIXMathJax_Main;\">2</span><span style=\"display: inline-block; width: 0px; height: 4.017em;\"></span></span></span></span></span><span style=\"display: inline-block; width: 0px; height: 2.199em;\"></span></span></span><span style=\"display: inline-block; overflow: hidden; vertical-align: -0.27em; border-left: 0px solid; width: 0px; height: 1.366em;\"></span></span></nobr><span class=\"MJX_Assistive_MathML\" role=\"presentation\"><math xmlns=\"http://www.w3.org/1998/Math/MathML\"><msup><mi>χ</mi><mn>2</mn></msup></math></span></span><script type=\"math/tex\" id=\"MathJax-Element-1\">\\chi^2</script> test and odds ratio</a></div><div class=\"lev3\"><a href=\"#Subtask:-Extract-row-of-a-single-SNP-(e.g.-rs6232550)\"><span class=\"toc-item-num\">5.1.1&nbsp;&nbsp;</span>Subtask: Extract row of a single SNP (e.g. rs6232550)</a></div><div class=\"lev3\"><a href=\"#Subtask:-Remove-all-non-strain-genotye-columns\"><span class=\"toc-item-num\">5.1.2&nbsp;&nbsp;</span>Subtask: Remove all non-strain genotye columns</a></div><div class=\"lev3\"><a href=\"#Subtask:-Transpose-row-so-that-it-has-the-same-format-as-the-genotype-data\"><span class=\"toc-item-num\">5.1.3&nbsp;&nbsp;</span>Subtask: Transpose row so that it has the same format as the genotype data</a></div><div class=\"lev3\"><a href=\"#Subtask:-Combine-SNP-data-with-phenotype-data\"><span class=\"toc-item-num\">5.1.4&nbsp;&nbsp;</span>Subtask: Combine SNP data with phenotype data</a></div><div class=\"lev3\"><a href=\"#Subtask:-Check-that-the-merging-worked\"><span class=\"toc-item-num\">5.1.5&nbsp;&nbsp;</span>Subtask: Check that the merging worked</a></div><div class=\"lev3\"><a href=\"#Subtask:-Plot-relationship-between-genotye-and-phenotype\"><span class=\"toc-item-num\">5.1.6&nbsp;&nbsp;</span>Subtask: Plot relationship between genotye and phenotype</a></div><div class=\"lev3\"><a href=\"#Subtask:-Create-contingency-table-for-a-D-dominant-inheritance-model-of-black-coat-color-and-SNP-rs6232550\"><span class=\"toc-item-num\">5.1.7&nbsp;&nbsp;</span>Subtask: Create contingency table for a D-dominant inheritance model of black coat color and SNP rs6232550</a></div><div class=\"lev3\"><a href=\"#Subtask:-Perform-$\\chi^2$-square-test-for-independence-on-the-contingency-table\"><span class=\"toc-item-num\">5.1.8&nbsp;&nbsp;</span>Subtask: Perform <span class=\"MathJax_Preview\" style=\"color: inherit;\"></span><span class=\"MathJax\" id=\"MathJax-Element-2-Frame\" tabindex=\"0\" data-mathml=\"<math xmlns=&quot;http://www.w3.org/1998/Math/MathML&quot;><msup><mi>&amp;#x03C7;</mi><mn>2</mn></msup></math>\" role=\"presentation\" style=\"position: relative;\"><nobr aria-hidden=\"true\"><span class=\"math\" id=\"MathJax-Span-6\" role=\"math\" style=\"width: 1.16em; display: inline-block;\"><span style=\"display: inline-block; position: relative; width: 0.975em; height: 0px; font-size: 120%;\"><span style=\"position: absolute; clip: rect(1.299em 1000.98em 2.595em -999.998em); top: -2.266em; left: 0.002em;\"><span class=\"mrow\" id=\"MathJax-Span-7\"><span class=\"msubsup\" id=\"MathJax-Span-8\"><span style=\"display: inline-block; position: relative; width: 0.975em; height: 0px;\"><span style=\"position: absolute; clip: rect(3.382em 1000.51em 4.308em -999.998em); top: -3.979em; left: 0.002em;\"><span class=\"mi\" id=\"MathJax-Span-9\" style=\"font-family: STIXMathJax_Main-italic;\">χ<span style=\"display: inline-block; overflow: hidden; height: 1px; width: 0.049em;\"></span></span><span style=\"display: inline-block; width: 0px; height: 3.984em;\"></span></span><span style=\"position: absolute; top: -4.35em; left: 0.558em;\"><span class=\"mn\" id=\"MathJax-Span-10\" style=\"font-size: 70.7%; font-family: STIXMathJax_Main;\">2</span><span style=\"display: inline-block; width: 0px; height: 3.984em;\"></span></span></span></span></span><span style=\"display: inline-block; width: 0px; height: 2.271em;\"></span></span></span><span style=\"display: inline-block; overflow: hidden; vertical-align: -0.275em; border-left: 0px solid; width: 0px; height: 1.392em;\"></span></span></nobr><span class=\"MJX_Assistive_MathML\" role=\"presentation\"><math xmlns=\"http://www.w3.org/1998/Math/MathML\"><msup><mi>χ</mi><mn>2</mn></msup></math></span></span><script type=\"math/tex\" id=\"MathJax-Element-2\">\\chi^2</script> square test for independence on the contingency table</a></div><div class=\"lev3\"><a href=\"#Subtask:-Write-function-to-calculate-odds-ratio-from-a-contingency-table\"><span class=\"toc-item-num\">5.1.9&nbsp;&nbsp;</span>Subtask: Write function to calculate odds ratio from a contingency table</a></div><div class=\"lev2\"><a href=\"#Task:-extend-statistical-method-for-a-penetrance-model-in-which-increasing-numbers-of-A-alleles-confer-a-trend-in-risk-(e.g.-additive-or-dominant)\"><span class=\"toc-item-num\">5.2&nbsp;&nbsp;</span>Task: extend statistical method for a penetrance model in which increasing numbers of A alleles confer a trend in risk (e.g. additive or dominant)</a></div><div class=\"lev3\"><a href=\"#Subtask:-Given-the-data-you-have,-could-you-calculate-this-type-of-statistic-for-your-data?\"><span class=\"toc-item-num\">5.2.1&nbsp;&nbsp;</span>Subtask: Given the data you have, could you calculate this type of statistic for your data?</a></div><div class=\"lev2\"><a href=\"#Task:-Refactor-previous-analysis-steps-into-a-function-and-apply-to-all-SNPs\"><span class=\"toc-item-num\">5.3&nbsp;&nbsp;</span>Task: Refactor previous analysis steps into a function and apply to all SNPs</a></div><div class=\"lev3\"><a href=\"#Subtask:-Create-Manhattan-Plot-of--$-\\log_{10}(\\text{P-value})$-vs-chromosome-position\"><span class=\"toc-item-num\">5.3.1&nbsp;&nbsp;</span>Subtask: Create Manhattan Plot of  <span class=\"MathJax_Preview\" style=\"color: inherit;\"></span><span class=\"MathJax\" id=\"MathJax-Element-6-Frame\" tabindex=\"0\" data-mathml=\"<math xmlns=&quot;http://www.w3.org/1998/Math/MathML&quot;><mo>&amp;#x2212;</mo><msub><mi>log</mi><mrow class=&quot;MJX-TeXAtom-ORD&quot;><mn>10</mn></mrow></msub><mo>&amp;#x2061;</mo><mo stretchy=&quot;false&quot;>(</mo><mtext>P-value</mtext><mo stretchy=&quot;false&quot;>)</mo></math>\" role=\"presentation\" style=\"position: relative;\"><nobr aria-hidden=\"true\"><span class=\"math\" id=\"MathJax-Span-26\" role=\"math\" style=\"width: 7.919em; display: inline-block;\"><span style=\"display: inline-block; position: relative; width: 6.576em; height: 0px; font-size: 120%;\"><span style=\"position: absolute; clip: rect(1.669em 1006.53em 2.919em -999.998em); top: -2.498em; left: 0.002em;\"><span class=\"mrow\" id=\"MathJax-Span-27\"><span class=\"mo\" id=\"MathJax-Span-28\" style=\"font-family: STIXMathJax_Main;\">−</span><span class=\"msubsup\" id=\"MathJax-Span-29\" style=\"padding-left: 0.188em;\"><span style=\"display: inline-block; position: relative; width: 2.039em; height: 0px;\"><span style=\"position: absolute; clip: rect(3.15em 1001.25em 4.354em -999.998em); top: -3.979em; left: 0.002em;\"><span class=\"mi\" id=\"MathJax-Span-30\" style=\"font-family: STIXMathJax_Main;\">log</span><span style=\"display: inline-block; width: 0px; height: 3.984em;\"></span></span><span style=\"position: absolute; top: -3.748em; left: 1.299em;\"><span class=\"texatom\" id=\"MathJax-Span-31\"><span class=\"mrow\" id=\"MathJax-Span-32\"><span class=\"mn\" id=\"MathJax-Span-33\" style=\"font-size: 70.7%; font-family: STIXMathJax_Main;\">10</span></span></span><span style=\"display: inline-block; width: 0px; height: 3.984em;\"></span></span></span></span><span class=\"mo\" id=\"MathJax-Span-34\"></span><span class=\"mo\" id=\"MathJax-Span-35\" style=\"font-family: STIXMathJax_Main;\">(</span><span class=\"mtext\" id=\"MathJax-Span-36\" style=\"font-family: STIXMathJax_Main;\">P-value</span><span class=\"mo\" id=\"MathJax-Span-37\" style=\"font-family: STIXMathJax_Main;\">)</span></span><span style=\"display: inline-block; width: 0px; height: 2.502em;\"></span></span></span><span style=\"display: inline-block; overflow: hidden; vertical-align: -0.386em; border-left: 0px solid; width: 0px; height: 1.225em;\"></span></span></nobr><span class=\"MJX_Assistive_MathML\" role=\"presentation\"><math xmlns=\"http://www.w3.org/1998/Math/MathML\"><mo>−</mo><msub><mi>log</mi><mrow class=\"MJX-TeXAtom-ORD\"><mn>10</mn></mrow></msub><mo>⁡</mo><mo stretchy=\"false\">(</mo><mtext>P-value</mtext><mo stretchy=\"false\">)</mo></math></span></span><script type=\"math/tex\" id=\"MathJax-Element-6\">-\\log_{10}(\\text{P-value})</script> vs chromosome position</a></div><div class=\"lev4\"><a href=\"#Bonus-if-you-have-way-too-much-time:-Try-to-make-plot-interactive-(e.g.-add-tooltips-on-hover-using-mpld3)\"><span class=\"toc-item-num\">5.3.1.1&nbsp;&nbsp;</span>Bonus if you have way too much time: Try to make plot interactive (e.g. add tooltips on hover using mpld3)</a></div><div class=\"lev3\"><a href=\"#Subtask:-If-you-have-time,-adapt-function-so-that-it-also-supports-the-non-dominant-inheritance-models\"><span class=\"toc-item-num\">5.3.2&nbsp;&nbsp;</span>Subtask: If you have time, adapt function so that it also supports the non-dominant inheritance models</a></div><div class=\"lev2\"><a href=\"#Task:-Correct-for-Multiple-Hypothesis-Testing\"><span class=\"toc-item-num\">5.4&nbsp;&nbsp;</span>Task: Correct for Multiple Hypothesis Testing</a></div><div class=\"lev3\"><a href=\"#Subtask:-Wrap-your-MHT-correction-in-a-funtion\"><span class=\"toc-item-num\">5.4.1&nbsp;&nbsp;</span>Subtask: Wrap your MHT correction in a funtion</a></div><div class=\"lev3\"><a href=\"#Subtask:-Test-if-the-function-works-as-intended\"><span class=\"toc-item-num\">5.4.2&nbsp;&nbsp;</span>Subtask: Test if the function works as intended</a></div><div class=\"lev2\"><a href=\"#Task:-Identify-candidate-genes-from-identified-loci\"><span class=\"toc-item-num\">5.5&nbsp;&nbsp;</span>Task: Identify candidate genes from identified loci</a></div><div class=\"lev3\"><a href=\"#Subtask:-Identify-genes-in-region-identified-by-significant-loci-(consider-each-chromosome-separately)\"><span class=\"toc-item-num\">5.5.1&nbsp;&nbsp;</span>Subtask: Identify genes in region identified by significant loci (consider each chromosome separately)</a></div><div class=\"lev3\"><a href=\"#Subtask:-Check-if-the-locations-you-found-match-to-what-is-known-from-literature-about-genetics-of-mouse-coat-color\"><span class=\"toc-item-num\">5.5.2&nbsp;&nbsp;</span>Subtask: Check if the locations you found match to what is known from literature about genetics of mouse coat color</a></div><div class=\"lev1\"><a href=\"#Association-tests-between-variant(s)-and-continuous-phenotype¶\"><span class=\"toc-item-num\">6&nbsp;&nbsp;</span>Association tests between variant(s) and continuous phenotype¶</a></div><div class=\"lev2\"><a href=\"#Task:-Import-relevant-functions-from-scipy\"><span class=\"toc-item-num\">6.1&nbsp;&nbsp;</span>Task: Import relevant functions from scipy</a></div><div class=\"lev2\"><a href=\"#Task:-Load-Phenotype-spreadsheets-from-paper-supplement\"><span class=\"toc-item-num\">6.2&nbsp;&nbsp;</span>Task: Load Phenotype spreadsheets from paper supplement</a></div><div class=\"lev2\"><a href=\"#Task:-Implement-Pearson's-r-based-test-for-correlation\"><span class=\"toc-item-num\">6.3&nbsp;&nbsp;</span>Task: Implement Pearson's r-based test for correlation</a></div><div class=\"lev2\"><a href=\"#Task:-Plot-corresponding-Manhattan-Plot-(using-your-previously-defined-function)\"><span class=\"toc-item-num\">6.4&nbsp;&nbsp;</span>Task: Plot corresponding Manhattan Plot (using your previously defined function)</a></div><div class=\"lev2\"><a href=\"#Task:-Correct-for-multiple-hypothesis-testing\"><span class=\"toc-item-num\">6.5&nbsp;&nbsp;</span>Task: Correct for multiple hypothesis testing</a></div><div class=\"lev1\"><a href=\"#Run-association-tests-for-all-phenotypes-in-Biochemistry,-Hematology,-and-Blood-Pressure\"><span class=\"toc-item-num\">7&nbsp;&nbsp;</span>Run association tests for all phenotypes in Biochemistry, Hematology, and Blood Pressure</a></div><div class=\"lev2\"><a href=\"#Task:-Pick-a-testing-method-from-the-previous-tasks-that-is-applicable-for-the--phenotype-variable-type\"><span class=\"toc-item-num\">7.1&nbsp;&nbsp;</span>Task: Pick a testing method from the previous tasks that is applicable for the  phenotype variable type</a></div><div class=\"lev2\"><a href=\"#Task:-Iteratively-apply-functionality-to-all-phenotypes\"><span class=\"toc-item-num\">7.2&nbsp;&nbsp;</span>Task: Iteratively apply functionality to all phenotypes</a></div><div class=\"lev2\"><a href=\"#Task:-Extract-relevant-information-about-effect-size,-significance,-locus,...\"><span class=\"toc-item-num\">7.3&nbsp;&nbsp;</span>Task: Extract relevant information about effect size, significance, locus,...</a></div><div class=\"lev2\"><a href=\"#Task:-Interpret-results\"><span class=\"toc-item-num\">7.4&nbsp;&nbsp;</span>Task: Interpret results</a></div><div class=\"lev2\"><a href=\"#Task:-For-most-interesting-examples,-try-to-identify-possible-candidate-genes\"><span class=\"toc-item-num\">7.5&nbsp;&nbsp;</span>Task: For most interesting examples, try to identify possible candidate genes</a></div><div class=\"lev2\"><a href=\"#Task:-Quickly-compare-your-results-to-literature\"><span class=\"toc-item-num\">7.6&nbsp;&nbsp;</span>Task: Quickly compare your results to literature</a></div><div class=\"lev2\"><a href=\"#What-confounding-factors-may-have-been-ignored-in-the-current-approach?-How-could-they-be-incorporated?\"><span class=\"toc-item-num\">7.7&nbsp;&nbsp;</span>What confounding factors may have been ignored in the current approach? How could they be incorporated?</a></div><div class=\"lev2\"><a href=\"#Bonus-subtask:-Create-a-QQ-plot-of-the-expected-distribution-of-association-test-statistics-(X-axis)-compared-to-the-observed-values-(Y-axis)\"><span class=\"toc-item-num\">7.8&nbsp;&nbsp;</span>Bonus subtask: Create a QQ-plot of the expected distribution of association test statistics (X-axis) compared to the observed values (Y-axis)</a></div>"
   ]
  },
  {
   "cell_type": "markdown",
   "metadata": {},
   "source": [
    "__Set matplotlib magic__"
   ]
  },
  {
   "cell_type": "code",
   "execution_count": 27,
   "metadata": {
    "collapsed": true,
    "run_control": {
     "frozen": false,
     "read_only": false
    }
   },
   "outputs": [],
   "source": [
    "%matplotlib inline"
   ]
  },
  {
   "cell_type": "markdown",
   "metadata": {},
   "source": [
    "__Imports__"
   ]
  },
  {
   "cell_type": "code",
   "execution_count": 1,
   "metadata": {
    "collapsed": true,
    "run_control": {
     "frozen": false,
     "read_only": false
    }
   },
   "outputs": [],
   "source": [
    "import sys\n",
    "import os\n",
    "import matplotlib.pyplot as plt\n",
    "import seaborn as sns\n",
    "import pandas as pd\n",
    "import numpy as np"
   ]
  },
  {
   "cell_type": "markdown",
   "metadata": {},
   "source": [
    "# Today's topics\n",
    "We will try to find out which phenotypic traits are associated with genetic markers in the BXD mouse population. This will allow us to make statements about the level of heritability of several traits as well as help us identify candidate genes responsible for specific traits.\n",
    "\n",
    "There are several types of studies relevant in this context:\n",
    "\n",
    "* Single gene association studies\n",
    "* Genome wide association studies\n",
    "* Phenotype wide association studies"
   ]
  },
  {
   "cell_type": "markdown",
   "metadata": {},
   "source": [
    "# GWAS background"
   ]
  },
  {
   "cell_type": "markdown",
   "metadata": {},
   "source": [
    "http://www.ncbi.nlm.nih.gov/pmc/articles/PMC2736153/ contains information about how to use genenetwork.org to find coat color phenotype and correlate that to expression levels.\n",
    "\n",
    "There is a multitude of papers and review papers out there that describe the basic and more advanced statistical approaches to GWAS studies. The following two can be considered a good entry point to the subject.\n",
    "* Clarke, G. M. et al. __[Basic statistical analysis in genetic case-control studies](http://www.nature.com/nprot/journal/v6/n2/full/nprot.2010.182.html)__. Nature Protocols 6, 121–133 (2011).\n",
    "* McCarthy, M. I. et al. __[Genome-wide association studies for complex traits: consensus, uncertainty and challenges](http://www.nature.com/nrg/journal/v9/n5/full/nrg2344.html)__. Nature Reviews Genetics 9, 356–369 (2008)."
   ]
  },
  {
   "cell_type": "markdown",
   "metadata": {},
   "source": [
    "# Useful Resources"
   ]
  },
  {
   "cell_type": "markdown",
   "metadata": {},
   "source": [
    "## Packages\n",
    "\n",
    "### R\n",
    "* [Matrix eQTL](http://www.bios.unc.edu/research/genomic_software/Matrix_eQTL/)\n",
    "* [GWAS Tools](http://bioconductor.org/packages/release/bioc/html/GWASTools.html)\n",
    "* [GenABEL](http://www.genabel.org/)\n",
    "\n",
    "\n",
    "### Python\n",
    "* [llmlite](http://kbroman.org/lmmlite/assets/compare2pylmm.html)\n",
    "* [pylmm](http://genetics.cs.ucla.edu/pylmm/)\n",
    "* [fstlmm](http://lomereiter.github.io/2015/02/16/lmm_cov.html)\n",
    "* [pyGWAS](https://github.com/timeu/PyGWAS)\n",
    "* [krux](https://github.com/tmichoel/krux/blob/master/python/kruX.py)"
   ]
  },
  {
   "cell_type": "markdown",
   "metadata": {},
   "source": [
    "## Books\n",
    "* [James, Witten, Hastie, Tibshirani, An Introduction to Statistical Learning, Springer Texts, 2013](http://www-bcf.usc.edu/~gareth/ISL/)      \n",
    "* [MacKay, Information Theory, Inference, and Learning Algorithms, Cambridge University Press, 2005](http://www.inference.phy.cam.ac.uk/itila/book.html)\n",
    "\n",
    "\n",
    "## Tutorials\n",
    "* [Logistic regression](http://blog.yhat.com/posts/logistic-regression-and-python.html)   \n",
    "* [Linear regression](http://www.dataschool.io/linear-regression-in-python/)"
   ]
  },
  {
   "cell_type": "markdown",
   "metadata": {},
   "source": [
    "# Load data\n",
    "Before you can work with the data you have to load it and tidy it up a bit. This includes filtering rows with missing values, making sure that numeric columns are indeed of a numeric data type in the data frame, ..."
   ]
  },
  {
   "cell_type": "markdown",
   "metadata": {},
   "source": [
    "## Load genotype data as pandas dataframe\n",
    "Follow the same procedure as done yesterday. You do not have to download the file again, but can load it from your originally stored location."
   ]
  },
  {
   "cell_type": "markdown",
   "metadata": {},
   "source": [
    "__Define variable with path to data directory__"
   ]
  },
  {
   "cell_type": "code",
   "execution_count": 3,
   "metadata": {
    "collapsed": true,
    "run_control": {
     "frozen": false,
     "read_only": false
    }
   },
   "outputs": [],
   "source": [
    "p = \"/home/engelha/Documents/Praktikum/Integrated_Bioinformatics/notebooks/Day2_Genotype.txt\""
   ]
  },
  {
   "cell_type": "markdown",
   "metadata": {},
   "source": [
    "__Load data__"
   ]
  },
  {
   "cell_type": "code",
   "execution_count": 4,
   "metadata": {
    "collapsed": false,
    "run_control": {
     "frozen": false,
     "read_only": false
    }
   },
   "outputs": [
    {
     "data": {
      "text/html": [
       "<div>\n",
       "<table border=\"1\" class=\"dataframe\">\n",
       "  <thead>\n",
       "    <tr style=\"text-align: right;\">\n",
       "      <th></th>\n",
       "      <th>Unnamed: 0</th>\n",
       "      <th>Chr</th>\n",
       "      <th>Locus</th>\n",
       "      <th>cM</th>\n",
       "      <th>Mb</th>\n",
       "      <th>BXD1</th>\n",
       "      <th>BXD2</th>\n",
       "      <th>BXD5</th>\n",
       "      <th>BXD6</th>\n",
       "      <th>BXD8</th>\n",
       "      <th>...</th>\n",
       "      <th>BXD90</th>\n",
       "      <th>BXD91</th>\n",
       "      <th>BXD93</th>\n",
       "      <th>BXD94</th>\n",
       "      <th>BXD95</th>\n",
       "      <th>BXD98</th>\n",
       "      <th>BXD99</th>\n",
       "      <th>BXD100</th>\n",
       "      <th>BXD101</th>\n",
       "      <th>BXD102</th>\n",
       "    </tr>\n",
       "  </thead>\n",
       "  <tbody>\n",
       "    <tr>\n",
       "      <th>0</th>\n",
       "      <td>0</td>\n",
       "      <td>1</td>\n",
       "      <td>rs6269442</td>\n",
       "      <td>0.000</td>\n",
       "      <td>3.482275</td>\n",
       "      <td>B</td>\n",
       "      <td>B</td>\n",
       "      <td>D</td>\n",
       "      <td>D</td>\n",
       "      <td>D</td>\n",
       "      <td>...</td>\n",
       "      <td>B</td>\n",
       "      <td>D</td>\n",
       "      <td>B</td>\n",
       "      <td>D</td>\n",
       "      <td>D</td>\n",
       "      <td>B</td>\n",
       "      <td>B</td>\n",
       "      <td>B</td>\n",
       "      <td>B</td>\n",
       "      <td>B</td>\n",
       "    </tr>\n",
       "    <tr>\n",
       "      <th>1</th>\n",
       "      <td>1</td>\n",
       "      <td>1</td>\n",
       "      <td>rs6365999</td>\n",
       "      <td>0.000</td>\n",
       "      <td>4.811062</td>\n",
       "      <td>B</td>\n",
       "      <td>B</td>\n",
       "      <td>D</td>\n",
       "      <td>D</td>\n",
       "      <td>D</td>\n",
       "      <td>...</td>\n",
       "      <td>B</td>\n",
       "      <td>D</td>\n",
       "      <td>B</td>\n",
       "      <td>D</td>\n",
       "      <td>D</td>\n",
       "      <td>B</td>\n",
       "      <td>B</td>\n",
       "      <td>B</td>\n",
       "      <td>B</td>\n",
       "      <td>U</td>\n",
       "    </tr>\n",
       "    <tr>\n",
       "      <th>2</th>\n",
       "      <td>2</td>\n",
       "      <td>1</td>\n",
       "      <td>rs6376963</td>\n",
       "      <td>0.895</td>\n",
       "      <td>5.008089</td>\n",
       "      <td>B</td>\n",
       "      <td>B</td>\n",
       "      <td>D</td>\n",
       "      <td>D</td>\n",
       "      <td>D</td>\n",
       "      <td>...</td>\n",
       "      <td>B</td>\n",
       "      <td>D</td>\n",
       "      <td>B</td>\n",
       "      <td>D</td>\n",
       "      <td>D</td>\n",
       "      <td>B</td>\n",
       "      <td>B</td>\n",
       "      <td>B</td>\n",
       "      <td>B</td>\n",
       "      <td>U</td>\n",
       "    </tr>\n",
       "    <tr>\n",
       "      <th>3</th>\n",
       "      <td>3</td>\n",
       "      <td>1</td>\n",
       "      <td>rs3677817</td>\n",
       "      <td>1.185</td>\n",
       "      <td>5.176058</td>\n",
       "      <td>B</td>\n",
       "      <td>B</td>\n",
       "      <td>D</td>\n",
       "      <td>D</td>\n",
       "      <td>D</td>\n",
       "      <td>...</td>\n",
       "      <td>B</td>\n",
       "      <td>D</td>\n",
       "      <td>B</td>\n",
       "      <td>D</td>\n",
       "      <td>D</td>\n",
       "      <td>B</td>\n",
       "      <td>B</td>\n",
       "      <td>B</td>\n",
       "      <td>B</td>\n",
       "      <td>U</td>\n",
       "    </tr>\n",
       "    <tr>\n",
       "      <th>4</th>\n",
       "      <td>4</td>\n",
       "      <td>1</td>\n",
       "      <td>rs8236463</td>\n",
       "      <td>2.081</td>\n",
       "      <td>5.579193</td>\n",
       "      <td>B</td>\n",
       "      <td>B</td>\n",
       "      <td>D</td>\n",
       "      <td>D</td>\n",
       "      <td>D</td>\n",
       "      <td>...</td>\n",
       "      <td>B</td>\n",
       "      <td>D</td>\n",
       "      <td>B</td>\n",
       "      <td>D</td>\n",
       "      <td>D</td>\n",
       "      <td>B</td>\n",
       "      <td>B</td>\n",
       "      <td>B</td>\n",
       "      <td>B</td>\n",
       "      <td>U</td>\n",
       "    </tr>\n",
       "  </tbody>\n",
       "</table>\n",
       "<p>5 rows × 98 columns</p>\n",
       "</div>"
      ],
      "text/plain": [
       "   Unnamed: 0 Chr      Locus     cM        Mb BXD1 BXD2 BXD5 BXD6 BXD8  ...    \\\n",
       "0           0   1  rs6269442  0.000  3.482275    B    B    D    D    D  ...     \n",
       "1           1   1  rs6365999  0.000  4.811062    B    B    D    D    D  ...     \n",
       "2           2   1  rs6376963  0.895  5.008089    B    B    D    D    D  ...     \n",
       "3           3   1  rs3677817  1.185  5.176058    B    B    D    D    D  ...     \n",
       "4           4   1  rs8236463  2.081  5.579193    B    B    D    D    D  ...     \n",
       "\n",
       "  BXD90 BXD91 BXD93 BXD94 BXD95 BXD98 BXD99 BXD100 BXD101 BXD102  \n",
       "0     B     D     B     D     D     B     B      B      B      B  \n",
       "1     B     D     B     D     D     B     B      B      B      U  \n",
       "2     B     D     B     D     D     B     B      B      B      U  \n",
       "3     B     D     B     D     D     B     B      B      B      U  \n",
       "4     B     D     B     D     D     B     B      B      B      U  \n",
       "\n",
       "[5 rows x 98 columns]"
      ]
     },
     "execution_count": 4,
     "metadata": {},
     "output_type": "execute_result"
    }
   ],
   "source": [
    "df_genotype = pd.read_csv(p, sep=\"\\t\")\n",
    "df_genotype.head()"
   ]
  },
  {
   "cell_type": "markdown",
   "metadata": {},
   "source": [
    "## Subtask: Set SNP-ID column as index"
   ]
  },
  {
   "cell_type": "code",
   "execution_count": 5,
   "metadata": {
    "collapsed": false,
    "run_control": {
     "frozen": false,
     "read_only": false
    }
   },
   "outputs": [],
   "source": [
    "df_genotype.set_index(\"Locus\", inplace=True)"
   ]
  },
  {
   "cell_type": "markdown",
   "metadata": {},
   "source": [
    "## Subtask: Replace categorical data strings with numerical encoding\n",
    "\n",
    "Let's assume the following mapping from the categorical variable to integers.\n",
    "\n",
    "|strain| value  |\n",
    "|------|--------|\n",
    "|  B   |  0     |\n",
    "|  H   |  1     |\n",
    "|  D   |  2     |\n",
    "|  U   | missing|"
   ]
  },
  {
   "cell_type": "code",
   "execution_count": 6,
   "metadata": {
    "collapsed": false,
    "run_control": {
     "frozen": false,
     "read_only": false
    }
   },
   "outputs": [
    {
     "data": {
      "text/html": [
       "<div>\n",
       "<table border=\"1\" class=\"dataframe\">\n",
       "  <thead>\n",
       "    <tr style=\"text-align: right;\">\n",
       "      <th></th>\n",
       "      <th>Unnamed: 0</th>\n",
       "      <th>Chr</th>\n",
       "      <th>cM</th>\n",
       "      <th>Mb</th>\n",
       "      <th>BXD1</th>\n",
       "      <th>BXD2</th>\n",
       "      <th>BXD5</th>\n",
       "      <th>BXD6</th>\n",
       "      <th>BXD8</th>\n",
       "      <th>BXD9</th>\n",
       "      <th>...</th>\n",
       "      <th>BXD90</th>\n",
       "      <th>BXD91</th>\n",
       "      <th>BXD93</th>\n",
       "      <th>BXD94</th>\n",
       "      <th>BXD95</th>\n",
       "      <th>BXD98</th>\n",
       "      <th>BXD99</th>\n",
       "      <th>BXD100</th>\n",
       "      <th>BXD101</th>\n",
       "      <th>BXD102</th>\n",
       "    </tr>\n",
       "    <tr>\n",
       "      <th>Locus</th>\n",
       "      <th></th>\n",
       "      <th></th>\n",
       "      <th></th>\n",
       "      <th></th>\n",
       "      <th></th>\n",
       "      <th></th>\n",
       "      <th></th>\n",
       "      <th></th>\n",
       "      <th></th>\n",
       "      <th></th>\n",
       "      <th></th>\n",
       "      <th></th>\n",
       "      <th></th>\n",
       "      <th></th>\n",
       "      <th></th>\n",
       "      <th></th>\n",
       "      <th></th>\n",
       "      <th></th>\n",
       "      <th></th>\n",
       "      <th></th>\n",
       "      <th></th>\n",
       "    </tr>\n",
       "  </thead>\n",
       "  <tbody>\n",
       "    <tr>\n",
       "      <th>rs6269442</th>\n",
       "      <td>0</td>\n",
       "      <td>1</td>\n",
       "      <td>0.000</td>\n",
       "      <td>3.482275</td>\n",
       "      <td>0.0</td>\n",
       "      <td>0.0</td>\n",
       "      <td>2.0</td>\n",
       "      <td>2.0</td>\n",
       "      <td>2.0</td>\n",
       "      <td>0.0</td>\n",
       "      <td>...</td>\n",
       "      <td>0.0</td>\n",
       "      <td>2.0</td>\n",
       "      <td>0.0</td>\n",
       "      <td>2.0</td>\n",
       "      <td>2.0</td>\n",
       "      <td>0.0</td>\n",
       "      <td>0.0</td>\n",
       "      <td>0.0</td>\n",
       "      <td>0.0</td>\n",
       "      <td>0.0</td>\n",
       "    </tr>\n",
       "    <tr>\n",
       "      <th>rs6365999</th>\n",
       "      <td>1</td>\n",
       "      <td>1</td>\n",
       "      <td>0.000</td>\n",
       "      <td>4.811062</td>\n",
       "      <td>0.0</td>\n",
       "      <td>0.0</td>\n",
       "      <td>2.0</td>\n",
       "      <td>2.0</td>\n",
       "      <td>2.0</td>\n",
       "      <td>0.0</td>\n",
       "      <td>...</td>\n",
       "      <td>0.0</td>\n",
       "      <td>2.0</td>\n",
       "      <td>0.0</td>\n",
       "      <td>2.0</td>\n",
       "      <td>2.0</td>\n",
       "      <td>0.0</td>\n",
       "      <td>0.0</td>\n",
       "      <td>0.0</td>\n",
       "      <td>0.0</td>\n",
       "      <td>NaN</td>\n",
       "    </tr>\n",
       "    <tr>\n",
       "      <th>rs6376963</th>\n",
       "      <td>2</td>\n",
       "      <td>1</td>\n",
       "      <td>0.895</td>\n",
       "      <td>5.008089</td>\n",
       "      <td>0.0</td>\n",
       "      <td>0.0</td>\n",
       "      <td>2.0</td>\n",
       "      <td>2.0</td>\n",
       "      <td>2.0</td>\n",
       "      <td>0.0</td>\n",
       "      <td>...</td>\n",
       "      <td>0.0</td>\n",
       "      <td>2.0</td>\n",
       "      <td>0.0</td>\n",
       "      <td>2.0</td>\n",
       "      <td>2.0</td>\n",
       "      <td>0.0</td>\n",
       "      <td>0.0</td>\n",
       "      <td>0.0</td>\n",
       "      <td>0.0</td>\n",
       "      <td>NaN</td>\n",
       "    </tr>\n",
       "    <tr>\n",
       "      <th>rs3677817</th>\n",
       "      <td>3</td>\n",
       "      <td>1</td>\n",
       "      <td>1.185</td>\n",
       "      <td>5.176058</td>\n",
       "      <td>0.0</td>\n",
       "      <td>0.0</td>\n",
       "      <td>2.0</td>\n",
       "      <td>2.0</td>\n",
       "      <td>2.0</td>\n",
       "      <td>0.0</td>\n",
       "      <td>...</td>\n",
       "      <td>0.0</td>\n",
       "      <td>2.0</td>\n",
       "      <td>0.0</td>\n",
       "      <td>2.0</td>\n",
       "      <td>2.0</td>\n",
       "      <td>0.0</td>\n",
       "      <td>0.0</td>\n",
       "      <td>0.0</td>\n",
       "      <td>0.0</td>\n",
       "      <td>NaN</td>\n",
       "    </tr>\n",
       "    <tr>\n",
       "      <th>rs8236463</th>\n",
       "      <td>4</td>\n",
       "      <td>1</td>\n",
       "      <td>2.081</td>\n",
       "      <td>5.579193</td>\n",
       "      <td>0.0</td>\n",
       "      <td>0.0</td>\n",
       "      <td>2.0</td>\n",
       "      <td>2.0</td>\n",
       "      <td>2.0</td>\n",
       "      <td>0.0</td>\n",
       "      <td>...</td>\n",
       "      <td>0.0</td>\n",
       "      <td>2.0</td>\n",
       "      <td>0.0</td>\n",
       "      <td>2.0</td>\n",
       "      <td>2.0</td>\n",
       "      <td>0.0</td>\n",
       "      <td>0.0</td>\n",
       "      <td>0.0</td>\n",
       "      <td>0.0</td>\n",
       "      <td>NaN</td>\n",
       "    </tr>\n",
       "  </tbody>\n",
       "</table>\n",
       "<p>5 rows × 97 columns</p>\n",
       "</div>"
      ],
      "text/plain": [
       "           Unnamed: 0 Chr     cM        Mb  BXD1  BXD2  BXD5  BXD6  BXD8  \\\n",
       "Locus                                                                      \n",
       "rs6269442           0   1  0.000  3.482275   0.0   0.0   2.0   2.0   2.0   \n",
       "rs6365999           1   1  0.000  4.811062   0.0   0.0   2.0   2.0   2.0   \n",
       "rs6376963           2   1  0.895  5.008089   0.0   0.0   2.0   2.0   2.0   \n",
       "rs3677817           3   1  1.185  5.176058   0.0   0.0   2.0   2.0   2.0   \n",
       "rs8236463           4   1  2.081  5.579193   0.0   0.0   2.0   2.0   2.0   \n",
       "\n",
       "           BXD9   ...    BXD90  BXD91  BXD93  BXD94  BXD95  BXD98  BXD99  \\\n",
       "Locus             ...                                                      \n",
       "rs6269442   0.0   ...      0.0    2.0    0.0    2.0    2.0    0.0    0.0   \n",
       "rs6365999   0.0   ...      0.0    2.0    0.0    2.0    2.0    0.0    0.0   \n",
       "rs6376963   0.0   ...      0.0    2.0    0.0    2.0    2.0    0.0    0.0   \n",
       "rs3677817   0.0   ...      0.0    2.0    0.0    2.0    2.0    0.0    0.0   \n",
       "rs8236463   0.0   ...      0.0    2.0    0.0    2.0    2.0    0.0    0.0   \n",
       "\n",
       "           BXD100  BXD101  BXD102  \n",
       "Locus                              \n",
       "rs6269442     0.0     0.0     0.0  \n",
       "rs6365999     0.0     0.0     NaN  \n",
       "rs6376963     0.0     0.0     NaN  \n",
       "rs3677817     0.0     0.0     NaN  \n",
       "rs8236463     0.0     0.0     NaN  \n",
       "\n",
       "[5 rows x 97 columns]"
      ]
     },
     "execution_count": 6,
     "metadata": {},
     "output_type": "execute_result"
    }
   ],
   "source": [
    "df_genotype.replace(\"B\", 0.0, inplace=True)\n",
    "df_genotype.replace(\"D\", 2.0, inplace=True)\n",
    "df_genotype.replace(\"H\", 1.0, inplace=True)\n",
    "df_genotype.replace(\"U\", np.nan, inplace=True)\n",
    "df_genotype.head()"
   ]
  },
  {
   "cell_type": "markdown",
   "metadata": {},
   "source": [
    "## Subtask: Drop rows with unknown genotypes"
   ]
  },
  {
   "cell_type": "code",
   "execution_count": 7,
   "metadata": {
    "collapsed": false,
    "run_control": {
     "frozen": false,
     "read_only": false
    }
   },
   "outputs": [
    {
     "data": {
      "text/html": [
       "<div>\n",
       "<table border=\"1\" class=\"dataframe\">\n",
       "  <thead>\n",
       "    <tr style=\"text-align: right;\">\n",
       "      <th></th>\n",
       "      <th>Chr</th>\n",
       "      <th>cM</th>\n",
       "      <th>Mb</th>\n",
       "      <th>BXD1</th>\n",
       "      <th>BXD2</th>\n",
       "      <th>BXD5</th>\n",
       "      <th>BXD6</th>\n",
       "      <th>BXD8</th>\n",
       "      <th>BXD9</th>\n",
       "      <th>BXD11</th>\n",
       "      <th>...</th>\n",
       "      <th>BXD90</th>\n",
       "      <th>BXD91</th>\n",
       "      <th>BXD93</th>\n",
       "      <th>BXD94</th>\n",
       "      <th>BXD95</th>\n",
       "      <th>BXD98</th>\n",
       "      <th>BXD99</th>\n",
       "      <th>BXD100</th>\n",
       "      <th>BXD101</th>\n",
       "      <th>BXD102</th>\n",
       "    </tr>\n",
       "    <tr>\n",
       "      <th>Locus</th>\n",
       "      <th></th>\n",
       "      <th></th>\n",
       "      <th></th>\n",
       "      <th></th>\n",
       "      <th></th>\n",
       "      <th></th>\n",
       "      <th></th>\n",
       "      <th></th>\n",
       "      <th></th>\n",
       "      <th></th>\n",
       "      <th></th>\n",
       "      <th></th>\n",
       "      <th></th>\n",
       "      <th></th>\n",
       "      <th></th>\n",
       "      <th></th>\n",
       "      <th></th>\n",
       "      <th></th>\n",
       "      <th></th>\n",
       "      <th></th>\n",
       "      <th></th>\n",
       "    </tr>\n",
       "  </thead>\n",
       "  <tbody>\n",
       "    <tr>\n",
       "      <th>rs6269442</th>\n",
       "      <td>1</td>\n",
       "      <td>0.000</td>\n",
       "      <td>3.482275</td>\n",
       "      <td>0.0</td>\n",
       "      <td>0.0</td>\n",
       "      <td>2.0</td>\n",
       "      <td>2.0</td>\n",
       "      <td>2.0</td>\n",
       "      <td>0.0</td>\n",
       "      <td>0.0</td>\n",
       "      <td>...</td>\n",
       "      <td>0.0</td>\n",
       "      <td>2.0</td>\n",
       "      <td>0.0</td>\n",
       "      <td>2.0</td>\n",
       "      <td>2.0</td>\n",
       "      <td>0.0</td>\n",
       "      <td>0.0</td>\n",
       "      <td>0.0</td>\n",
       "      <td>0.0</td>\n",
       "      <td>0.0</td>\n",
       "    </tr>\n",
       "    <tr>\n",
       "      <th>rs6241531</th>\n",
       "      <td>1</td>\n",
       "      <td>2.367</td>\n",
       "      <td>9.995925</td>\n",
       "      <td>0.0</td>\n",
       "      <td>0.0</td>\n",
       "      <td>2.0</td>\n",
       "      <td>2.0</td>\n",
       "      <td>2.0</td>\n",
       "      <td>0.0</td>\n",
       "      <td>2.0</td>\n",
       "      <td>...</td>\n",
       "      <td>0.0</td>\n",
       "      <td>2.0</td>\n",
       "      <td>0.0</td>\n",
       "      <td>2.0</td>\n",
       "      <td>2.0</td>\n",
       "      <td>0.0</td>\n",
       "      <td>0.0</td>\n",
       "      <td>0.0</td>\n",
       "      <td>0.0</td>\n",
       "      <td>2.0</td>\n",
       "    </tr>\n",
       "    <tr>\n",
       "      <th>rs6360236</th>\n",
       "      <td>1</td>\n",
       "      <td>3.263</td>\n",
       "      <td>11.073904</td>\n",
       "      <td>0.0</td>\n",
       "      <td>0.0</td>\n",
       "      <td>2.0</td>\n",
       "      <td>2.0</td>\n",
       "      <td>2.0</td>\n",
       "      <td>0.0</td>\n",
       "      <td>2.0</td>\n",
       "      <td>...</td>\n",
       "      <td>0.0</td>\n",
       "      <td>2.0</td>\n",
       "      <td>0.0</td>\n",
       "      <td>2.0</td>\n",
       "      <td>2.0</td>\n",
       "      <td>0.0</td>\n",
       "      <td>0.0</td>\n",
       "      <td>0.0</td>\n",
       "      <td>0.0</td>\n",
       "      <td>2.0</td>\n",
       "    </tr>\n",
       "    <tr>\n",
       "      <th>rs3722996</th>\n",
       "      <td>1</td>\n",
       "      <td>3.263</td>\n",
       "      <td>11.259432</td>\n",
       "      <td>0.0</td>\n",
       "      <td>0.0</td>\n",
       "      <td>2.0</td>\n",
       "      <td>2.0</td>\n",
       "      <td>2.0</td>\n",
       "      <td>0.0</td>\n",
       "      <td>2.0</td>\n",
       "      <td>...</td>\n",
       "      <td>0.0</td>\n",
       "      <td>2.0</td>\n",
       "      <td>0.0</td>\n",
       "      <td>2.0</td>\n",
       "      <td>2.0</td>\n",
       "      <td>0.0</td>\n",
       "      <td>0.0</td>\n",
       "      <td>0.0</td>\n",
       "      <td>0.0</td>\n",
       "      <td>2.0</td>\n",
       "    </tr>\n",
       "    <tr>\n",
       "      <th>D1Mit1</th>\n",
       "      <td>1</td>\n",
       "      <td>3.549</td>\n",
       "      <td>11.505582</td>\n",
       "      <td>0.0</td>\n",
       "      <td>0.0</td>\n",
       "      <td>2.0</td>\n",
       "      <td>2.0</td>\n",
       "      <td>2.0</td>\n",
       "      <td>0.0</td>\n",
       "      <td>2.0</td>\n",
       "      <td>...</td>\n",
       "      <td>0.0</td>\n",
       "      <td>2.0</td>\n",
       "      <td>0.0</td>\n",
       "      <td>2.0</td>\n",
       "      <td>2.0</td>\n",
       "      <td>0.0</td>\n",
       "      <td>0.0</td>\n",
       "      <td>0.0</td>\n",
       "      <td>0.0</td>\n",
       "      <td>2.0</td>\n",
       "    </tr>\n",
       "  </tbody>\n",
       "</table>\n",
       "<p>5 rows × 96 columns</p>\n",
       "</div>"
      ],
      "text/plain": [
       "          Chr     cM         Mb  BXD1  BXD2  BXD5  BXD6  BXD8  BXD9  BXD11  \\\n",
       "Locus                                                                        \n",
       "rs6269442   1  0.000   3.482275   0.0   0.0   2.0   2.0   2.0   0.0    0.0   \n",
       "rs6241531   1  2.367   9.995925   0.0   0.0   2.0   2.0   2.0   0.0    2.0   \n",
       "rs6360236   1  3.263  11.073904   0.0   0.0   2.0   2.0   2.0   0.0    2.0   \n",
       "rs3722996   1  3.263  11.259432   0.0   0.0   2.0   2.0   2.0   0.0    2.0   \n",
       "D1Mit1      1  3.549  11.505582   0.0   0.0   2.0   2.0   2.0   0.0    2.0   \n",
       "\n",
       "            ...    BXD90  BXD91  BXD93  BXD94  BXD95  BXD98  BXD99  BXD100  \\\n",
       "Locus       ...                                                              \n",
       "rs6269442   ...      0.0    2.0    0.0    2.0    2.0    0.0    0.0     0.0   \n",
       "rs6241531   ...      0.0    2.0    0.0    2.0    2.0    0.0    0.0     0.0   \n",
       "rs6360236   ...      0.0    2.0    0.0    2.0    2.0    0.0    0.0     0.0   \n",
       "rs3722996   ...      0.0    2.0    0.0    2.0    2.0    0.0    0.0     0.0   \n",
       "D1Mit1      ...      0.0    2.0    0.0    2.0    2.0    0.0    0.0     0.0   \n",
       "\n",
       "           BXD101  BXD102  \n",
       "Locus                      \n",
       "rs6269442     0.0     0.0  \n",
       "rs6241531     0.0     2.0  \n",
       "rs6360236     0.0     2.0  \n",
       "rs3722996     0.0     2.0  \n",
       "D1Mit1        0.0     2.0  \n",
       "\n",
       "[5 rows x 96 columns]"
      ]
     },
     "execution_count": 7,
     "metadata": {},
     "output_type": "execute_result"
    }
   ],
   "source": [
    "df_genotype.dropna(0,how=\"any\", inplace=True)\n",
    "dropped =  [col for col in df_genotype.columns if 'Unnamed' in col]\n",
    "df_genotype.drop(dropped, 1, inplace=True)\n",
    "df_genotype.head()\n"
   ]
  },
  {
   "cell_type": "code",
   "execution_count": 8,
   "metadata": {
    "collapsed": false
   },
   "outputs": [
    {
     "data": {
      "text/plain": [
       "2605"
      ]
     },
     "execution_count": 8,
     "metadata": {},
     "output_type": "execute_result"
    }
   ],
   "source": [
    "len(df_genotype)"
   ]
  },
  {
   "cell_type": "code",
   "execution_count": 9,
   "metadata": {
    "collapsed": false
   },
   "outputs": [
    {
     "data": {
      "text/html": [
       "<div>\n",
       "<table border=\"1\" class=\"dataframe\">\n",
       "  <thead>\n",
       "    <tr style=\"text-align: right;\">\n",
       "      <th></th>\n",
       "      <th>Chr</th>\n",
       "      <th>cM</th>\n",
       "      <th>Mb</th>\n",
       "      <th>BXD1</th>\n",
       "      <th>BXD2</th>\n",
       "      <th>BXD5</th>\n",
       "      <th>BXD6</th>\n",
       "      <th>BXD8</th>\n",
       "      <th>BXD9</th>\n",
       "      <th>BXD11</th>\n",
       "      <th>...</th>\n",
       "      <th>BXD90</th>\n",
       "      <th>BXD91</th>\n",
       "      <th>BXD93</th>\n",
       "      <th>BXD94</th>\n",
       "      <th>BXD95</th>\n",
       "      <th>BXD98</th>\n",
       "      <th>BXD99</th>\n",
       "      <th>BXD100</th>\n",
       "      <th>BXD101</th>\n",
       "      <th>BXD102</th>\n",
       "    </tr>\n",
       "    <tr>\n",
       "      <th>Locus</th>\n",
       "      <th></th>\n",
       "      <th></th>\n",
       "      <th></th>\n",
       "      <th></th>\n",
       "      <th></th>\n",
       "      <th></th>\n",
       "      <th></th>\n",
       "      <th></th>\n",
       "      <th></th>\n",
       "      <th></th>\n",
       "      <th></th>\n",
       "      <th></th>\n",
       "      <th></th>\n",
       "      <th></th>\n",
       "      <th></th>\n",
       "      <th></th>\n",
       "      <th></th>\n",
       "      <th></th>\n",
       "      <th></th>\n",
       "      <th></th>\n",
       "      <th></th>\n",
       "    </tr>\n",
       "  </thead>\n",
       "  <tbody>\n",
       "    <tr>\n",
       "      <th>rs6269442</th>\n",
       "      <td>1</td>\n",
       "      <td>0.000</td>\n",
       "      <td>3.482275</td>\n",
       "      <td>0.0</td>\n",
       "      <td>0.0</td>\n",
       "      <td>2.0</td>\n",
       "      <td>2.0</td>\n",
       "      <td>2.0</td>\n",
       "      <td>0.0</td>\n",
       "      <td>0.0</td>\n",
       "      <td>...</td>\n",
       "      <td>0.0</td>\n",
       "      <td>2.0</td>\n",
       "      <td>0.0</td>\n",
       "      <td>2.0</td>\n",
       "      <td>2.0</td>\n",
       "      <td>0.0</td>\n",
       "      <td>0.0</td>\n",
       "      <td>0.0</td>\n",
       "      <td>0.0</td>\n",
       "      <td>0.0</td>\n",
       "    </tr>\n",
       "    <tr>\n",
       "      <th>rs6241531</th>\n",
       "      <td>1</td>\n",
       "      <td>2.367</td>\n",
       "      <td>9.995925</td>\n",
       "      <td>0.0</td>\n",
       "      <td>0.0</td>\n",
       "      <td>2.0</td>\n",
       "      <td>2.0</td>\n",
       "      <td>2.0</td>\n",
       "      <td>0.0</td>\n",
       "      <td>2.0</td>\n",
       "      <td>...</td>\n",
       "      <td>0.0</td>\n",
       "      <td>2.0</td>\n",
       "      <td>0.0</td>\n",
       "      <td>2.0</td>\n",
       "      <td>2.0</td>\n",
       "      <td>0.0</td>\n",
       "      <td>0.0</td>\n",
       "      <td>0.0</td>\n",
       "      <td>0.0</td>\n",
       "      <td>2.0</td>\n",
       "    </tr>\n",
       "    <tr>\n",
       "      <th>rs6360236</th>\n",
       "      <td>1</td>\n",
       "      <td>3.263</td>\n",
       "      <td>11.073904</td>\n",
       "      <td>0.0</td>\n",
       "      <td>0.0</td>\n",
       "      <td>2.0</td>\n",
       "      <td>2.0</td>\n",
       "      <td>2.0</td>\n",
       "      <td>0.0</td>\n",
       "      <td>2.0</td>\n",
       "      <td>...</td>\n",
       "      <td>0.0</td>\n",
       "      <td>2.0</td>\n",
       "      <td>0.0</td>\n",
       "      <td>2.0</td>\n",
       "      <td>2.0</td>\n",
       "      <td>0.0</td>\n",
       "      <td>0.0</td>\n",
       "      <td>0.0</td>\n",
       "      <td>0.0</td>\n",
       "      <td>2.0</td>\n",
       "    </tr>\n",
       "    <tr>\n",
       "      <th>rs3722996</th>\n",
       "      <td>1</td>\n",
       "      <td>3.263</td>\n",
       "      <td>11.259432</td>\n",
       "      <td>0.0</td>\n",
       "      <td>0.0</td>\n",
       "      <td>2.0</td>\n",
       "      <td>2.0</td>\n",
       "      <td>2.0</td>\n",
       "      <td>0.0</td>\n",
       "      <td>2.0</td>\n",
       "      <td>...</td>\n",
       "      <td>0.0</td>\n",
       "      <td>2.0</td>\n",
       "      <td>0.0</td>\n",
       "      <td>2.0</td>\n",
       "      <td>2.0</td>\n",
       "      <td>0.0</td>\n",
       "      <td>0.0</td>\n",
       "      <td>0.0</td>\n",
       "      <td>0.0</td>\n",
       "      <td>2.0</td>\n",
       "    </tr>\n",
       "    <tr>\n",
       "      <th>D1Mit1</th>\n",
       "      <td>1</td>\n",
       "      <td>3.549</td>\n",
       "      <td>11.505582</td>\n",
       "      <td>0.0</td>\n",
       "      <td>0.0</td>\n",
       "      <td>2.0</td>\n",
       "      <td>2.0</td>\n",
       "      <td>2.0</td>\n",
       "      <td>0.0</td>\n",
       "      <td>2.0</td>\n",
       "      <td>...</td>\n",
       "      <td>0.0</td>\n",
       "      <td>2.0</td>\n",
       "      <td>0.0</td>\n",
       "      <td>2.0</td>\n",
       "      <td>2.0</td>\n",
       "      <td>0.0</td>\n",
       "      <td>0.0</td>\n",
       "      <td>0.0</td>\n",
       "      <td>0.0</td>\n",
       "      <td>2.0</td>\n",
       "    </tr>\n",
       "  </tbody>\n",
       "</table>\n",
       "<p>5 rows × 96 columns</p>\n",
       "</div>"
      ],
      "text/plain": [
       "          Chr     cM         Mb  BXD1  BXD2  BXD5  BXD6  BXD8  BXD9  BXD11  \\\n",
       "Locus                                                                        \n",
       "rs6269442   1  0.000   3.482275   0.0   0.0   2.0   2.0   2.0   0.0    0.0   \n",
       "rs6241531   1  2.367   9.995925   0.0   0.0   2.0   2.0   2.0   0.0    2.0   \n",
       "rs6360236   1  3.263  11.073904   0.0   0.0   2.0   2.0   2.0   0.0    2.0   \n",
       "rs3722996   1  3.263  11.259432   0.0   0.0   2.0   2.0   2.0   0.0    2.0   \n",
       "D1Mit1      1  3.549  11.505582   0.0   0.0   2.0   2.0   2.0   0.0    2.0   \n",
       "\n",
       "            ...    BXD90  BXD91  BXD93  BXD94  BXD95  BXD98  BXD99  BXD100  \\\n",
       "Locus       ...                                                              \n",
       "rs6269442   ...      0.0    2.0    0.0    2.0    2.0    0.0    0.0     0.0   \n",
       "rs6241531   ...      0.0    2.0    0.0    2.0    2.0    0.0    0.0     0.0   \n",
       "rs6360236   ...      0.0    2.0    0.0    2.0    2.0    0.0    0.0     0.0   \n",
       "rs3722996   ...      0.0    2.0    0.0    2.0    2.0    0.0    0.0     0.0   \n",
       "D1Mit1      ...      0.0    2.0    0.0    2.0    2.0    0.0    0.0     0.0   \n",
       "\n",
       "           BXD101  BXD102  \n",
       "Locus                      \n",
       "rs6269442     0.0     0.0  \n",
       "rs6241531     0.0     2.0  \n",
       "rs6360236     0.0     2.0  \n",
       "rs3722996     0.0     2.0  \n",
       "D1Mit1        0.0     2.0  \n",
       "\n",
       "[5 rows x 96 columns]"
      ]
     },
     "execution_count": 9,
     "metadata": {},
     "output_type": "execute_result"
    }
   ],
   "source": [
    "#df_genotype.drop([\"Chr\", \"cM\", \"Mb\"], 1,inplace=True)\n",
    "df_genotype.head()"
   ]
  },
  {
   "cell_type": "markdown",
   "metadata": {},
   "source": [
    "## Dowload categorical data from genenetworks.org"
   ]
  },
  {
   "cell_type": "markdown",
   "metadata": {},
   "source": [
    "Most mouse phenotype data is available at genenetwork.org. This includes nearly all published phenotype measurements. You can access individual measurements from that repository using the search mask:\n",
    "1. Go to http://gn2.genenetwork.org/\n",
    "2. In \"Select and Search\" fill in:\n",
    "    1. Species: Mouse\n",
    "    2. Group: BXD\n",
    "    3. Type: Phenotypes\n",
    "    4. Dataset: BXD Published Phenotypes\n",
    "3. Enter the <trait of interest> in the \"Get any\" field\n",
    "4. Search\n",
    "\n",
    "For getting data on the coat color of BXD mice use \"coat color\" as search term and select RecordID/11280 to get to the corresponding __Trait Data and Analysis__ page. There you can download the data as text file."
   ]
  },
  {
   "cell_type": "markdown",
   "metadata": {
    "collapsed": true,
    "run_control": {
     "frozen": false,
     "read_only": false
    }
   },
   "source": [
    "## Load phenotype data (coat color)"
   ]
  },
  {
   "cell_type": "markdown",
   "metadata": {},
   "source": [
    "From the source of the genotype data we know the mapping between the categorical color value\n",
    "and the actual color.\n",
    "\n",
    "|color  | value  |\n",
    "|-------|--------|\n",
    "| black |  4     |\n",
    "| grey  |  3     |\n",
    "| brown |  2     |\n",
    "| dilute|  1     |"
   ]
  },
  {
   "cell_type": "code",
   "execution_count": 10,
   "metadata": {
    "collapsed": false,
    "run_control": {
     "frozen": false,
     "read_only": false
    }
   },
   "outputs": [],
   "source": [
    "df_phenotype = pd.read_csv(\"/home/engelha/Documents/Praktikum/Integrated_Bioinformatics/notebooks/Day3_files/sample_data.csv\", header=None, names=(\"strains\", \"color_value\"))"
   ]
  },
  {
   "cell_type": "markdown",
   "metadata": {},
   "source": [
    "__Set index to strain names__"
   ]
  },
  {
   "cell_type": "code",
   "execution_count": 11,
   "metadata": {
    "collapsed": false,
    "run_control": {
     "frozen": false,
     "read_only": false
    }
   },
   "outputs": [
    {
     "data": {
      "text/html": [
       "<div>\n",
       "<table border=\"1\" class=\"dataframe\">\n",
       "  <thead>\n",
       "    <tr style=\"text-align: right;\">\n",
       "      <th></th>\n",
       "      <th>color_value</th>\n",
       "    </tr>\n",
       "    <tr>\n",
       "      <th>strains</th>\n",
       "      <th></th>\n",
       "    </tr>\n",
       "  </thead>\n",
       "  <tbody>\n",
       "    <tr>\n",
       "      <th>C57BL/6J</th>\n",
       "      <td>4.000</td>\n",
       "    </tr>\n",
       "    <tr>\n",
       "      <th>DBA/2J</th>\n",
       "      <td>1.000</td>\n",
       "    </tr>\n",
       "    <tr>\n",
       "      <th>B6D2F1</th>\n",
       "      <td>4.000</td>\n",
       "    </tr>\n",
       "    <tr>\n",
       "      <th>D2B6F1</th>\n",
       "      <td>4.000</td>\n",
       "    </tr>\n",
       "    <tr>\n",
       "      <th>BXD1</th>\n",
       "      <td>1.000</td>\n",
       "    </tr>\n",
       "  </tbody>\n",
       "</table>\n",
       "</div>"
      ],
      "text/plain": [
       "         color_value\n",
       "strains             \n",
       "C57BL/6J       4.000\n",
       "DBA/2J         1.000\n",
       "B6D2F1         4.000\n",
       "D2B6F1         4.000\n",
       "BXD1           1.000"
      ]
     },
     "execution_count": 11,
     "metadata": {},
     "output_type": "execute_result"
    }
   ],
   "source": [
    "df_phenotype.set_index(\"strains\", inplace=True)\n",
    "df_phenotype.head()"
   ]
  },
  {
   "cell_type": "markdown",
   "metadata": {},
   "source": [
    "## Subtask: remove rows with missing data"
   ]
  },
  {
   "cell_type": "code",
   "execution_count": 12,
   "metadata": {
    "collapsed": true,
    "run_control": {
     "frozen": false,
     "read_only": false
    }
   },
   "outputs": [],
   "source": [
    "df_phenotype.replace(\"x\", np.nan, inplace=True)\n",
    "df_phenotype.dropna(0, how=\"any\", inplace=True)"
   ]
  },
  {
   "cell_type": "code",
   "execution_count": 13,
   "metadata": {
    "collapsed": false,
    "run_control": {
     "frozen": false,
     "read_only": false
    }
   },
   "outputs": [
    {
     "data": {
      "text/html": [
       "<div>\n",
       "<table border=\"1\" class=\"dataframe\">\n",
       "  <thead>\n",
       "    <tr style=\"text-align: right;\">\n",
       "      <th></th>\n",
       "      <th>color_value</th>\n",
       "    </tr>\n",
       "    <tr>\n",
       "      <th>strains</th>\n",
       "      <th></th>\n",
       "    </tr>\n",
       "  </thead>\n",
       "  <tbody>\n",
       "    <tr>\n",
       "      <th>C57BL/6J</th>\n",
       "      <td>4.000</td>\n",
       "    </tr>\n",
       "    <tr>\n",
       "      <th>DBA/2J</th>\n",
       "      <td>1.000</td>\n",
       "    </tr>\n",
       "    <tr>\n",
       "      <th>B6D2F1</th>\n",
       "      <td>4.000</td>\n",
       "    </tr>\n",
       "    <tr>\n",
       "      <th>D2B6F1</th>\n",
       "      <td>4.000</td>\n",
       "    </tr>\n",
       "    <tr>\n",
       "      <th>BXD1</th>\n",
       "      <td>1.000</td>\n",
       "    </tr>\n",
       "  </tbody>\n",
       "</table>\n",
       "</div>"
      ],
      "text/plain": [
       "         color_value\n",
       "strains             \n",
       "C57BL/6J       4.000\n",
       "DBA/2J         1.000\n",
       "B6D2F1         4.000\n",
       "D2B6F1         4.000\n",
       "BXD1           1.000"
      ]
     },
     "execution_count": 13,
     "metadata": {},
     "output_type": "execute_result"
    }
   ],
   "source": [
    "df_phenotype.head()"
   ]
  },
  {
   "cell_type": "markdown",
   "metadata": {},
   "source": [
    "## Convert data to numeric"
   ]
  },
  {
   "cell_type": "code",
   "execution_count": 14,
   "metadata": {
    "collapsed": false,
    "run_control": {
     "frozen": false,
     "read_only": false
    }
   },
   "outputs": [
    {
     "data": {
      "text/html": [
       "<div>\n",
       "<table border=\"1\" class=\"dataframe\">\n",
       "  <thead>\n",
       "    <tr style=\"text-align: right;\">\n",
       "      <th></th>\n",
       "      <th>color_value</th>\n",
       "    </tr>\n",
       "    <tr>\n",
       "      <th>strains</th>\n",
       "      <th></th>\n",
       "    </tr>\n",
       "  </thead>\n",
       "  <tbody>\n",
       "    <tr>\n",
       "      <th>C57BL/6J</th>\n",
       "      <td>4</td>\n",
       "    </tr>\n",
       "    <tr>\n",
       "      <th>DBA/2J</th>\n",
       "      <td>1</td>\n",
       "    </tr>\n",
       "    <tr>\n",
       "      <th>B6D2F1</th>\n",
       "      <td>4</td>\n",
       "    </tr>\n",
       "    <tr>\n",
       "      <th>D2B6F1</th>\n",
       "      <td>4</td>\n",
       "    </tr>\n",
       "    <tr>\n",
       "      <th>BXD1</th>\n",
       "      <td>1</td>\n",
       "    </tr>\n",
       "  </tbody>\n",
       "</table>\n",
       "</div>"
      ],
      "text/plain": [
       "         color_value\n",
       "strains             \n",
       "C57BL/6J           4\n",
       "DBA/2J             1\n",
       "B6D2F1             4\n",
       "D2B6F1             4\n",
       "BXD1               1"
      ]
     },
     "execution_count": 14,
     "metadata": {},
     "output_type": "execute_result"
    }
   ],
   "source": [
    "df_phenotype.replace(\"4.000\", 4.0, inplace=True)\n",
    "df_phenotype.replace(\"3.000\", 3.0, inplace=True)\n",
    "df_phenotype.replace(\"2.000\", 2.0, inplace=True)\n",
    "df_phenotype.replace(\"1.000\", 1.0, inplace=True)\n",
    "df_phenotype.head()"
   ]
  },
  {
   "cell_type": "markdown",
   "metadata": {},
   "source": [
    "# Association tests between variant(s) and categorical phenotype\n",
    "We will first start testing SNPs for their association with an easily characterizable phenotype: coat color. As you could see in the slides, BXD mice come in different colors (black, brown, dilute) and as you know, hair color is heritable. In this task you will thus try to find candidate genes that are involved in coat color determination in the mouse population."
   ]
  },
  {
   "cell_type": "markdown",
   "metadata": {},
   "source": [
    "__Show head of genotype data__"
   ]
  },
  {
   "cell_type": "code",
   "execution_count": 15,
   "metadata": {
    "collapsed": false,
    "run_control": {
     "frozen": false,
     "read_only": false
    }
   },
   "outputs": [
    {
     "data": {
      "text/html": [
       "<div>\n",
       "<table border=\"1\" class=\"dataframe\">\n",
       "  <thead>\n",
       "    <tr style=\"text-align: right;\">\n",
       "      <th></th>\n",
       "      <th>Chr</th>\n",
       "      <th>cM</th>\n",
       "      <th>Mb</th>\n",
       "      <th>BXD1</th>\n",
       "      <th>BXD2</th>\n",
       "      <th>BXD5</th>\n",
       "      <th>BXD6</th>\n",
       "      <th>BXD8</th>\n",
       "      <th>BXD9</th>\n",
       "      <th>BXD11</th>\n",
       "      <th>...</th>\n",
       "      <th>BXD90</th>\n",
       "      <th>BXD91</th>\n",
       "      <th>BXD93</th>\n",
       "      <th>BXD94</th>\n",
       "      <th>BXD95</th>\n",
       "      <th>BXD98</th>\n",
       "      <th>BXD99</th>\n",
       "      <th>BXD100</th>\n",
       "      <th>BXD101</th>\n",
       "      <th>BXD102</th>\n",
       "    </tr>\n",
       "    <tr>\n",
       "      <th>Locus</th>\n",
       "      <th></th>\n",
       "      <th></th>\n",
       "      <th></th>\n",
       "      <th></th>\n",
       "      <th></th>\n",
       "      <th></th>\n",
       "      <th></th>\n",
       "      <th></th>\n",
       "      <th></th>\n",
       "      <th></th>\n",
       "      <th></th>\n",
       "      <th></th>\n",
       "      <th></th>\n",
       "      <th></th>\n",
       "      <th></th>\n",
       "      <th></th>\n",
       "      <th></th>\n",
       "      <th></th>\n",
       "      <th></th>\n",
       "      <th></th>\n",
       "      <th></th>\n",
       "    </tr>\n",
       "  </thead>\n",
       "  <tbody>\n",
       "    <tr>\n",
       "      <th>rs6269442</th>\n",
       "      <td>1</td>\n",
       "      <td>0.000</td>\n",
       "      <td>3.482275</td>\n",
       "      <td>0.0</td>\n",
       "      <td>0.0</td>\n",
       "      <td>2.0</td>\n",
       "      <td>2.0</td>\n",
       "      <td>2.0</td>\n",
       "      <td>0.0</td>\n",
       "      <td>0.0</td>\n",
       "      <td>...</td>\n",
       "      <td>0.0</td>\n",
       "      <td>2.0</td>\n",
       "      <td>0.0</td>\n",
       "      <td>2.0</td>\n",
       "      <td>2.0</td>\n",
       "      <td>0.0</td>\n",
       "      <td>0.0</td>\n",
       "      <td>0.0</td>\n",
       "      <td>0.0</td>\n",
       "      <td>0.0</td>\n",
       "    </tr>\n",
       "    <tr>\n",
       "      <th>rs6241531</th>\n",
       "      <td>1</td>\n",
       "      <td>2.367</td>\n",
       "      <td>9.995925</td>\n",
       "      <td>0.0</td>\n",
       "      <td>0.0</td>\n",
       "      <td>2.0</td>\n",
       "      <td>2.0</td>\n",
       "      <td>2.0</td>\n",
       "      <td>0.0</td>\n",
       "      <td>2.0</td>\n",
       "      <td>...</td>\n",
       "      <td>0.0</td>\n",
       "      <td>2.0</td>\n",
       "      <td>0.0</td>\n",
       "      <td>2.0</td>\n",
       "      <td>2.0</td>\n",
       "      <td>0.0</td>\n",
       "      <td>0.0</td>\n",
       "      <td>0.0</td>\n",
       "      <td>0.0</td>\n",
       "      <td>2.0</td>\n",
       "    </tr>\n",
       "    <tr>\n",
       "      <th>rs6360236</th>\n",
       "      <td>1</td>\n",
       "      <td>3.263</td>\n",
       "      <td>11.073904</td>\n",
       "      <td>0.0</td>\n",
       "      <td>0.0</td>\n",
       "      <td>2.0</td>\n",
       "      <td>2.0</td>\n",
       "      <td>2.0</td>\n",
       "      <td>0.0</td>\n",
       "      <td>2.0</td>\n",
       "      <td>...</td>\n",
       "      <td>0.0</td>\n",
       "      <td>2.0</td>\n",
       "      <td>0.0</td>\n",
       "      <td>2.0</td>\n",
       "      <td>2.0</td>\n",
       "      <td>0.0</td>\n",
       "      <td>0.0</td>\n",
       "      <td>0.0</td>\n",
       "      <td>0.0</td>\n",
       "      <td>2.0</td>\n",
       "    </tr>\n",
       "    <tr>\n",
       "      <th>rs3722996</th>\n",
       "      <td>1</td>\n",
       "      <td>3.263</td>\n",
       "      <td>11.259432</td>\n",
       "      <td>0.0</td>\n",
       "      <td>0.0</td>\n",
       "      <td>2.0</td>\n",
       "      <td>2.0</td>\n",
       "      <td>2.0</td>\n",
       "      <td>0.0</td>\n",
       "      <td>2.0</td>\n",
       "      <td>...</td>\n",
       "      <td>0.0</td>\n",
       "      <td>2.0</td>\n",
       "      <td>0.0</td>\n",
       "      <td>2.0</td>\n",
       "      <td>2.0</td>\n",
       "      <td>0.0</td>\n",
       "      <td>0.0</td>\n",
       "      <td>0.0</td>\n",
       "      <td>0.0</td>\n",
       "      <td>2.0</td>\n",
       "    </tr>\n",
       "    <tr>\n",
       "      <th>D1Mit1</th>\n",
       "      <td>1</td>\n",
       "      <td>3.549</td>\n",
       "      <td>11.505582</td>\n",
       "      <td>0.0</td>\n",
       "      <td>0.0</td>\n",
       "      <td>2.0</td>\n",
       "      <td>2.0</td>\n",
       "      <td>2.0</td>\n",
       "      <td>0.0</td>\n",
       "      <td>2.0</td>\n",
       "      <td>...</td>\n",
       "      <td>0.0</td>\n",
       "      <td>2.0</td>\n",
       "      <td>0.0</td>\n",
       "      <td>2.0</td>\n",
       "      <td>2.0</td>\n",
       "      <td>0.0</td>\n",
       "      <td>0.0</td>\n",
       "      <td>0.0</td>\n",
       "      <td>0.0</td>\n",
       "      <td>2.0</td>\n",
       "    </tr>\n",
       "  </tbody>\n",
       "</table>\n",
       "<p>5 rows × 96 columns</p>\n",
       "</div>"
      ],
      "text/plain": [
       "          Chr     cM         Mb  BXD1  BXD2  BXD5  BXD6  BXD8  BXD9  BXD11  \\\n",
       "Locus                                                                        \n",
       "rs6269442   1  0.000   3.482275   0.0   0.0   2.0   2.0   2.0   0.0    0.0   \n",
       "rs6241531   1  2.367   9.995925   0.0   0.0   2.0   2.0   2.0   0.0    2.0   \n",
       "rs6360236   1  3.263  11.073904   0.0   0.0   2.0   2.0   2.0   0.0    2.0   \n",
       "rs3722996   1  3.263  11.259432   0.0   0.0   2.0   2.0   2.0   0.0    2.0   \n",
       "D1Mit1      1  3.549  11.505582   0.0   0.0   2.0   2.0   2.0   0.0    2.0   \n",
       "\n",
       "            ...    BXD90  BXD91  BXD93  BXD94  BXD95  BXD98  BXD99  BXD100  \\\n",
       "Locus       ...                                                              \n",
       "rs6269442   ...      0.0    2.0    0.0    2.0    2.0    0.0    0.0     0.0   \n",
       "rs6241531   ...      0.0    2.0    0.0    2.0    2.0    0.0    0.0     0.0   \n",
       "rs6360236   ...      0.0    2.0    0.0    2.0    2.0    0.0    0.0     0.0   \n",
       "rs3722996   ...      0.0    2.0    0.0    2.0    2.0    0.0    0.0     0.0   \n",
       "D1Mit1      ...      0.0    2.0    0.0    2.0    2.0    0.0    0.0     0.0   \n",
       "\n",
       "           BXD101  BXD102  \n",
       "Locus                      \n",
       "rs6269442     0.0     0.0  \n",
       "rs6241531     0.0     2.0  \n",
       "rs6360236     0.0     2.0  \n",
       "rs3722996     0.0     2.0  \n",
       "D1Mit1        0.0     2.0  \n",
       "\n",
       "[5 rows x 96 columns]"
      ]
     },
     "execution_count": 15,
     "metadata": {},
     "output_type": "execute_result"
    }
   ],
   "source": [
    "df_genotype.head()"
   ]
  },
  {
   "cell_type": "markdown",
   "metadata": {},
   "source": [
    "## Task: Perfom association test for a single SNP using $\\chi^2$ test and odds ratio"
   ]
  },
  {
   "cell_type": "markdown",
   "metadata": {},
   "source": [
    "### Subtask: Extract row of a single SNP (e.g. rs6232550)"
   ]
  },
  {
   "cell_type": "markdown",
   "metadata": {},
   "source": [
    "__Extract using loc or ix__"
   ]
  },
  {
   "cell_type": "code",
   "execution_count": 16,
   "metadata": {
    "collapsed": false,
    "run_control": {
     "frozen": false,
     "read_only": false
    }
   },
   "outputs": [],
   "source": [
    "strain_1 = df_genotype.ix[1,]"
   ]
  },
  {
   "cell_type": "markdown",
   "metadata": {},
   "source": [
    "__Check if it worked__"
   ]
  },
  {
   "cell_type": "code",
   "execution_count": 17,
   "metadata": {
    "collapsed": false,
    "run_control": {
     "frozen": false,
     "read_only": false
    }
   },
   "outputs": [],
   "source": [
    "#strain_1"
   ]
  },
  {
   "cell_type": "markdown",
   "metadata": {},
   "source": [
    "### Subtask: Remove all non-strain genotye columns"
   ]
  },
  {
   "cell_type": "code",
   "execution_count": 18,
   "metadata": {
    "collapsed": false,
    "run_control": {
     "frozen": false,
     "read_only": false
    }
   },
   "outputs": [],
   "source": [
    "strain_1.drop([\"Chr\", \"cM\", \"Mb\"], inplace=True)"
   ]
  },
  {
   "cell_type": "code",
   "execution_count": 19,
   "metadata": {
    "collapsed": false,
    "run_control": {
     "frozen": false,
     "read_only": false
    }
   },
   "outputs": [],
   "source": [
    "#strain_1"
   ]
  },
  {
   "cell_type": "markdown",
   "metadata": {},
   "source": [
    "### Subtask: Transpose row so that it has the same format as the genotype data"
   ]
  },
  {
   "cell_type": "code",
   "execution_count": 20,
   "metadata": {
    "collapsed": false,
    "run_control": {
     "frozen": false,
     "read_only": false
    }
   },
   "outputs": [],
   "source": [
    "df_strain_1 = pd.DataFrame(strain_1)"
   ]
  },
  {
   "cell_type": "code",
   "execution_count": 21,
   "metadata": {
    "collapsed": false,
    "run_control": {
     "frozen": false,
     "read_only": false
    }
   },
   "outputs": [
    {
     "data": {
      "text/html": [
       "<div>\n",
       "<table border=\"1\" class=\"dataframe\">\n",
       "  <thead>\n",
       "    <tr style=\"text-align: right;\">\n",
       "      <th></th>\n",
       "      <th>rs6241531</th>\n",
       "    </tr>\n",
       "  </thead>\n",
       "  <tbody>\n",
       "    <tr>\n",
       "      <th>BXD1</th>\n",
       "      <td>0</td>\n",
       "    </tr>\n",
       "    <tr>\n",
       "      <th>BXD2</th>\n",
       "      <td>0</td>\n",
       "    </tr>\n",
       "    <tr>\n",
       "      <th>BXD5</th>\n",
       "      <td>2</td>\n",
       "    </tr>\n",
       "    <tr>\n",
       "      <th>BXD6</th>\n",
       "      <td>2</td>\n",
       "    </tr>\n",
       "    <tr>\n",
       "      <th>BXD8</th>\n",
       "      <td>2</td>\n",
       "    </tr>\n",
       "    <tr>\n",
       "      <th>BXD9</th>\n",
       "      <td>0</td>\n",
       "    </tr>\n",
       "    <tr>\n",
       "      <th>BXD11</th>\n",
       "      <td>2</td>\n",
       "    </tr>\n",
       "    <tr>\n",
       "      <th>BXD12</th>\n",
       "      <td>2</td>\n",
       "    </tr>\n",
       "    <tr>\n",
       "      <th>BXD13</th>\n",
       "      <td>0</td>\n",
       "    </tr>\n",
       "    <tr>\n",
       "      <th>BXD14</th>\n",
       "      <td>0</td>\n",
       "    </tr>\n",
       "    <tr>\n",
       "      <th>BXD15</th>\n",
       "      <td>2</td>\n",
       "    </tr>\n",
       "    <tr>\n",
       "      <th>BXD16</th>\n",
       "      <td>2</td>\n",
       "    </tr>\n",
       "    <tr>\n",
       "      <th>BXD18</th>\n",
       "      <td>0</td>\n",
       "    </tr>\n",
       "    <tr>\n",
       "      <th>BXD19</th>\n",
       "      <td>2</td>\n",
       "    </tr>\n",
       "    <tr>\n",
       "      <th>BXD20</th>\n",
       "      <td>2</td>\n",
       "    </tr>\n",
       "    <tr>\n",
       "      <th>BXD21</th>\n",
       "      <td>2</td>\n",
       "    </tr>\n",
       "    <tr>\n",
       "      <th>BXD22</th>\n",
       "      <td>2</td>\n",
       "    </tr>\n",
       "    <tr>\n",
       "      <th>BXD23</th>\n",
       "      <td>0</td>\n",
       "    </tr>\n",
       "    <tr>\n",
       "      <th>BXD24</th>\n",
       "      <td>0</td>\n",
       "    </tr>\n",
       "    <tr>\n",
       "      <th>BXD24a</th>\n",
       "      <td>0</td>\n",
       "    </tr>\n",
       "    <tr>\n",
       "      <th>BXD25</th>\n",
       "      <td>2</td>\n",
       "    </tr>\n",
       "    <tr>\n",
       "      <th>BXD27</th>\n",
       "      <td>0</td>\n",
       "    </tr>\n",
       "    <tr>\n",
       "      <th>BXD28</th>\n",
       "      <td>2</td>\n",
       "    </tr>\n",
       "    <tr>\n",
       "      <th>BXD29</th>\n",
       "      <td>2</td>\n",
       "    </tr>\n",
       "    <tr>\n",
       "      <th>BXD30</th>\n",
       "      <td>0</td>\n",
       "    </tr>\n",
       "    <tr>\n",
       "      <th>BXD31</th>\n",
       "      <td>0</td>\n",
       "    </tr>\n",
       "    <tr>\n",
       "      <th>BXD32</th>\n",
       "      <td>0</td>\n",
       "    </tr>\n",
       "    <tr>\n",
       "      <th>BXD33</th>\n",
       "      <td>0</td>\n",
       "    </tr>\n",
       "    <tr>\n",
       "      <th>BXD34</th>\n",
       "      <td>0</td>\n",
       "    </tr>\n",
       "    <tr>\n",
       "      <th>BXD35</th>\n",
       "      <td>0</td>\n",
       "    </tr>\n",
       "    <tr>\n",
       "      <th>...</th>\n",
       "      <td>...</td>\n",
       "    </tr>\n",
       "    <tr>\n",
       "      <th>BXD70</th>\n",
       "      <td>0</td>\n",
       "    </tr>\n",
       "    <tr>\n",
       "      <th>BXD71</th>\n",
       "      <td>0</td>\n",
       "    </tr>\n",
       "    <tr>\n",
       "      <th>BXD72</th>\n",
       "      <td>0</td>\n",
       "    </tr>\n",
       "    <tr>\n",
       "      <th>BXD73</th>\n",
       "      <td>2</td>\n",
       "    </tr>\n",
       "    <tr>\n",
       "      <th>BXD73a</th>\n",
       "      <td>2</td>\n",
       "    </tr>\n",
       "    <tr>\n",
       "      <th>BXD73b</th>\n",
       "      <td>2</td>\n",
       "    </tr>\n",
       "    <tr>\n",
       "      <th>BXD74</th>\n",
       "      <td>0</td>\n",
       "    </tr>\n",
       "    <tr>\n",
       "      <th>BXD75</th>\n",
       "      <td>2</td>\n",
       "    </tr>\n",
       "    <tr>\n",
       "      <th>BXD76</th>\n",
       "      <td>0</td>\n",
       "    </tr>\n",
       "    <tr>\n",
       "      <th>BXD77</th>\n",
       "      <td>0</td>\n",
       "    </tr>\n",
       "    <tr>\n",
       "      <th>BXD78</th>\n",
       "      <td>2</td>\n",
       "    </tr>\n",
       "    <tr>\n",
       "      <th>BXD79</th>\n",
       "      <td>0</td>\n",
       "    </tr>\n",
       "    <tr>\n",
       "      <th>BXD81</th>\n",
       "      <td>0</td>\n",
       "    </tr>\n",
       "    <tr>\n",
       "      <th>BXD83</th>\n",
       "      <td>1</td>\n",
       "    </tr>\n",
       "    <tr>\n",
       "      <th>BXD84</th>\n",
       "      <td>0</td>\n",
       "    </tr>\n",
       "    <tr>\n",
       "      <th>BXD85</th>\n",
       "      <td>2</td>\n",
       "    </tr>\n",
       "    <tr>\n",
       "      <th>BXD86</th>\n",
       "      <td>2</td>\n",
       "    </tr>\n",
       "    <tr>\n",
       "      <th>BXD87</th>\n",
       "      <td>0</td>\n",
       "    </tr>\n",
       "    <tr>\n",
       "      <th>BXD88</th>\n",
       "      <td>2</td>\n",
       "    </tr>\n",
       "    <tr>\n",
       "      <th>BXD89</th>\n",
       "      <td>0</td>\n",
       "    </tr>\n",
       "    <tr>\n",
       "      <th>BXD90</th>\n",
       "      <td>0</td>\n",
       "    </tr>\n",
       "    <tr>\n",
       "      <th>BXD91</th>\n",
       "      <td>2</td>\n",
       "    </tr>\n",
       "    <tr>\n",
       "      <th>BXD93</th>\n",
       "      <td>0</td>\n",
       "    </tr>\n",
       "    <tr>\n",
       "      <th>BXD94</th>\n",
       "      <td>2</td>\n",
       "    </tr>\n",
       "    <tr>\n",
       "      <th>BXD95</th>\n",
       "      <td>2</td>\n",
       "    </tr>\n",
       "    <tr>\n",
       "      <th>BXD98</th>\n",
       "      <td>0</td>\n",
       "    </tr>\n",
       "    <tr>\n",
       "      <th>BXD99</th>\n",
       "      <td>0</td>\n",
       "    </tr>\n",
       "    <tr>\n",
       "      <th>BXD100</th>\n",
       "      <td>0</td>\n",
       "    </tr>\n",
       "    <tr>\n",
       "      <th>BXD101</th>\n",
       "      <td>0</td>\n",
       "    </tr>\n",
       "    <tr>\n",
       "      <th>BXD102</th>\n",
       "      <td>2</td>\n",
       "    </tr>\n",
       "  </tbody>\n",
       "</table>\n",
       "<p>93 rows × 1 columns</p>\n",
       "</div>"
      ],
      "text/plain": [
       "       rs6241531\n",
       "BXD1           0\n",
       "BXD2           0\n",
       "BXD5           2\n",
       "BXD6           2\n",
       "BXD8           2\n",
       "BXD9           0\n",
       "BXD11          2\n",
       "BXD12          2\n",
       "BXD13          0\n",
       "BXD14          0\n",
       "BXD15          2\n",
       "BXD16          2\n",
       "BXD18          0\n",
       "BXD19          2\n",
       "BXD20          2\n",
       "BXD21          2\n",
       "BXD22          2\n",
       "BXD23          0\n",
       "BXD24          0\n",
       "BXD24a         0\n",
       "BXD25          2\n",
       "BXD27          0\n",
       "BXD28          2\n",
       "BXD29          2\n",
       "BXD30          0\n",
       "BXD31          0\n",
       "BXD32          0\n",
       "BXD33          0\n",
       "BXD34          0\n",
       "BXD35          0\n",
       "...          ...\n",
       "BXD70          0\n",
       "BXD71          0\n",
       "BXD72          0\n",
       "BXD73          2\n",
       "BXD73a         2\n",
       "BXD73b         2\n",
       "BXD74          0\n",
       "BXD75          2\n",
       "BXD76          0\n",
       "BXD77          0\n",
       "BXD78          2\n",
       "BXD79          0\n",
       "BXD81          0\n",
       "BXD83          1\n",
       "BXD84          0\n",
       "BXD85          2\n",
       "BXD86          2\n",
       "BXD87          0\n",
       "BXD88          2\n",
       "BXD89          0\n",
       "BXD90          0\n",
       "BXD91          2\n",
       "BXD93          0\n",
       "BXD94          2\n",
       "BXD95          2\n",
       "BXD98          0\n",
       "BXD99          0\n",
       "BXD100         0\n",
       "BXD101         0\n",
       "BXD102         2\n",
       "\n",
       "[93 rows x 1 columns]"
      ]
     },
     "execution_count": 21,
     "metadata": {},
     "output_type": "execute_result"
    }
   ],
   "source": [
    "df_strain_1"
   ]
  },
  {
   "cell_type": "markdown",
   "metadata": {},
   "source": [
    "### Subtask: Combine SNP data with phenotype data"
   ]
  },
  {
   "cell_type": "code",
   "execution_count": 22,
   "metadata": {
    "collapsed": false,
    "run_control": {
     "frozen": false,
     "read_only": false
    }
   },
   "outputs": [
    {
     "data": {
      "text/html": [
       "<div>\n",
       "<table border=\"1\" class=\"dataframe\">\n",
       "  <thead>\n",
       "    <tr style=\"text-align: right;\">\n",
       "      <th></th>\n",
       "      <th>color_value</th>\n",
       "    </tr>\n",
       "    <tr>\n",
       "      <th>strains</th>\n",
       "      <th></th>\n",
       "    </tr>\n",
       "  </thead>\n",
       "  <tbody>\n",
       "    <tr>\n",
       "      <th>C57BL/6J</th>\n",
       "      <td>4</td>\n",
       "    </tr>\n",
       "    <tr>\n",
       "      <th>DBA/2J</th>\n",
       "      <td>1</td>\n",
       "    </tr>\n",
       "    <tr>\n",
       "      <th>B6D2F1</th>\n",
       "      <td>4</td>\n",
       "    </tr>\n",
       "    <tr>\n",
       "      <th>D2B6F1</th>\n",
       "      <td>4</td>\n",
       "    </tr>\n",
       "    <tr>\n",
       "      <th>BXD1</th>\n",
       "      <td>1</td>\n",
       "    </tr>\n",
       "    <tr>\n",
       "      <th>BXD2</th>\n",
       "      <td>4</td>\n",
       "    </tr>\n",
       "    <tr>\n",
       "      <th>BXD5</th>\n",
       "      <td>3</td>\n",
       "    </tr>\n",
       "    <tr>\n",
       "      <th>BXD6</th>\n",
       "      <td>3</td>\n",
       "    </tr>\n",
       "    <tr>\n",
       "      <th>BXD8</th>\n",
       "      <td>3</td>\n",
       "    </tr>\n",
       "    <tr>\n",
       "      <th>BXD9</th>\n",
       "      <td>1</td>\n",
       "    </tr>\n",
       "    <tr>\n",
       "      <th>BXD11</th>\n",
       "      <td>4</td>\n",
       "    </tr>\n",
       "    <tr>\n",
       "      <th>BXD12</th>\n",
       "      <td>3</td>\n",
       "    </tr>\n",
       "    <tr>\n",
       "      <th>BXD13</th>\n",
       "      <td>2</td>\n",
       "    </tr>\n",
       "    <tr>\n",
       "      <th>BXD14</th>\n",
       "      <td>4</td>\n",
       "    </tr>\n",
       "    <tr>\n",
       "      <th>BXD15</th>\n",
       "      <td>2</td>\n",
       "    </tr>\n",
       "    <tr>\n",
       "      <th>BXD16</th>\n",
       "      <td>3</td>\n",
       "    </tr>\n",
       "    <tr>\n",
       "      <th>BXD18</th>\n",
       "      <td>3</td>\n",
       "    </tr>\n",
       "    <tr>\n",
       "      <th>BXD19</th>\n",
       "      <td>3</td>\n",
       "    </tr>\n",
       "    <tr>\n",
       "      <th>BXD20</th>\n",
       "      <td>4</td>\n",
       "    </tr>\n",
       "    <tr>\n",
       "      <th>BXD21</th>\n",
       "      <td>1</td>\n",
       "    </tr>\n",
       "    <tr>\n",
       "      <th>BXD22</th>\n",
       "      <td>3</td>\n",
       "    </tr>\n",
       "    <tr>\n",
       "      <th>BXD23</th>\n",
       "      <td>4</td>\n",
       "    </tr>\n",
       "    <tr>\n",
       "      <th>BXD24</th>\n",
       "      <td>2</td>\n",
       "    </tr>\n",
       "    <tr>\n",
       "      <th>BXD24a</th>\n",
       "      <td>2</td>\n",
       "    </tr>\n",
       "    <tr>\n",
       "      <th>BXD25</th>\n",
       "      <td>2</td>\n",
       "    </tr>\n",
       "    <tr>\n",
       "      <th>BXD27</th>\n",
       "      <td>2</td>\n",
       "    </tr>\n",
       "    <tr>\n",
       "      <th>BXD28</th>\n",
       "      <td>2</td>\n",
       "    </tr>\n",
       "    <tr>\n",
       "      <th>BXD29</th>\n",
       "      <td>3</td>\n",
       "    </tr>\n",
       "    <tr>\n",
       "      <th>BXD30</th>\n",
       "      <td>1</td>\n",
       "    </tr>\n",
       "    <tr>\n",
       "      <th>BXD31</th>\n",
       "      <td>4</td>\n",
       "    </tr>\n",
       "    <tr>\n",
       "      <th>...</th>\n",
       "      <td>...</td>\n",
       "    </tr>\n",
       "    <tr>\n",
       "      <th>BXD191</th>\n",
       "      <td>4</td>\n",
       "    </tr>\n",
       "    <tr>\n",
       "      <th>BXD192</th>\n",
       "      <td>2</td>\n",
       "    </tr>\n",
       "    <tr>\n",
       "      <th>BXD193</th>\n",
       "      <td>2</td>\n",
       "    </tr>\n",
       "    <tr>\n",
       "      <th>BXD194</th>\n",
       "      <td>2</td>\n",
       "    </tr>\n",
       "    <tr>\n",
       "      <th>BXD195</th>\n",
       "      <td>2</td>\n",
       "    </tr>\n",
       "    <tr>\n",
       "      <th>BXD196</th>\n",
       "      <td>2</td>\n",
       "    </tr>\n",
       "    <tr>\n",
       "      <th>BXD197</th>\n",
       "      <td>2</td>\n",
       "    </tr>\n",
       "    <tr>\n",
       "      <th>BXD198</th>\n",
       "      <td>3</td>\n",
       "    </tr>\n",
       "    <tr>\n",
       "      <th>BXD199</th>\n",
       "      <td>4</td>\n",
       "    </tr>\n",
       "    <tr>\n",
       "      <th>BXD200</th>\n",
       "      <td>2</td>\n",
       "    </tr>\n",
       "    <tr>\n",
       "      <th>BXD201</th>\n",
       "      <td>1</td>\n",
       "    </tr>\n",
       "    <tr>\n",
       "      <th>BXD202</th>\n",
       "      <td>3</td>\n",
       "    </tr>\n",
       "    <tr>\n",
       "      <th>BXD203</th>\n",
       "      <td>2</td>\n",
       "    </tr>\n",
       "    <tr>\n",
       "      <th>BXD204</th>\n",
       "      <td>4</td>\n",
       "    </tr>\n",
       "    <tr>\n",
       "      <th>BXD205</th>\n",
       "      <td>3</td>\n",
       "    </tr>\n",
       "    <tr>\n",
       "      <th>BXD206</th>\n",
       "      <td>1</td>\n",
       "    </tr>\n",
       "    <tr>\n",
       "      <th>BXD207</th>\n",
       "      <td>4</td>\n",
       "    </tr>\n",
       "    <tr>\n",
       "      <th>BXD208</th>\n",
       "      <td>3</td>\n",
       "    </tr>\n",
       "    <tr>\n",
       "      <th>BXD209</th>\n",
       "      <td>2</td>\n",
       "    </tr>\n",
       "    <tr>\n",
       "      <th>BXD210</th>\n",
       "      <td>4</td>\n",
       "    </tr>\n",
       "    <tr>\n",
       "      <th>BXD211</th>\n",
       "      <td>3</td>\n",
       "    </tr>\n",
       "    <tr>\n",
       "      <th>BXD212</th>\n",
       "      <td>3</td>\n",
       "    </tr>\n",
       "    <tr>\n",
       "      <th>BXD213</th>\n",
       "      <td>3.300</td>\n",
       "    </tr>\n",
       "    <tr>\n",
       "      <th>BXD214</th>\n",
       "      <td>3.500</td>\n",
       "    </tr>\n",
       "    <tr>\n",
       "      <th>BXD215</th>\n",
       "      <td>3</td>\n",
       "    </tr>\n",
       "    <tr>\n",
       "      <th>BXD216</th>\n",
       "      <td>1</td>\n",
       "    </tr>\n",
       "    <tr>\n",
       "      <th>BXD217</th>\n",
       "      <td>4</td>\n",
       "    </tr>\n",
       "    <tr>\n",
       "      <th>BXD218</th>\n",
       "      <td>4</td>\n",
       "    </tr>\n",
       "    <tr>\n",
       "      <th>BXD219</th>\n",
       "      <td>4</td>\n",
       "    </tr>\n",
       "    <tr>\n",
       "      <th>BXD220</th>\n",
       "      <td>1</td>\n",
       "    </tr>\n",
       "  </tbody>\n",
       "</table>\n",
       "<p>199 rows × 1 columns</p>\n",
       "</div>"
      ],
      "text/plain": [
       "         color_value\n",
       "strains             \n",
       "C57BL/6J           4\n",
       "DBA/2J             1\n",
       "B6D2F1             4\n",
       "D2B6F1             4\n",
       "BXD1               1\n",
       "BXD2               4\n",
       "BXD5               3\n",
       "BXD6               3\n",
       "BXD8               3\n",
       "BXD9               1\n",
       "BXD11              4\n",
       "BXD12              3\n",
       "BXD13              2\n",
       "BXD14              4\n",
       "BXD15              2\n",
       "BXD16              3\n",
       "BXD18              3\n",
       "BXD19              3\n",
       "BXD20              4\n",
       "BXD21              1\n",
       "BXD22              3\n",
       "BXD23              4\n",
       "BXD24              2\n",
       "BXD24a             2\n",
       "BXD25              2\n",
       "BXD27              2\n",
       "BXD28              2\n",
       "BXD29              3\n",
       "BXD30              1\n",
       "BXD31              4\n",
       "...              ...\n",
       "BXD191             4\n",
       "BXD192             2\n",
       "BXD193             2\n",
       "BXD194             2\n",
       "BXD195             2\n",
       "BXD196             2\n",
       "BXD197             2\n",
       "BXD198             3\n",
       "BXD199             4\n",
       "BXD200             2\n",
       "BXD201             1\n",
       "BXD202             3\n",
       "BXD203             2\n",
       "BXD204             4\n",
       "BXD205             3\n",
       "BXD206             1\n",
       "BXD207             4\n",
       "BXD208             3\n",
       "BXD209             2\n",
       "BXD210             4\n",
       "BXD211             3\n",
       "BXD212             3\n",
       "BXD213         3.300\n",
       "BXD214         3.500\n",
       "BXD215             3\n",
       "BXD216             1\n",
       "BXD217             4\n",
       "BXD218             4\n",
       "BXD219             4\n",
       "BXD220             1\n",
       "\n",
       "[199 rows x 1 columns]"
      ]
     },
     "execution_count": 22,
     "metadata": {},
     "output_type": "execute_result"
    }
   ],
   "source": [
    "df_phenotype\n"
   ]
  },
  {
   "cell_type": "code",
   "execution_count": 23,
   "metadata": {
    "collapsed": false,
    "run_control": {
     "frozen": false,
     "read_only": false
    }
   },
   "outputs": [],
   "source": [
    "df_merged = df_phenotype.join(df_strain_1, how=\"inner\")\n"
   ]
  },
  {
   "cell_type": "markdown",
   "metadata": {},
   "source": [
    "### Subtask: Check that the merging worked"
   ]
  },
  {
   "cell_type": "code",
   "execution_count": 24,
   "metadata": {
    "collapsed": false,
    "run_control": {
     "frozen": false,
     "read_only": false
    }
   },
   "outputs": [
    {
     "data": {
      "text/html": [
       "<div>\n",
       "<table border=\"1\" class=\"dataframe\">\n",
       "  <thead>\n",
       "    <tr style=\"text-align: right;\">\n",
       "      <th></th>\n",
       "      <th>color_value</th>\n",
       "      <th>rs6241531</th>\n",
       "    </tr>\n",
       "  </thead>\n",
       "  <tbody>\n",
       "    <tr>\n",
       "      <th>BXD1</th>\n",
       "      <td>1</td>\n",
       "      <td>0</td>\n",
       "    </tr>\n",
       "    <tr>\n",
       "      <th>BXD2</th>\n",
       "      <td>4</td>\n",
       "      <td>0</td>\n",
       "    </tr>\n",
       "    <tr>\n",
       "      <th>BXD5</th>\n",
       "      <td>3</td>\n",
       "      <td>2</td>\n",
       "    </tr>\n",
       "    <tr>\n",
       "      <th>BXD6</th>\n",
       "      <td>3</td>\n",
       "      <td>2</td>\n",
       "    </tr>\n",
       "    <tr>\n",
       "      <th>BXD8</th>\n",
       "      <td>3</td>\n",
       "      <td>2</td>\n",
       "    </tr>\n",
       "    <tr>\n",
       "      <th>BXD9</th>\n",
       "      <td>1</td>\n",
       "      <td>0</td>\n",
       "    </tr>\n",
       "    <tr>\n",
       "      <th>BXD11</th>\n",
       "      <td>4</td>\n",
       "      <td>2</td>\n",
       "    </tr>\n",
       "    <tr>\n",
       "      <th>BXD12</th>\n",
       "      <td>3</td>\n",
       "      <td>2</td>\n",
       "    </tr>\n",
       "    <tr>\n",
       "      <th>BXD13</th>\n",
       "      <td>2</td>\n",
       "      <td>0</td>\n",
       "    </tr>\n",
       "    <tr>\n",
       "      <th>BXD14</th>\n",
       "      <td>4</td>\n",
       "      <td>0</td>\n",
       "    </tr>\n",
       "    <tr>\n",
       "      <th>BXD15</th>\n",
       "      <td>2</td>\n",
       "      <td>2</td>\n",
       "    </tr>\n",
       "    <tr>\n",
       "      <th>BXD16</th>\n",
       "      <td>3</td>\n",
       "      <td>2</td>\n",
       "    </tr>\n",
       "    <tr>\n",
       "      <th>BXD18</th>\n",
       "      <td>3</td>\n",
       "      <td>0</td>\n",
       "    </tr>\n",
       "    <tr>\n",
       "      <th>BXD19</th>\n",
       "      <td>3</td>\n",
       "      <td>2</td>\n",
       "    </tr>\n",
       "    <tr>\n",
       "      <th>BXD20</th>\n",
       "      <td>4</td>\n",
       "      <td>2</td>\n",
       "    </tr>\n",
       "    <tr>\n",
       "      <th>BXD21</th>\n",
       "      <td>1</td>\n",
       "      <td>2</td>\n",
       "    </tr>\n",
       "    <tr>\n",
       "      <th>BXD22</th>\n",
       "      <td>3</td>\n",
       "      <td>2</td>\n",
       "    </tr>\n",
       "    <tr>\n",
       "      <th>BXD23</th>\n",
       "      <td>4</td>\n",
       "      <td>0</td>\n",
       "    </tr>\n",
       "    <tr>\n",
       "      <th>BXD24</th>\n",
       "      <td>2</td>\n",
       "      <td>0</td>\n",
       "    </tr>\n",
       "    <tr>\n",
       "      <th>BXD24a</th>\n",
       "      <td>2</td>\n",
       "      <td>0</td>\n",
       "    </tr>\n",
       "    <tr>\n",
       "      <th>BXD25</th>\n",
       "      <td>2</td>\n",
       "      <td>2</td>\n",
       "    </tr>\n",
       "    <tr>\n",
       "      <th>BXD27</th>\n",
       "      <td>2</td>\n",
       "      <td>0</td>\n",
       "    </tr>\n",
       "    <tr>\n",
       "      <th>BXD28</th>\n",
       "      <td>2</td>\n",
       "      <td>2</td>\n",
       "    </tr>\n",
       "    <tr>\n",
       "      <th>BXD29</th>\n",
       "      <td>3</td>\n",
       "      <td>2</td>\n",
       "    </tr>\n",
       "    <tr>\n",
       "      <th>BXD30</th>\n",
       "      <td>1</td>\n",
       "      <td>0</td>\n",
       "    </tr>\n",
       "    <tr>\n",
       "      <th>BXD31</th>\n",
       "      <td>4</td>\n",
       "      <td>0</td>\n",
       "    </tr>\n",
       "    <tr>\n",
       "      <th>BXD32</th>\n",
       "      <td>4</td>\n",
       "      <td>0</td>\n",
       "    </tr>\n",
       "    <tr>\n",
       "      <th>BXD33</th>\n",
       "      <td>3</td>\n",
       "      <td>0</td>\n",
       "    </tr>\n",
       "    <tr>\n",
       "      <th>BXD34</th>\n",
       "      <td>4</td>\n",
       "      <td>0</td>\n",
       "    </tr>\n",
       "    <tr>\n",
       "      <th>BXD35</th>\n",
       "      <td>4</td>\n",
       "      <td>0</td>\n",
       "    </tr>\n",
       "    <tr>\n",
       "      <th>...</th>\n",
       "      <td>...</td>\n",
       "      <td>...</td>\n",
       "    </tr>\n",
       "    <tr>\n",
       "      <th>BXD70</th>\n",
       "      <td>1</td>\n",
       "      <td>0</td>\n",
       "    </tr>\n",
       "    <tr>\n",
       "      <th>BXD71</th>\n",
       "      <td>1</td>\n",
       "      <td>0</td>\n",
       "    </tr>\n",
       "    <tr>\n",
       "      <th>BXD72</th>\n",
       "      <td>2</td>\n",
       "      <td>0</td>\n",
       "    </tr>\n",
       "    <tr>\n",
       "      <th>BXD73</th>\n",
       "      <td>1</td>\n",
       "      <td>2</td>\n",
       "    </tr>\n",
       "    <tr>\n",
       "      <th>BXD73a</th>\n",
       "      <td>1</td>\n",
       "      <td>2</td>\n",
       "    </tr>\n",
       "    <tr>\n",
       "      <th>BXD73b</th>\n",
       "      <td>1</td>\n",
       "      <td>2</td>\n",
       "    </tr>\n",
       "    <tr>\n",
       "      <th>BXD74</th>\n",
       "      <td>2</td>\n",
       "      <td>0</td>\n",
       "    </tr>\n",
       "    <tr>\n",
       "      <th>BXD75</th>\n",
       "      <td>1</td>\n",
       "      <td>2</td>\n",
       "    </tr>\n",
       "    <tr>\n",
       "      <th>BXD76</th>\n",
       "      <td>3</td>\n",
       "      <td>0</td>\n",
       "    </tr>\n",
       "    <tr>\n",
       "      <th>BXD77</th>\n",
       "      <td>1</td>\n",
       "      <td>0</td>\n",
       "    </tr>\n",
       "    <tr>\n",
       "      <th>BXD78</th>\n",
       "      <td>2</td>\n",
       "      <td>2</td>\n",
       "    </tr>\n",
       "    <tr>\n",
       "      <th>BXD79</th>\n",
       "      <td>3</td>\n",
       "      <td>0</td>\n",
       "    </tr>\n",
       "    <tr>\n",
       "      <th>BXD81</th>\n",
       "      <td>1</td>\n",
       "      <td>0</td>\n",
       "    </tr>\n",
       "    <tr>\n",
       "      <th>BXD83</th>\n",
       "      <td>1</td>\n",
       "      <td>1</td>\n",
       "    </tr>\n",
       "    <tr>\n",
       "      <th>BXD84</th>\n",
       "      <td>1</td>\n",
       "      <td>0</td>\n",
       "    </tr>\n",
       "    <tr>\n",
       "      <th>BXD85</th>\n",
       "      <td>1</td>\n",
       "      <td>2</td>\n",
       "    </tr>\n",
       "    <tr>\n",
       "      <th>BXD86</th>\n",
       "      <td>4</td>\n",
       "      <td>2</td>\n",
       "    </tr>\n",
       "    <tr>\n",
       "      <th>BXD87</th>\n",
       "      <td>4</td>\n",
       "      <td>0</td>\n",
       "    </tr>\n",
       "    <tr>\n",
       "      <th>BXD88</th>\n",
       "      <td>2</td>\n",
       "      <td>2</td>\n",
       "    </tr>\n",
       "    <tr>\n",
       "      <th>BXD89</th>\n",
       "      <td>1</td>\n",
       "      <td>0</td>\n",
       "    </tr>\n",
       "    <tr>\n",
       "      <th>BXD90</th>\n",
       "      <td>1</td>\n",
       "      <td>0</td>\n",
       "    </tr>\n",
       "    <tr>\n",
       "      <th>BXD91</th>\n",
       "      <td>1</td>\n",
       "      <td>2</td>\n",
       "    </tr>\n",
       "    <tr>\n",
       "      <th>BXD93</th>\n",
       "      <td>1</td>\n",
       "      <td>0</td>\n",
       "    </tr>\n",
       "    <tr>\n",
       "      <th>BXD94</th>\n",
       "      <td>3</td>\n",
       "      <td>2</td>\n",
       "    </tr>\n",
       "    <tr>\n",
       "      <th>BXD95</th>\n",
       "      <td>1</td>\n",
       "      <td>2</td>\n",
       "    </tr>\n",
       "    <tr>\n",
       "      <th>BXD98</th>\n",
       "      <td>1</td>\n",
       "      <td>0</td>\n",
       "    </tr>\n",
       "    <tr>\n",
       "      <th>BXD99</th>\n",
       "      <td>1</td>\n",
       "      <td>0</td>\n",
       "    </tr>\n",
       "    <tr>\n",
       "      <th>BXD100</th>\n",
       "      <td>4</td>\n",
       "      <td>0</td>\n",
       "    </tr>\n",
       "    <tr>\n",
       "      <th>BXD101</th>\n",
       "      <td>3</td>\n",
       "      <td>0</td>\n",
       "    </tr>\n",
       "    <tr>\n",
       "      <th>BXD102</th>\n",
       "      <td>2</td>\n",
       "      <td>2</td>\n",
       "    </tr>\n",
       "  </tbody>\n",
       "</table>\n",
       "<p>90 rows × 2 columns</p>\n",
       "</div>"
      ],
      "text/plain": [
       "       color_value rs6241531\n",
       "BXD1             1         0\n",
       "BXD2             4         0\n",
       "BXD5             3         2\n",
       "BXD6             3         2\n",
       "BXD8             3         2\n",
       "BXD9             1         0\n",
       "BXD11            4         2\n",
       "BXD12            3         2\n",
       "BXD13            2         0\n",
       "BXD14            4         0\n",
       "BXD15            2         2\n",
       "BXD16            3         2\n",
       "BXD18            3         0\n",
       "BXD19            3         2\n",
       "BXD20            4         2\n",
       "BXD21            1         2\n",
       "BXD22            3         2\n",
       "BXD23            4         0\n",
       "BXD24            2         0\n",
       "BXD24a           2         0\n",
       "BXD25            2         2\n",
       "BXD27            2         0\n",
       "BXD28            2         2\n",
       "BXD29            3         2\n",
       "BXD30            1         0\n",
       "BXD31            4         0\n",
       "BXD32            4         0\n",
       "BXD33            3         0\n",
       "BXD34            4         0\n",
       "BXD35            4         0\n",
       "...            ...       ...\n",
       "BXD70            1         0\n",
       "BXD71            1         0\n",
       "BXD72            2         0\n",
       "BXD73            1         2\n",
       "BXD73a           1         2\n",
       "BXD73b           1         2\n",
       "BXD74            2         0\n",
       "BXD75            1         2\n",
       "BXD76            3         0\n",
       "BXD77            1         0\n",
       "BXD78            2         2\n",
       "BXD79            3         0\n",
       "BXD81            1         0\n",
       "BXD83            1         1\n",
       "BXD84            1         0\n",
       "BXD85            1         2\n",
       "BXD86            4         2\n",
       "BXD87            4         0\n",
       "BXD88            2         2\n",
       "BXD89            1         0\n",
       "BXD90            1         0\n",
       "BXD91            1         2\n",
       "BXD93            1         0\n",
       "BXD94            3         2\n",
       "BXD95            1         2\n",
       "BXD98            1         0\n",
       "BXD99            1         0\n",
       "BXD100           4         0\n",
       "BXD101           3         0\n",
       "BXD102           2         2\n",
       "\n",
       "[90 rows x 2 columns]"
      ]
     },
     "execution_count": 24,
     "metadata": {},
     "output_type": "execute_result"
    }
   ],
   "source": [
    "df_merged"
   ]
  },
  {
   "cell_type": "code",
   "execution_count": null,
   "metadata": {
    "collapsed": true,
    "run_control": {
     "frozen": false,
     "read_only": false
    }
   },
   "outputs": [],
   "source": []
  },
  {
   "cell_type": "markdown",
   "metadata": {},
   "source": [
    "### Subtask: Plot relationship between genotye and phenotype"
   ]
  },
  {
   "cell_type": "code",
   "execution_count": 28,
   "metadata": {
    "collapsed": false,
    "run_control": {
     "frozen": false,
     "read_only": false
    }
   },
   "outputs": [
    {
     "data": {
      "image/png": "[encoded data removed]",
      "text/plain": [
       "<matplotlib.figure.Figure at 0x7f7a4101ffd0>"
      ]
     },
     "metadata": {},
     "output_type": "display_data"
    }
   ],
   "source": [
    "plt.figure(figsize=(16,6), dpi=80)\n",
    "plt.plot(range(len(df_merged)),df_merged[\"color_value\"], label=\"color_value\", color=\"red\", )\n",
    "plt.plot(range(len(df_merged)), df_merged[\"rs6241531\"], label=\"rs6241531\", color=\"blue\")\n",
    "\n",
    "plt.legend(loc='best', frameon=False, fontsize=12)\n",
    "\n",
    "plt.xlabel(\"Strain\")\n",
    "plt.xlim(-1, 90)\n",
    "plt.xticks(range(len(df_merged)), df_merged.index, rotation='vertical', fontsize=10)\n",
    "plt.ylim(0,5)\n",
    "plt.yticks(range(4), [1,2,3,4])\n",
    "plt.show()"
   ]
  },
  {
   "cell_type": "code",
   "execution_count": 29,
   "metadata": {
    "collapsed": false,
    "run_control": {
     "frozen": false,
     "read_only": false
    }
   },
   "outputs": [
    {
     "data": {
      "image/png": "[encoded data removed]",
      "text/plain": [
       "<matplotlib.figure.Figure at 0x7f7a40ccb990>"
      ]
     },
     "metadata": {},
     "output_type": "display_data"
    }
   ],
   "source": [
    "plt.figure(figsize=(16,6), dpi=80)\n",
    "plt.scatter(range(len(df_merged.index)), df_merged[\"color_value\"], label=\"color_value\", color=\"red\")\n",
    "plt.scatter(range(len(df_merged.index)), df_merged[\"rs6241531\"], label=\"rs6241531\", color=\"blue\")\n",
    "\n",
    "plt.legend(loc='best', frameon= True, fontsize=12)\n",
    "\n",
    "plt.xlabel(\"Strain\")\n",
    "plt.xlim(-1, 90)\n",
    "plt.xticks(range(len(df_merged)), df_merged.index, rotation='vertical', fontsize=10)\n",
    "plt.ylim(-1,5)\n",
    "plt.yticks(range(6), [0.0, 1.0, 2.0, 3.0, 4.0])\n",
    "plt.show()"
   ]
  },
  {
   "cell_type": "markdown",
   "metadata": {},
   "source": [
    "### Subtask: Create contingency table for a D-dominant inheritance model of black coat color and SNP rs6232550\n",
    "Tip: pandas' crosstabl functionality may be helpful here and the [reshaping/crosstab documentation](http://pandas-docs.github.io/pandas-docs-travis/reshaping.html) as illustrated in [this tutorial](http://wesmckinney.com/blog/contingency-tables-and-cross-tabulations-in-pandas/) may be helpful."
   ]
  },
  {
   "cell_type": "code",
   "execution_count": 30,
   "metadata": {
    "collapsed": false,
    "run_control": {
     "frozen": false,
     "read_only": false
    }
   },
   "outputs": [],
   "source": [
    "snp_rs6232550 = df_genotype.loc[\"rs6232550\"]\n",
    "#snp_rs6232550.drop([\"Chr\", \"cM\", \"Mb\"], inplace=True)\n",
    "df_snp_rs6232550 = pd.DataFrame(snp_rs6232550)"
   ]
  },
  {
   "cell_type": "code",
   "execution_count": 31,
   "metadata": {
    "collapsed": false,
    "run_control": {
     "frozen": false,
     "read_only": false
    }
   },
   "outputs": [],
   "source": [
    "df_merged_snp_rs6232550 = df_phenotype.join(df_snp_rs6232550, how=\"inner\")\n",
    "#df_merged_snp_rs6232550"
   ]
  },
  {
   "cell_type": "code",
   "execution_count": 32,
   "metadata": {
    "collapsed": false
   },
   "outputs": [],
   "source": [
    "cross_table = pd.crosstab(df_merged_snp_rs6232550.color_value == 4.0, df_merged_snp_rs6232550.rs6232550 == 2, margins=True)"
   ]
  },
  {
   "cell_type": "markdown",
   "metadata": {},
   "source": [
    "__Show table__"
   ]
  },
  {
   "cell_type": "code",
   "execution_count": 33,
   "metadata": {
    "collapsed": false
   },
   "outputs": [
    {
     "data": {
      "text/html": [
       "<div>\n",
       "<table border=\"1\" class=\"dataframe\">\n",
       "  <thead>\n",
       "    <tr style=\"text-align: right;\">\n",
       "      <th>rs6232550</th>\n",
       "      <th>not D</th>\n",
       "      <th>D</th>\n",
       "      <th>All</th>\n",
       "    </tr>\n",
       "    <tr>\n",
       "      <th>color_value</th>\n",
       "      <th></th>\n",
       "      <th></th>\n",
       "      <th></th>\n",
       "    </tr>\n",
       "  </thead>\n",
       "  <tbody>\n",
       "    <tr>\n",
       "      <th>not Black</th>\n",
       "      <td>33</td>\n",
       "      <td>38</td>\n",
       "      <td>71</td>\n",
       "    </tr>\n",
       "    <tr>\n",
       "      <th>Black</th>\n",
       "      <td>12</td>\n",
       "      <td>7</td>\n",
       "      <td>19</td>\n",
       "    </tr>\n",
       "    <tr>\n",
       "      <th>All</th>\n",
       "      <td>45</td>\n",
       "      <td>45</td>\n",
       "      <td>90</td>\n",
       "    </tr>\n",
       "  </tbody>\n",
       "</table>\n",
       "</div>"
      ],
      "text/plain": [
       "rs6232550    not D   D  All\n",
       "color_value                \n",
       "not Black       33  38   71\n",
       "Black           12   7   19\n",
       "All             45  45   90"
      ]
     },
     "execution_count": 33,
     "metadata": {},
     "output_type": "execute_result"
    }
   ],
   "source": [
    "cross_table.rename(columns={False : \"not D\", True : \"D\"}, index={False : \"not Black\", True : \"Black\"}, inplace=True)\n",
    "cross_table"
   ]
  },
  {
   "cell_type": "markdown",
   "metadata": {},
   "source": [
    "### Subtask: Perform $\\chi^2$ square test for independence on the contingency table"
   ]
  },
  {
   "cell_type": "code",
   "execution_count": 34,
   "metadata": {
    "collapsed": false,
    "run_control": {
     "frozen": false,
     "read_only": false
    }
   },
   "outputs": [],
   "source": [
    "from scipy.stats import chi2_contingency\n",
    "from scipy.stats import chi2\n",
    "from scipy.stats import fisher_exact\n",
    "from scipy import stats"
   ]
  },
  {
   "cell_type": "code",
   "execution_count": 35,
   "metadata": {
    "collapsed": false,
    "run_control": {
     "frozen": false,
     "read_only": false
    }
   },
   "outputs": [
    {
     "data": {
      "text/plain": [
       "(1.6679021497405486, 0.79653964399143939, 4, array([[ 35.5,  35.5,  71. ],\n",
       "        [  9.5,   9.5,  19. ],\n",
       "        [ 45. ,  45. ,  90. ]]))"
      ]
     },
     "execution_count": 35,
     "metadata": {},
     "output_type": "execute_result"
    }
   ],
   "source": [
    "chi_2, p, dof, ex = chi2_contingency(cross_table)\n",
    "chi_2, p, dof, ex"
   ]
  },
  {
   "cell_type": "markdown",
   "metadata": {},
   "source": [
    "### Subtask: Write function to calculate odds ratio from a contingency table"
   ]
  },
  {
   "cell_type": "code",
   "execution_count": 36,
   "metadata": {
    "collapsed": false,
    "run_control": {
     "frozen": false,
     "read_only": false
    }
   },
   "outputs": [],
   "source": [
    "\"\"\"\n",
    "caclulates the Odds Ratio for a given contingency table:\n",
    "parameters: ctable - contingency table (2x2)shaped,\n",
    "here: O(D&B / not D & B) / O(D & not B / not D & not B)\n",
    "\n",
    "\n",
    "\"\"\"\n",
    "\n",
    "def calc_Odds(ctable):\n",
    "    odds_ratio = float((float(ctable.ix[0,0]) / float(ctable.ix[0,1])) / float((ctable.ix[1,0]) / float(ctable.ix[1,1])))\n",
    "\n",
    "    return odds_ratio\n",
    "    \n",
    "    \n",
    "    "
   ]
  },
  {
   "cell_type": "code",
   "execution_count": 37,
   "metadata": {
    "collapsed": false,
    "run_control": {
     "frozen": false,
     "read_only": false
    }
   },
   "outputs": [
    {
     "data": {
      "text/plain": [
       "0.5065789473684211"
      ]
     },
     "execution_count": 37,
     "metadata": {},
     "output_type": "execute_result"
    }
   ],
   "source": [
    "calc_Odds(cross_table)"
   ]
  },
  {
   "cell_type": "markdown",
   "metadata": {},
   "source": [
    "## Task: extend statistical method for a penetrance model in which increasing numbers of A alleles confer a trend in risk (e.g. additive or dominant)"
   ]
  },
  {
   "cell_type": "markdown",
   "metadata": {},
   "source": [
    "While you can model most of the penetrance models described in the lecture in a 2x2 contingency table and thus perform a $\\chi^2$ test with one degree of freedom, it may sometimes be useful to consider the full complexity of a genotype contigency table considering all three possible genotypes instead of just two (even though the latter has larger statistical power). Apart from a $\\chi^2$ test with two degrees of freedom, the Cochran–Armitage trend test is commonly used in genetic association tests as this has often larger statistical power. In this case, if the exact model of penetrance is not known, an additive approach is often used. \n",
    "\n",
    "You can read more about basic statistical approaches in genetic association tests in the following paper:\n",
    "\n",
    "__Clarke, G. M. et al. [Basic statistical analysis in genetic case-control studies](http://www.nature.com/nprot/journal/v6/n2/full/nprot.2010.182.html). Nat Protoc 6, 121–133 (2011).__\n"
   ]
  },
  {
   "cell_type": "markdown",
   "metadata": {},
   "source": [
    "### Subtask: Given the data you have, could you calculate this type of statistic for your data?\n",
    "\n",
    "* If yes, please implement the creation of a contingency table and the test.\n",
    "* If no, please explain why."
   ]
  },
  {
   "cell_type": "markdown",
   "metadata": {
    "collapsed": true,
    "run_control": {
     "frozen": false,
     "read_only": false
    }
   },
   "source": [
    "- In BXD-mice, the animals are ment to be either B or D, so there shouldnt be heterozygot mice. So the usage of the CA-trend test is not applicable.\n",
    "- Technically it would be ok, but here the test would be kinda useless."
   ]
  },
  {
   "cell_type": "code",
   "execution_count": null,
   "metadata": {
    "collapsed": true,
    "run_control": {
     "frozen": false,
     "read_only": false
    }
   },
   "outputs": [],
   "source": []
  },
  {
   "cell_type": "markdown",
   "metadata": {},
   "source": [
    "## Task: Refactor previous analysis steps into a function and apply to all SNPs\n",
    "\n",
    "Things to consider:\n",
    "* What information is needed as input in each round?\n",
    "* Do you want to support $\\chi^2$ and Cochran–Armitage test?\n",
    "* What information as output is needed?\n",
    "* Should multiple inheritance models be included?\n",
    "* Should the user get to chose which hair color to test?"
   ]
  },
  {
   "cell_type": "code",
   "execution_count": 38,
   "metadata": {
    "collapsed": false,
    "run_control": {
     "frozen": false,
     "read_only": false
    }
   },
   "outputs": [],
   "source": [
    "\"\"\"\n",
    "\n",
    "\"\"\"\n",
    "def perform_test(snp_name, coat_color, inheritance):\n",
    "    used_snp = df_genotype.loc[snp_name]\n",
    "    df_snp = pd.DataFrame(used_snp)\n",
    "    merged = df_phenotype.join(df_snp[snp_name], how=\"inner\")\n",
    "    ctable = pd.crosstab(merged.color_value == coat_color,\n",
    "                              merged[snp_name] == inheritance, margins=True)\n",
    "    chi_2, p, dof, ex = chi2_contingency(ctable)\n",
    "    oddsRatio = calc_Odds(ctable)\n",
    "    \n",
    "    return chi_2, p, oddsRatio\n",
    "\n",
    "    \n",
    "    \n",
    "    "
   ]
  },
  {
   "cell_type": "code",
   "execution_count": 39,
   "metadata": {
    "collapsed": false
   },
   "outputs": [
    {
     "data": {
      "text/plain": [
       "(1.0250016847496461, 0.90598151636528634, 3.888888888888889)"
      ]
     },
     "execution_count": 39,
     "metadata": {},
     "output_type": "execute_result"
    }
   ],
   "source": [
    "perform_test(\"rs6232550\", 4.0, 1.0)"
   ]
  },
  {
   "cell_type": "markdown",
   "metadata": {},
   "source": [
    "### Subtask: Create Manhattan Plot of  $-\\log_{10}(\\text{P-value})$ vs chromosome position \n",
    "A Manhattan plot, named after its resemblance to the skyline of Manhattan, is commonly used to plot the p-value obtained for individual association tests for each SNP compared to the SNP's position on the genome as shown in the example below.\n",
    "\n",
    "Technically, a Manhattan plot is a scatter plot of genome position (for each chromosome) vs the negative logarithm of the p-value.\n",
    "\n",
    "<img src=\"Manhattan.png\"></img>"
   ]
  },
  {
   "cell_type": "code",
   "execution_count": 40,
   "metadata": {
    "collapsed": false
   },
   "outputs": [],
   "source": [
    "l = []\n",
    "for row in df_genotype.index:\n",
    "    c, pi, o = perform_test(row, 4.0, 2.0)\n",
    "    l.append([row, c, pi, o])\n",
    "    "
   ]
  },
  {
   "cell_type": "code",
   "execution_count": 137,
   "metadata": {
    "collapsed": false
   },
   "outputs": [],
   "source": [
    "df_results = pd.DataFrame(l, columns=[\"Locus\", \"chi2\", \"pValue\", \"oddsRatio\"])\n",
    "df_results.set_index(\"Locus\", inplace=True)"
   ]
  },
  {
   "cell_type": "code",
   "execution_count": 140,
   "metadata": {
    "collapsed": false
   },
   "outputs": [],
   "source": [
    "df_results = df_genotype[[\"Chr\", \"Mb\"]].join(df_results)"
   ]
  },
  {
   "cell_type": "code",
   "execution_count": 148,
   "metadata": {
    "collapsed": false
   },
   "outputs": [
    {
     "data": {
      "text/html": [
       "<div>\n",
       "<table border=\"1\" class=\"dataframe\">\n",
       "  <thead>\n",
       "    <tr style=\"text-align: right;\">\n",
       "      <th></th>\n",
       "      <th>Chr</th>\n",
       "      <th>Mb</th>\n",
       "      <th>chi2</th>\n",
       "      <th>pValue</th>\n",
       "      <th>oddsRatio</th>\n",
       "    </tr>\n",
       "    <tr>\n",
       "      <th>Locus</th>\n",
       "      <th></th>\n",
       "      <th></th>\n",
       "      <th></th>\n",
       "      <th></th>\n",
       "      <th></th>\n",
       "    </tr>\n",
       "  </thead>\n",
       "  <tbody>\n",
       "    <tr>\n",
       "      <th>rs13484015</th>\n",
       "      <td>X</td>\n",
       "      <td>132.663400</td>\n",
       "      <td>0.014792</td>\n",
       "      <td>0.999973</td>\n",
       "      <td>1.065625</td>\n",
       "    </tr>\n",
       "    <tr>\n",
       "      <th>rs3697198</th>\n",
       "      <td>X</td>\n",
       "      <td>132.751196</td>\n",
       "      <td>0.014792</td>\n",
       "      <td>0.999973</td>\n",
       "      <td>1.065625</td>\n",
       "    </tr>\n",
       "    <tr>\n",
       "      <th>gnfX.116.876</th>\n",
       "      <td>X</td>\n",
       "      <td>133.125032</td>\n",
       "      <td>0.044477</td>\n",
       "      <td>0.999756</td>\n",
       "      <td>0.895349</td>\n",
       "    </tr>\n",
       "    <tr>\n",
       "      <th>rs13484018</th>\n",
       "      <td>X</td>\n",
       "      <td>133.329156</td>\n",
       "      <td>0.009832</td>\n",
       "      <td>0.999988</td>\n",
       "      <td>0.949405</td>\n",
       "    </tr>\n",
       "    <tr>\n",
       "      <th>rs13484024</th>\n",
       "      <td>X</td>\n",
       "      <td>134.541556</td>\n",
       "      <td>0.009832</td>\n",
       "      <td>0.999988</td>\n",
       "      <td>0.949405</td>\n",
       "    </tr>\n",
       "  </tbody>\n",
       "</table>\n",
       "</div>"
      ],
      "text/plain": [
       "             Chr          Mb      chi2    pValue  oddsRatio\n",
       "Locus                                                      \n",
       "rs13484015     X  132.663400  0.014792  0.999973   1.065625\n",
       "rs3697198      X  132.751196  0.014792  0.999973   1.065625\n",
       "gnfX.116.876   X  133.125032  0.044477  0.999756   0.895349\n",
       "rs13484018     X  133.329156  0.009832  0.999988   0.949405\n",
       "rs13484024     X  134.541556  0.009832  0.999988   0.949405"
      ]
     },
     "execution_count": 148,
     "metadata": {},
     "output_type": "execute_result"
    }
   ],
   "source": [
    "df_results.tail()"
   ]
  },
  {
   "cell_type": "code",
   "execution_count": 136,
   "metadata": {
    "collapsed": false
   },
   "outputs": [
    {
     "data": {
      "text/html": [
       "<div>\n",
       "<table border=\"1\" class=\"dataframe\">\n",
       "  <thead>\n",
       "    <tr style=\"text-align: right;\">\n",
       "      <th></th>\n",
       "      <th>Chr</th>\n",
       "      <th>cM</th>\n",
       "      <th>Mb</th>\n",
       "      <th>BXD1</th>\n",
       "      <th>BXD2</th>\n",
       "      <th>BXD5</th>\n",
       "      <th>BXD6</th>\n",
       "      <th>BXD8</th>\n",
       "      <th>BXD9</th>\n",
       "      <th>BXD11</th>\n",
       "      <th>...</th>\n",
       "      <th>BXD90</th>\n",
       "      <th>BXD91</th>\n",
       "      <th>BXD93</th>\n",
       "      <th>BXD94</th>\n",
       "      <th>BXD95</th>\n",
       "      <th>BXD98</th>\n",
       "      <th>BXD99</th>\n",
       "      <th>BXD100</th>\n",
       "      <th>BXD101</th>\n",
       "      <th>BXD102</th>\n",
       "    </tr>\n",
       "    <tr>\n",
       "      <th>Locus</th>\n",
       "      <th></th>\n",
       "      <th></th>\n",
       "      <th></th>\n",
       "      <th></th>\n",
       "      <th></th>\n",
       "      <th></th>\n",
       "      <th></th>\n",
       "      <th></th>\n",
       "      <th></th>\n",
       "      <th></th>\n",
       "      <th></th>\n",
       "      <th></th>\n",
       "      <th></th>\n",
       "      <th></th>\n",
       "      <th></th>\n",
       "      <th></th>\n",
       "      <th></th>\n",
       "      <th></th>\n",
       "      <th></th>\n",
       "      <th></th>\n",
       "      <th></th>\n",
       "    </tr>\n",
       "  </thead>\n",
       "  <tbody>\n",
       "    <tr>\n",
       "      <th>rs6269442</th>\n",
       "      <td>1</td>\n",
       "      <td>0.000</td>\n",
       "      <td>3.482275</td>\n",
       "      <td>0.0</td>\n",
       "      <td>0.0</td>\n",
       "      <td>2.0</td>\n",
       "      <td>2.0</td>\n",
       "      <td>2.0</td>\n",
       "      <td>0.0</td>\n",
       "      <td>0.0</td>\n",
       "      <td>...</td>\n",
       "      <td>0.0</td>\n",
       "      <td>2.0</td>\n",
       "      <td>0.0</td>\n",
       "      <td>2.0</td>\n",
       "      <td>2.0</td>\n",
       "      <td>0.0</td>\n",
       "      <td>0.0</td>\n",
       "      <td>0.0</td>\n",
       "      <td>0.0</td>\n",
       "      <td>0.0</td>\n",
       "    </tr>\n",
       "    <tr>\n",
       "      <th>rs6241531</th>\n",
       "      <td>1</td>\n",
       "      <td>2.367</td>\n",
       "      <td>9.995925</td>\n",
       "      <td>0.0</td>\n",
       "      <td>0.0</td>\n",
       "      <td>2.0</td>\n",
       "      <td>2.0</td>\n",
       "      <td>2.0</td>\n",
       "      <td>0.0</td>\n",
       "      <td>2.0</td>\n",
       "      <td>...</td>\n",
       "      <td>0.0</td>\n",
       "      <td>2.0</td>\n",
       "      <td>0.0</td>\n",
       "      <td>2.0</td>\n",
       "      <td>2.0</td>\n",
       "      <td>0.0</td>\n",
       "      <td>0.0</td>\n",
       "      <td>0.0</td>\n",
       "      <td>0.0</td>\n",
       "      <td>2.0</td>\n",
       "    </tr>\n",
       "    <tr>\n",
       "      <th>rs6360236</th>\n",
       "      <td>1</td>\n",
       "      <td>3.263</td>\n",
       "      <td>11.073904</td>\n",
       "      <td>0.0</td>\n",
       "      <td>0.0</td>\n",
       "      <td>2.0</td>\n",
       "      <td>2.0</td>\n",
       "      <td>2.0</td>\n",
       "      <td>0.0</td>\n",
       "      <td>2.0</td>\n",
       "      <td>...</td>\n",
       "      <td>0.0</td>\n",
       "      <td>2.0</td>\n",
       "      <td>0.0</td>\n",
       "      <td>2.0</td>\n",
       "      <td>2.0</td>\n",
       "      <td>0.0</td>\n",
       "      <td>0.0</td>\n",
       "      <td>0.0</td>\n",
       "      <td>0.0</td>\n",
       "      <td>2.0</td>\n",
       "    </tr>\n",
       "    <tr>\n",
       "      <th>rs3722996</th>\n",
       "      <td>1</td>\n",
       "      <td>3.263</td>\n",
       "      <td>11.259432</td>\n",
       "      <td>0.0</td>\n",
       "      <td>0.0</td>\n",
       "      <td>2.0</td>\n",
       "      <td>2.0</td>\n",
       "      <td>2.0</td>\n",
       "      <td>0.0</td>\n",
       "      <td>2.0</td>\n",
       "      <td>...</td>\n",
       "      <td>0.0</td>\n",
       "      <td>2.0</td>\n",
       "      <td>0.0</td>\n",
       "      <td>2.0</td>\n",
       "      <td>2.0</td>\n",
       "      <td>0.0</td>\n",
       "      <td>0.0</td>\n",
       "      <td>0.0</td>\n",
       "      <td>0.0</td>\n",
       "      <td>2.0</td>\n",
       "    </tr>\n",
       "    <tr>\n",
       "      <th>D1Mit1</th>\n",
       "      <td>1</td>\n",
       "      <td>3.549</td>\n",
       "      <td>11.505582</td>\n",
       "      <td>0.0</td>\n",
       "      <td>0.0</td>\n",
       "      <td>2.0</td>\n",
       "      <td>2.0</td>\n",
       "      <td>2.0</td>\n",
       "      <td>0.0</td>\n",
       "      <td>2.0</td>\n",
       "      <td>...</td>\n",
       "      <td>0.0</td>\n",
       "      <td>2.0</td>\n",
       "      <td>0.0</td>\n",
       "      <td>2.0</td>\n",
       "      <td>2.0</td>\n",
       "      <td>0.0</td>\n",
       "      <td>0.0</td>\n",
       "      <td>0.0</td>\n",
       "      <td>0.0</td>\n",
       "      <td>2.0</td>\n",
       "    </tr>\n",
       "  </tbody>\n",
       "</table>\n",
       "<p>5 rows × 96 columns</p>\n",
       "</div>"
      ],
      "text/plain": [
       "          Chr     cM         Mb  BXD1  BXD2  BXD5  BXD6  BXD8  BXD9  BXD11  \\\n",
       "Locus                                                                        \n",
       "rs6269442   1  0.000   3.482275   0.0   0.0   2.0   2.0   2.0   0.0    0.0   \n",
       "rs6241531   1  2.367   9.995925   0.0   0.0   2.0   2.0   2.0   0.0    2.0   \n",
       "rs6360236   1  3.263  11.073904   0.0   0.0   2.0   2.0   2.0   0.0    2.0   \n",
       "rs3722996   1  3.263  11.259432   0.0   0.0   2.0   2.0   2.0   0.0    2.0   \n",
       "D1Mit1      1  3.549  11.505582   0.0   0.0   2.0   2.0   2.0   0.0    2.0   \n",
       "\n",
       "            ...    BXD90  BXD91  BXD93  BXD94  BXD95  BXD98  BXD99  BXD100  \\\n",
       "Locus       ...                                                              \n",
       "rs6269442   ...      0.0    2.0    0.0    2.0    2.0    0.0    0.0     0.0   \n",
       "rs6241531   ...      0.0    2.0    0.0    2.0    2.0    0.0    0.0     0.0   \n",
       "rs6360236   ...      0.0    2.0    0.0    2.0    2.0    0.0    0.0     0.0   \n",
       "rs3722996   ...      0.0    2.0    0.0    2.0    2.0    0.0    0.0     0.0   \n",
       "D1Mit1      ...      0.0    2.0    0.0    2.0    2.0    0.0    0.0     0.0   \n",
       "\n",
       "           BXD101  BXD102  \n",
       "Locus                      \n",
       "rs6269442     0.0     0.0  \n",
       "rs6241531     0.0     2.0  \n",
       "rs6360236     0.0     2.0  \n",
       "rs3722996     0.0     2.0  \n",
       "D1Mit1        0.0     2.0  \n",
       "\n",
       "[5 rows x 96 columns]"
      ]
     },
     "execution_count": 136,
     "metadata": {},
     "output_type": "execute_result"
    }
   ],
   "source": [
    "df_genotype.head()"
   ]
  },
  {
   "cell_type": "code",
   "execution_count": 44,
   "metadata": {
    "collapsed": false
   },
   "outputs": [],
   "source": [
    "from matplotlib.pyplot import cm"
   ]
  },
  {
   "cell_type": "code",
   "execution_count": 233,
   "metadata": {
    "collapsed": false
   },
   "outputs": [
    {
     "data": {
      "image/png": "[encoded data removed]",
      "text/plain": [
       "<matplotlib.figure.Figure at 0x7f7a40a27550>"
      ]
     },
     "metadata": {},
     "output_type": "display_data"
    }
   ],
   "source": [
    "plt.figure(figsize=(16,12), dpi=80)\n",
    "plt.title(\"Manhatten Plot of pValue on Chromosomes\",fontsize=20)\n",
    "step = 0\n",
    "t = 0\n",
    "chrom_names = df_results[\"Chr\"].unique()\n",
    "colors = cm.rainbow(np.linspace(0,1,len(chrom_names)))\n",
    "ticks_posi = []\n",
    "s = 0\n",
    "\n",
    "for i, chrom in enumerate(chrom_names):\n",
    "    temp = df_results[(df_results.ix[:, \"Chr\"] == chrom)] \n",
    "    t = step + temp.Mb.max()/2\n",
    "    ticks_posi.append(s + temp.Mb.max() /2)\n",
    "    plt.scatter([x + s for x in temp.Mb], -np.log10(temp.pValue), color=colors[i])\n",
    "    s = s + temp.Mb.max()\n",
    "    \n",
    "    \n",
    "\n",
    "plt.xticks(ticks_posi, chrom_names)\n",
    "plt.xlim(-1.0, len(df_results))\n",
    "plt.ylim(0, 7)\n",
    "plt.xlabel(\"Chromosome\", fontsize=20)\n",
    "plt.ylabel(\"-log(P)\", fontsize=20)\n",
    "plt.show()\n",
    "\n"
   ]
  },
  {
   "cell_type": "markdown",
   "metadata": {},
   "source": [
    "#### Bonus if you have way too much time: Try to make plot interactive (e.g. add tooltips on hover using mpld3)\n",
    "You will have time to work on a proper interactive version later in the course, so only do this if you finished all other tasks"
   ]
  },
  {
   "cell_type": "code",
   "execution_count": null,
   "metadata": {
    "collapsed": false,
    "run_control": {
     "frozen": false,
     "read_only": false
    }
   },
   "outputs": [],
   "source": []
  },
  {
   "cell_type": "code",
   "execution_count": null,
   "metadata": {
    "collapsed": true,
    "run_control": {
     "frozen": false,
     "read_only": false
    }
   },
   "outputs": [],
   "source": []
  },
  {
   "cell_type": "markdown",
   "metadata": {},
   "source": [
    "### Subtask: If you have time, adapt function so that it also supports the non-dominant inheritance models"
   ]
  },
  {
   "cell_type": "code",
   "execution_count": null,
   "metadata": {
    "collapsed": true,
    "run_control": {
     "frozen": false,
     "read_only": false
    }
   },
   "outputs": [],
   "source": []
  },
  {
   "cell_type": "code",
   "execution_count": null,
   "metadata": {
    "collapsed": true,
    "run_control": {
     "frozen": false,
     "read_only": false
    }
   },
   "outputs": [],
   "source": []
  },
  {
   "cell_type": "markdown",
   "metadata": {},
   "source": [
    "## Task: Correct for Multiple Hypothesis Testing"
   ]
  },
  {
   "cell_type": "markdown",
   "metadata": {},
   "source": [
    "Employ one of the correction methods described in the lecture to take care of the multiple hypothesis testing."
   ]
  },
  {
   "cell_type": "code",
   "execution_count": 276,
   "metadata": {
    "collapsed": false,
    "run_control": {
     "frozen": false,
     "read_only": false
    }
   },
   "outputs": [
    {
     "data": {
      "text/plain": [
       "array([False, False, False, ..., False, False, False], dtype=bool)"
      ]
     },
     "execution_count": 276,
     "metadata": {},
     "output_type": "execute_result"
    }
   ],
   "source": [
    "rej, pvals_corr, n,m = statsmodels.sandbox.stats.multicomp.multipletests(df_results.pValue, 0.05, method=\"bonferroni\")\n",
    "\n"
   ]
  },
  {
   "cell_type": "code",
   "execution_count": null,
   "metadata": {
    "collapsed": false,
    "run_control": {
     "frozen": false,
     "read_only": false
    }
   },
   "outputs": [],
   "source": []
  },
  {
   "cell_type": "markdown",
   "metadata": {},
   "source": [
    "### Subtask: Wrap your MHT correction in a funtion\n",
    "Ideally, the function should allow easy access to several parameters including the target $\\alpha$ and the correction method"
   ]
  },
  {
   "cell_type": "code",
   "execution_count": 301,
   "metadata": {
    "collapsed": false,
    "run_control": {
     "frozen": false,
     "read_only": false
    }
   },
   "outputs": [],
   "source": [
    "def perform_mht_correction(pVals, confi, cor_method):\n",
    "    rej, pvals_corr, n,m = statsmodels.sandbox.stats.multicomp.multipletests(pVals, confi,\n",
    "                                                                             cor_method)\n",
    "    corrected = pd.DataFrame([rej, pvals_corr, pVals, df_results.Chr], index=[\"Rejected\", \"p-Values corrected\", \"pValue\", \"Chr\"])\n",
    "    corrected = corrected.T\n",
    "    corrected = corrected.set_index(df_results.index)\n",
    "    \n",
    "    return corrected.sort_values(by=\"Rejected\", ascending=False)\n",
    "    \n",
    "    "
   ]
  },
  {
   "cell_type": "code",
   "execution_count": null,
   "metadata": {
    "collapsed": false,
    "run_control": {
     "frozen": false,
     "read_only": false
    }
   },
   "outputs": [],
   "source": []
  },
  {
   "cell_type": "markdown",
   "metadata": {},
   "source": [
    "### Subtask: Test if the function works as intended"
   ]
  },
  {
   "cell_type": "code",
   "execution_count": 302,
   "metadata": {
    "collapsed": false,
    "run_control": {
     "frozen": false,
     "read_only": false
    }
   },
   "outputs": [],
   "source": [
    "cb = perform_mht_correction(df_results.pValue, 0.05, \"bonferroni\")"
   ]
  },
  {
   "cell_type": "code",
   "execution_count": 303,
   "metadata": {
    "collapsed": false,
    "run_control": {
     "frozen": false,
     "read_only": false
    }
   },
   "outputs": [
    {
     "data": {
      "text/html": [
       "<div>\n",
       "<table border=\"1\" class=\"dataframe\">\n",
       "  <thead>\n",
       "    <tr style=\"text-align: right;\">\n",
       "      <th></th>\n",
       "      <th>Rejected</th>\n",
       "      <th>p-Values corrected</th>\n",
       "      <th>pValue</th>\n",
       "      <th>Chr</th>\n",
       "    </tr>\n",
       "    <tr>\n",
       "      <th>Locus</th>\n",
       "      <th></th>\n",
       "      <th></th>\n",
       "      <th></th>\n",
       "      <th></th>\n",
       "    </tr>\n",
       "  </thead>\n",
       "  <tbody>\n",
       "    <tr>\n",
       "      <th>rs3658567</th>\n",
       "      <td>True</td>\n",
       "      <td>0.00317422</td>\n",
       "      <td>1.21851e-06</td>\n",
       "      <td>4</td>\n",
       "    </tr>\n",
       "    <tr>\n",
       "      <th>CEL-4_86326428</th>\n",
       "      <td>True</td>\n",
       "      <td>0.0433406</td>\n",
       "      <td>1.66375e-05</td>\n",
       "      <td>4</td>\n",
       "    </tr>\n",
       "    <tr>\n",
       "      <th>rs13477804</th>\n",
       "      <td>True</td>\n",
       "      <td>0.00599085</td>\n",
       "      <td>2.29975e-06</td>\n",
       "      <td>4</td>\n",
       "    </tr>\n",
       "    <tr>\n",
       "      <th>rs3708061</th>\n",
       "      <td>True</td>\n",
       "      <td>0.00153323</td>\n",
       "      <td>5.88573e-07</td>\n",
       "      <td>4</td>\n",
       "    </tr>\n",
       "    <tr>\n",
       "      <th>rs13477796</th>\n",
       "      <td>True</td>\n",
       "      <td>0.00153323</td>\n",
       "      <td>5.88573e-07</td>\n",
       "      <td>4</td>\n",
       "    </tr>\n",
       "  </tbody>\n",
       "</table>\n",
       "</div>"
      ],
      "text/plain": [
       "               Rejected p-Values corrected       pValue Chr\n",
       "Locus                                                      \n",
       "rs3658567          True         0.00317422  1.21851e-06   4\n",
       "CEL-4_86326428     True          0.0433406  1.66375e-05   4\n",
       "rs13477804         True         0.00599085  2.29975e-06   4\n",
       "rs3708061          True         0.00153323  5.88573e-07   4\n",
       "rs13477796         True         0.00153323  5.88573e-07   4"
      ]
     },
     "execution_count": 303,
     "metadata": {},
     "output_type": "execute_result"
    }
   ],
   "source": [
    "cb.head()"
   ]
  },
  {
   "cell_type": "markdown",
   "metadata": {},
   "source": [
    "## Task: Identify candidate genes from identified loci"
   ]
  },
  {
   "cell_type": "markdown",
   "metadata": {},
   "source": [
    "### Subtask: Identify genes in region identified by significant loci (consider each chromosome separately)"
   ]
  },
  {
   "cell_type": "markdown",
   "metadata": {},
   "source": [
    "What we identified so far a so called __quantitative trait loci__, meaning that this locus on the genome is associated with a quantitative trait. This does not mean there is directly a causal relationship between the markers identified in the association study and the phenotype. It is, however, a pointer towards the region of the genome that may be relevant for the variability in the measured trait. The genes encompassed in this region then need to be analysed further to identify viable mechanistic candidates.\n",
    "\n",
    "\n",
    "\n",
    "A good starting point for this fine grained analysis would be to look up the genes directly linked to the SNP in [dbSNP]() (e.g, http://www.ncbi.nlm.nih.gov/projects/SNP/snp_ref.cgi?rs=rs3674482).\n",
    "\n",
    "Most likely the high ranking SNPs will not map directly to the causal gene, but be rather a marker for another variant in a gene in __linkage disequilibrium__ with this this SNP. We thus need to extend the search and look at other genes in the vicinity of the high ranking SNPs.\n",
    "\n",
    "You may thus want to move on the [Biomart](http://www.ensembl.org/biomart/martview/fb0e89930dcbbdb8075ca52f8b196719) to query for genes in a genomic region.\n",
    "\n",
    "A third resource you may want to check out is the [UCSC Genome Browser](http://genome.ucsc.edu/) for visual explorations as well as the [UCSC Table Browser](http://genome.ucsc.edu/cgi-bin/hgTables?hgsid=511555905_oFRLEcH1IWO1FdKyzynrsBCRMk7w) to obtain genes in a genomic region. The identifiers of proteins in the [uniprot](http://www.uniprot.org/) database are listed in the resulting table. Uniprot then can provide useful annotations of the proteins found in the search frame.\n",
    "\n",
    "Programmatic access is possible for all the services above using their REST interfaces:  \n",
    "[UCSC](http://genomewiki.ucsc.edu/index.php/Programmatic_access_to_the_Genome_Browser)     \n",
    "[Biomart](http://www.ensembl.org/info/data/biomart/biomart_restful.html)     \n",
    "[Uniprot](http://www.uniprot.org/help/programmatic_access)     \n",
    "\n",
    "There have been multiple attempts to make querying these services using python directly. The most important packages are:     \n",
    "[bioservices](https://pythonhosted.org/bioservices/)      \n",
    "[biomart-python](https://github.com/sebriois/biomart)      \n",
    "\n",
    "An example on how to query uniprot using bioservices can be found in [this notebook](http://nbviewer.jupyter.org/url/pythonhosted.org/bioservices/\\_downloads/UniProt.ipynb).\n",
    "\n",
    "If you decide to search for the genes of interest based on the genome location, make sure to select the correct reference genome. The reference used for the BXD genotyping is described in the genotype description on [genenetwork.org](http://www.genenetwork.org/dbdoc/BXDGeno.html)"
   ]
  },
  {
   "cell_type": "markdown",
   "metadata": {
    "collapsed": true,
    "run_control": {
     "frozen": false,
     "read_only": false
    }
   },
   "source": [
    "#### dbSNP search"
   ]
  },
  {
   "cell_type": "markdown",
   "metadata": {
    "collapsed": true,
    "run_control": {
     "frozen": false,
     "read_only": false
    }
   },
   "source": [
    "Using dbSNP, the following SNPs could be identified on Chromosome 4:\n",
    "- rs3658567   position: 76838931\n",
    "- rs13477804  position: 80512997\n",
    "- rs3708061   position: 81304223\n",
    "- rs13477796  position: 79052161\n",
    "- rs13477785  position: 76129014\n",
    "- rs13477805  position: 82288476\n",
    "- rs13477829  position: 88393567\n"
   ]
  },
  {
   "cell_type": "code",
   "execution_count": 317,
   "metadata": {
    "collapsed": false,
    "run_control": {
     "frozen": false,
     "read_only": false
    }
   },
   "outputs": [
    {
     "name": "stdout",
     "output_type": "stream",
     "text": [
      "--2016-09-22 12:33:38--  http://www.ensembl.org/biomart/martservice?query=%3C?xml%20version=%221.0%22%20encoding=%22UTF-8%22?%3E%3C!DOCTYPE%20Query%3E%3CQuery%20%20virtualSchemaName%20=%20%22default%22%20formatter%20=%20%22TSV%22%20header%20=%20%220%22%20uniqueRows%20=%20%220%22%20count%20=%20%22%22%20datasetConfigVersion%20=%20%220.6%22%20%3E%09%09%09%09%3CDataset%20name%20=%20%22mmusculus_gene_ensembl%22%20interface%20=%20%22default%22%20%3E%09%09%3CFilter%20name%20=%20%22chromosome_name%22%20value%20=%20%224%22/%3E%09%09%3CFilter%20name%20=%20%22end%22%20value%20=%20%2288393570%22/%3E%09%09%3CFilter%20name%20=%20%22start%22%20value%20=%20%2276129014%22/%3E%09%09%3CAttribute%20name%20=%20%22ensembl_gene_id%22%20/%3E%09%09%3CAttribute%20name%20=%20%22ensembl_transcript_id%22%20/%3E%09%09%3CAttribute%20name%20=%20%22phenotype_description%22%20/%3E%09%09%3CAttribute%20name%20=%20%22start_position%22%20/%3E%09%09%3CAttribute%20name%20=%20%22end_position%22%20/%3E%09%09%3CAttribute%20name%20=%20%22external_transcript_name%22%20/%3E%09%3C/Dataset%3E%3C/Query%3E\n",
      "Resolving www-cache (www-cache)... 134.2.12.47, 134.2.12.48, 134.2.12.41\n",
      "Connecting to www-cache (www-cache)|134.2.12.47|:3128... connected.\n",
      "Proxy request sent, awaiting response... 200 OK\n",
      "Length: unspecified [text/plain]\n",
      "Saving to: ‘mouse_genes.txt’\n",
      "\n",
      "    [  <=>                                  ] 304,942      820KB/s   in 0.4s   \n",
      "\n",
      "2016-09-22 12:33:39 (820 KB/s) - ‘mouse_genes.txt’ saved [304942]\n",
      "\n"
     ]
    }
   ],
   "source": [
    "!wget -O mouse_genes.txt 'http://www.ensembl.org/biomart/martservice?query=<?xml version=\"1.0\" encoding=\"UTF-8\"?>\\\n",
    "<!DOCTYPE Query>\\\n",
    "<Query  virtualSchemaName = \"default\" formatter = \"TSV\" header = \"0\" uniqueRows = \"0\" count = \"\" datasetConfigVersion = \"0.6\" >\\\n",
    "\t\t\t\\\n",
    "\t<Dataset name = \"mmusculus_gene_ensembl\" interface = \"default\" >\\\n",
    "\t\t<Filter name = \"chromosome_name\" value = \"4\"/>\\\n",
    "\t\t<Filter name = \"end\" value = \"88393570\"/>\\\n",
    "\t\t<Filter name = \"start\" value = \"76129014\"/>\\\n",
    "\t\t<Attribute name = \"ensembl_gene_id\" />\\\n",
    "\t\t<Attribute name = \"ensembl_transcript_id\" />\\\n",
    "\t\t<Attribute name = \"phenotype_description\" />\\\n",
    "\t\t<Attribute name = \"start_position\" />\\\n",
    "\t\t<Attribute name = \"end_position\" />\\\n",
    "\t\t<Attribute name = \"external_transcript_name\" />\\\n",
    "\t</Dataset>\\\n",
    "</Query>'\n",
    "\n",
    "\n",
    "\n"
   ]
  },
  {
   "cell_type": "code",
   "execution_count": null,
   "metadata": {
    "collapsed": false,
    "run_control": {
     "frozen": false,
     "read_only": false
    }
   },
   "outputs": [],
   "source": []
  },
  {
   "cell_type": "markdown",
   "metadata": {},
   "source": [
    "### Subtask: Check if the locations you found match to what is known from literature about genetics of mouse coat color"
   ]
  },
  {
   "cell_type": "code",
   "execution_count": 323,
   "metadata": {
    "collapsed": true,
    "run_control": {
     "frozen": false,
     "read_only": false
    }
   },
   "outputs": [],
   "source": [
    "mouse_genes = pd.read_csv(\"/home/engelha/Documents/Praktikum/Integrated_Bioinformatics/notebooks/mouse_genes.txt\",sep=\"\\t\",\n",
    "                         header=None, names=[\"Ensemble_Gene_ID\", \"Ensemble_Transcript_ID\", \"Phenotype_description\", \"Gene_start(bp)\", \n",
    "                                             \"Gene_End(bp)\", \"Associated_Transcript_Name\"])"
   ]
  },
  {
   "cell_type": "code",
   "execution_count": 327,
   "metadata": {
    "collapsed": false,
    "run_control": {
     "frozen": false,
     "read_only": false
    }
   },
   "outputs": [
    {
     "data": {
      "text/html": [
       "<div>\n",
       "<table border=\"1\" class=\"dataframe\">\n",
       "  <thead>\n",
       "    <tr style=\"text-align: right;\">\n",
       "      <th></th>\n",
       "      <th>Ensemble_Gene_ID</th>\n",
       "      <th>Ensemble_Transcript_ID</th>\n",
       "      <th>Phenotype_description</th>\n",
       "      <th>Gene_start(bp)</th>\n",
       "      <th>Gene_End(bp)</th>\n",
       "      <th>Associated_Transcript_Name</th>\n",
       "    </tr>\n",
       "  </thead>\n",
       "  <tbody>\n",
       "    <tr>\n",
       "      <th>0</th>\n",
       "      <td>ENSMUSG00000089409</td>\n",
       "      <td>ENSMUST00000158784</td>\n",
       "      <td>NaN</td>\n",
       "      <td>83078511</td>\n",
       "      <td>83078629</td>\n",
       "      <td>Gm24884-201</td>\n",
       "    </tr>\n",
       "    <tr>\n",
       "      <th>1</th>\n",
       "      <td>ENSMUSG00000077607</td>\n",
       "      <td>ENSMUST00000104419</td>\n",
       "      <td>NaN</td>\n",
       "      <td>81338274</td>\n",
       "      <td>81338404</td>\n",
       "      <td>Gm25803-201</td>\n",
       "    </tr>\n",
       "    <tr>\n",
       "      <th>2</th>\n",
       "      <td>ENSMUSG00000064687</td>\n",
       "      <td>ENSMUST00000082753</td>\n",
       "      <td>NaN</td>\n",
       "      <td>86043394</td>\n",
       "      <td>86043494</td>\n",
       "      <td>Gm25811-201</td>\n",
       "    </tr>\n",
       "    <tr>\n",
       "      <th>3</th>\n",
       "      <td>ENSMUSG00000077597</td>\n",
       "      <td>ENSMUST00000104409</td>\n",
       "      <td>NaN</td>\n",
       "      <td>86509152</td>\n",
       "      <td>86509225</td>\n",
       "      <td>Gm26017-201</td>\n",
       "    </tr>\n",
       "    <tr>\n",
       "      <th>4</th>\n",
       "      <td>ENSMUSG00000096801</td>\n",
       "      <td>ENSMUST00000083017</td>\n",
       "      <td>NaN</td>\n",
       "      <td>83285804</td>\n",
       "      <td>83285910</td>\n",
       "      <td>Gm23412-201</td>\n",
       "    </tr>\n",
       "  </tbody>\n",
       "</table>\n",
       "</div>"
      ],
      "text/plain": [
       "     Ensemble_Gene_ID Ensemble_Transcript_ID Phenotype_description  \\\n",
       "0  ENSMUSG00000089409     ENSMUST00000158784                   NaN   \n",
       "1  ENSMUSG00000077607     ENSMUST00000104419                   NaN   \n",
       "2  ENSMUSG00000064687     ENSMUST00000082753                   NaN   \n",
       "3  ENSMUSG00000077597     ENSMUST00000104409                   NaN   \n",
       "4  ENSMUSG00000096801     ENSMUST00000083017                   NaN   \n",
       "\n",
       "   Gene_start(bp)  Gene_End(bp) Associated_Transcript_Name  \n",
       "0        83078511      83078629                Gm24884-201  \n",
       "1        81338274      81338404                Gm25803-201  \n",
       "2        86043394      86043494                Gm25811-201  \n",
       "3        86509152      86509225                Gm26017-201  \n",
       "4        83285804      83285910                Gm23412-201  "
      ]
     },
     "execution_count": 327,
     "metadata": {},
     "output_type": "execute_result"
    }
   ],
   "source": [
    "mouse_genes.head()"
   ]
  },
  {
   "cell_type": "code",
   "execution_count": 342,
   "metadata": {
    "collapsed": false,
    "run_control": {
     "frozen": false,
     "read_only": false
    }
   },
   "outputs": [
    {
     "data": {
      "text/plain": [
       "[(1906, Ensemble_Gene_ID              ENSMUSG00000005994\n",
       "  Ensemble_Transcript_ID        ENSMUST00000102831\n",
       "  Phenotype_description         diluted coat color\n",
       "  Gene_start(bp)                          80834123\n",
       "  Gene_End(bp)                            80851719\n",
       "  Associated_Transcript_Name             Tyrp1-001\n",
       "  Name: 1906, dtype: object),\n",
       " (1932, Ensemble_Gene_ID              ENSMUSG00000005994\n",
       "  Ensemble_Transcript_ID        ENSMUST00000133932\n",
       "  Phenotype_description         diluted coat color\n",
       "  Gene_start(bp)                          80834123\n",
       "  Gene_End(bp)                            80851719\n",
       "  Associated_Transcript_Name             Tyrp1-002\n",
       "  Name: 1932, dtype: object),\n",
       " (1958, Ensemble_Gene_ID              ENSMUSG00000005994\n",
       "  Ensemble_Transcript_ID        ENSMUST00000133655\n",
       "  Phenotype_description         diluted coat color\n",
       "  Gene_start(bp)                          80834123\n",
       "  Gene_End(bp)                            80851719\n",
       "  Associated_Transcript_Name             Tyrp1-003\n",
       "  Name: 1958, dtype: object),\n",
       " (1984, Ensemble_Gene_ID              ENSMUSG00000005994\n",
       "  Ensemble_Transcript_ID        ENSMUST00000006151\n",
       "  Phenotype_description         diluted coat color\n",
       "  Gene_start(bp)                          80834123\n",
       "  Gene_End(bp)                            80851719\n",
       "  Associated_Transcript_Name             Tyrp1-201\n",
       "  Name: 1984, dtype: object)]"
      ]
     },
     "execution_count": 342,
     "metadata": {},
     "output_type": "execute_result"
    }
   ],
   "source": [
    "filtered_mice = [row for row in mouse_genes.iterrows() if 'color' in str(row)]\n",
    "filtered_mice"
   ]
  },
  {
   "cell_type": "code",
   "execution_count": null,
   "metadata": {
    "collapsed": true,
    "run_control": {
     "frozen": false,
     "read_only": false
    }
   },
   "outputs": [],
   "source": []
  },
  {
   "cell_type": "markdown",
   "metadata": {},
   "source": [
    "# Association tests between variant(s) and continuous phenotype¶ \n",
    "All of the phenotype data provided in the multi-omics publication is actually not categorical. We thus have to adapt our approach to use continuous data. In the lecture you learned that instead of $\\chi^2$ test or logistic regression, linear regression models or correlation tests could be used. "
   ]
  },
  {
   "cell_type": "markdown",
   "metadata": {},
   "source": [
    "## Task: Import relevant functions from scipy"
   ]
  },
  {
   "cell_type": "code",
   "execution_count": null,
   "metadata": {
    "collapsed": true,
    "run_control": {
     "frozen": false,
     "read_only": false
    }
   },
   "outputs": [],
   "source": []
  },
  {
   "cell_type": "markdown",
   "metadata": {},
   "source": [
    "## Task: Load Phenotype spreadsheets from paper supplement"
   ]
  },
  {
   "cell_type": "code",
   "execution_count": null,
   "metadata": {
    "collapsed": true,
    "run_control": {
     "frozen": false,
     "read_only": false
    }
   },
   "outputs": [],
   "source": []
  },
  {
   "cell_type": "code",
   "execution_count": null,
   "metadata": {
    "collapsed": true,
    "run_control": {
     "frozen": false,
     "read_only": false
    }
   },
   "outputs": [],
   "source": []
  },
  {
   "cell_type": "markdown",
   "metadata": {},
   "source": [
    "## Task: Implement Pearson's r-based test for correlation"
   ]
  },
  {
   "cell_type": "code",
   "execution_count": null,
   "metadata": {
    "collapsed": true,
    "run_control": {
     "frozen": false,
     "read_only": false
    }
   },
   "outputs": [],
   "source": []
  },
  {
   "cell_type": "code",
   "execution_count": null,
   "metadata": {
    "collapsed": true,
    "run_control": {
     "frozen": false,
     "read_only": false
    }
   },
   "outputs": [],
   "source": []
  },
  {
   "cell_type": "code",
   "execution_count": null,
   "metadata": {
    "collapsed": true,
    "run_control": {
     "frozen": false,
     "read_only": false
    }
   },
   "outputs": [],
   "source": []
  },
  {
   "cell_type": "markdown",
   "metadata": {},
   "source": [
    "## Task: Plot corresponding Manhattan Plot (using your previously defined function)"
   ]
  },
  {
   "cell_type": "code",
   "execution_count": null,
   "metadata": {
    "collapsed": true,
    "run_control": {
     "frozen": false,
     "read_only": false
    }
   },
   "outputs": [],
   "source": []
  },
  {
   "cell_type": "code",
   "execution_count": null,
   "metadata": {
    "collapsed": true,
    "run_control": {
     "frozen": false,
     "read_only": false
    }
   },
   "outputs": [],
   "source": []
  },
  {
   "cell_type": "markdown",
   "metadata": {},
   "source": [
    "## Task: Correct for multiple hypothesis testing"
   ]
  },
  {
   "cell_type": "code",
   "execution_count": null,
   "metadata": {
    "collapsed": true,
    "run_control": {
     "frozen": false,
     "read_only": false
    }
   },
   "outputs": [],
   "source": []
  },
  {
   "cell_type": "code",
   "execution_count": null,
   "metadata": {
    "collapsed": true,
    "run_control": {
     "frozen": false,
     "read_only": false
    }
   },
   "outputs": [],
   "source": []
  },
  {
   "cell_type": "code",
   "execution_count": null,
   "metadata": {
    "collapsed": true,
    "run_control": {
     "frozen": false,
     "read_only": false
    }
   },
   "outputs": [],
   "source": []
  },
  {
   "cell_type": "markdown",
   "metadata": {
    "collapsed": true
   },
   "source": [
    "# Run association tests for all phenotypes in Biochemistry, Hematology, and Blood Pressure\n",
    "Moving now into phenotype association studies, we will now test multiple phenotypes for genetic associations. To determine how much each trait is associated with a genetic factor, we have to repeat our analyses for (ideally all) phenotypes of interest while correcting for multiple hypothesis testing. We then have to figure out which traits are the most associated.\n",
    "\n",
    "Make sure to consider significance of association as well as the effect size of the association.\n",
    "\n",
    "Which traits are most influenced by genetics?"
   ]
  },
  {
   "cell_type": "code",
   "execution_count": null,
   "metadata": {
    "collapsed": true,
    "run_control": {
     "frozen": false,
     "read_only": false
    }
   },
   "outputs": [],
   "source": []
  },
  {
   "cell_type": "code",
   "execution_count": null,
   "metadata": {
    "collapsed": true,
    "run_control": {
     "frozen": false,
     "read_only": false
    }
   },
   "outputs": [],
   "source": []
  },
  {
   "cell_type": "markdown",
   "metadata": {
    "collapsed": true
   },
   "source": [
    "## Task: Pick a testing method from the previous tasks that is applicable for the  phenotype variable type"
   ]
  },
  {
   "cell_type": "code",
   "execution_count": null,
   "metadata": {
    "collapsed": true,
    "run_control": {
     "frozen": false,
     "read_only": false
    }
   },
   "outputs": [],
   "source": []
  },
  {
   "cell_type": "code",
   "execution_count": null,
   "metadata": {
    "collapsed": true,
    "run_control": {
     "frozen": false,
     "read_only": false
    }
   },
   "outputs": [],
   "source": []
  },
  {
   "cell_type": "markdown",
   "metadata": {},
   "source": [
    "## Task: Iteratively apply functionality to all phenotypes"
   ]
  },
  {
   "cell_type": "code",
   "execution_count": null,
   "metadata": {
    "collapsed": true,
    "run_control": {
     "frozen": false,
     "read_only": false
    }
   },
   "outputs": [],
   "source": []
  },
  {
   "cell_type": "code",
   "execution_count": null,
   "metadata": {
    "collapsed": true,
    "run_control": {
     "frozen": false,
     "read_only": false
    }
   },
   "outputs": [],
   "source": []
  },
  {
   "cell_type": "markdown",
   "metadata": {},
   "source": [
    "## Task: Extract relevant information about effect size, significance, locus,..."
   ]
  },
  {
   "cell_type": "code",
   "execution_count": null,
   "metadata": {
    "collapsed": true,
    "run_control": {
     "frozen": false,
     "read_only": false
    }
   },
   "outputs": [],
   "source": []
  },
  {
   "cell_type": "code",
   "execution_count": null,
   "metadata": {
    "collapsed": true,
    "run_control": {
     "frozen": false,
     "read_only": false
    }
   },
   "outputs": [],
   "source": []
  },
  {
   "cell_type": "markdown",
   "metadata": {},
   "source": [
    "## Task: Interpret results"
   ]
  },
  {
   "cell_type": "code",
   "execution_count": null,
   "metadata": {
    "collapsed": true,
    "run_control": {
     "frozen": false,
     "read_only": false
    }
   },
   "outputs": [],
   "source": []
  },
  {
   "cell_type": "code",
   "execution_count": null,
   "metadata": {
    "collapsed": true,
    "run_control": {
     "frozen": false,
     "read_only": false
    }
   },
   "outputs": [],
   "source": []
  },
  {
   "cell_type": "markdown",
   "metadata": {},
   "source": [
    "## Task: For most interesting examples, try to identify possible candidate genes"
   ]
  },
  {
   "cell_type": "code",
   "execution_count": null,
   "metadata": {
    "collapsed": true,
    "run_control": {
     "frozen": false,
     "read_only": false
    }
   },
   "outputs": [],
   "source": []
  },
  {
   "cell_type": "code",
   "execution_count": null,
   "metadata": {
    "collapsed": true,
    "run_control": {
     "frozen": false,
     "read_only": false
    }
   },
   "outputs": [],
   "source": []
  },
  {
   "cell_type": "markdown",
   "metadata": {},
   "source": [
    "## Task: Quickly compare your results to literature"
   ]
  },
  {
   "cell_type": "code",
   "execution_count": null,
   "metadata": {
    "collapsed": true,
    "run_control": {
     "frozen": false,
     "read_only": false
    }
   },
   "outputs": [],
   "source": []
  },
  {
   "cell_type": "code",
   "execution_count": null,
   "metadata": {
    "collapsed": true,
    "run_control": {
     "frozen": false,
     "read_only": false
    }
   },
   "outputs": [],
   "source": []
  },
  {
   "cell_type": "markdown",
   "metadata": {},
   "source": [
    "## What confounding factors may have been ignored in the current approach? How could they be incorporated?"
   ]
  },
  {
   "cell_type": "code",
   "execution_count": null,
   "metadata": {
    "collapsed": true,
    "run_control": {
     "frozen": false,
     "read_only": false
    }
   },
   "outputs": [],
   "source": []
  },
  {
   "cell_type": "code",
   "execution_count": null,
   "metadata": {
    "collapsed": true,
    "run_control": {
     "frozen": false,
     "read_only": false
    }
   },
   "outputs": [],
   "source": []
  },
  {
   "cell_type": "markdown",
   "metadata": {},
   "source": [
    "## Bonus subtask: Create a QQ-plot of the expected distribution of association test statistics (X-axis) compared to the observed values (Y-axis)\n",
    "In GWAS studies this type of plot is usually created to see if the obtained p-values follow those expected from the null hypothesis (we would assume most SNPs not to be associated). \n",
    "\n",
    "More about GWAS and QQplots can be found in [Erik Minikels cureffi.org blog](http://www.cureffi.org/2012/08/06/genome-wide-association-studies/), who summarizes several papers including McCarthy, M. I. et al.'s __[Genome-wide association studies for complex traits: consensus, uncertainty and challenges](http://www.nature.com/nrg/journal/v9/n5/full/nrg2344.html)__ in Nature Reviews Genetics 9, 356–369 (2008).\n",
    "\n",
    "From the above publication is also this exemplatory illustration of GWAS data, that may give you some ideas on what to plot in this task.\n",
    "<img src=\"gwas_viz.png\"></img>"
   ]
  },
  {
   "cell_type": "code",
   "execution_count": null,
   "metadata": {
    "collapsed": true,
    "run_control": {
     "frozen": false,
     "read_only": false
    }
   },
   "outputs": [],
   "source": []
  },
  {
   "cell_type": "code",
   "execution_count": null,
   "metadata": {
    "collapsed": true,
    "run_control": {
     "frozen": false,
     "read_only": false
    }
   },
   "outputs": [],
   "source": []
  }
 ],
 "metadata": {
  "hide_input": false,
  "kernelspec": {
   "display_name": "Python [Root]",
   "language": "python",
   "name": "Python [Root]"
  },
  "language_info": {
   "codemirror_mode": {
    "name": "ipython",
    "version": 2
   },
   "file_extension": ".py",
   "mimetype": "text/x-python",
   "name": "python",
   "nbconvert_exporter": "python",
   "pygments_lexer": "ipython2",
   "version": "2.7.12"
  },
  "nav_menu": {},
  "toc": {
   "navigate_menu": true,
   "number_sections": true,
   "sideBar": false,
   "threshold": 6,
   "toc_cell": true,
   "toc_number_sections": true,
   "toc_section_display": "block",
   "toc_window_display": true
  },
  "toc_position": {
   "height": "1208px",
   "left": "1163px",
   "right": "20px",
   "top": "88px",
   "width": "600px"
  }
 },
 "nbformat": 4,
 "nbformat_minor": 0
}
