{
 "cells": [
  {
   "cell_type": "markdown",
   "metadata": {},
   "source": [
    "## Task 1: KEGG and gene id mapping"
   ]
  },
  {
   "cell_type": "markdown",
   "metadata": {},
   "source": [
    "Familiarize yourself with the KEGG Rest interface and how to access it with Biopyhton:\n",
    "\n",
    "http://www.genome.jp/kegg/rest/keggapi.html\n",
    "\n",
    "http://nbviewer.jupyter.org/github/widdowquinn/notebooks/blob/master/Biopython_KGML_intro.ipynb"
   ]
  },
  {
   "cell_type": "markdown",
   "metadata": {},
   "source": [
    "### Subtask 1.1 Extract gene lists for all (mouse) KEGG pathways and store them in a suitable Python data structure"
   ]
  },
  {
   "cell_type": "code",
   "execution_count": 611,
   "metadata": {
    "collapsed": false
   },
   "outputs": [],
   "source": [
    "import Bio\n",
    "from Bio import SeqIO\n",
    "from Bio.KEGG.REST import *\n",
    "from Bio.KEGG.KGML import KGML_parser\n",
    "from Bio.Graphics.KGML_vis import KGMLCanvas\n",
    "from Bio.Graphics.ColorSpiral import ColorSpiral\n",
    "\n",
    "from IPython.display import Image, HTML\n",
    "import sys\n",
    "import os\n",
    "import matplotlib.pyplot as plt\n",
    "import seaborn as sns\n",
    "import pandas as pd\n",
    "import numpy as np\n",
    "import StringIO\n",
    "from scipy.stats import chi2_contingency, chi2, fisher_exact"
   ]
  },
  {
   "cell_type": "code",
   "execution_count": 11,
   "metadata": {
    "collapsed": true
   },
   "outputs": [],
   "source": [
    "# A bit of code that will help us display the PDF output\n",
    "def PDF(filename):\n",
    "    return HTML('<iframe src=%s width=700 height=350></iframe>' % filename)\n",
    "\n",
    "# A bit of helper code to shorten long text\n",
    "def head(text, lines=10):\n",
    "    \"\"\" Print the first lines lines of the passed text.\n",
    "    \"\"\"\n",
    "    print '\\n'.join(text.split('\\n')[:lines] + ['[...]'])"
   ]
  },
  {
   "cell_type": "code",
   "execution_count": 12,
   "metadata": {
    "collapsed": false
   },
   "outputs": [
    {
     "name": "stdout",
     "output_type": "stream",
     "text": [
      "kegg             Kyoto Encyclopedia of Genes and Genomes\n",
      "kegg             Release 79.0+/09-27, Sep 16\n",
      "                 Kanehisa Laboratories\n",
      "                 pathway     462,412 entries\n",
      "                 brite       165,895 entries\n",
      "                 module      377,109 entries\n",
      "                 disease       1,657 entries\n",
      "                 drug         10,364 entries\n",
      "                 environ         850 entries\n",
      "                 orthology    20,123 entries\n",
      "                 genome        4,746 entries\n",
      "                 genes     20,175,595 entries\n",
      "                 dgenes       99,485 entries\n",
      "                 compound     17,748 entries\n",
      "                 glycan       10,994 entries\n",
      "                 reaction     10,248 entries\n",
      "                 rpair         9,661 entries\n",
      "                 rclass        3,059 entries\n",
      "                 enzyme        6,791 entries\n",
      "\n"
     ]
    }
   ],
   "source": [
    "# Kyoto Encyclopedia of Genes and Genomes\n",
    "print(kegg_info(\"kegg\").read())"
   ]
  },
  {
   "cell_type": "code",
   "execution_count": 173,
   "metadata": {
    "collapsed": false
   },
   "outputs": [],
   "source": [
    "l = kegg_list('pathway', 'mmu').read()"
   ]
  },
  {
   "cell_type": "code",
   "execution_count": 174,
   "metadata": {
    "collapsed": false
   },
   "outputs": [
    {
     "data": {
      "text/plain": [
       "\"path:mmu00010\\tGlycolysis / Gluconeogenesis - Mus musculus (mouse)\\npath:mmu00020\\tCitrate cycle (TCA cycle) - Mus musculus (mouse)\\npath:mmu00030\\tPentose phosphate pathway - Mus musculus (mouse)\\npath:mmu00040\\tPentose and glucuronate interconversions - Mus musculus (mouse)\\npath:mmu00051\\tFructose and mannose metabolism - Mus musculus (mouse)\\npath:mmu00052\\tGalactose metabolism - Mus musculus (mouse)\\npath:mmu00053\\tAscorbate and aldarate metabolism - Mus musculus (mouse)\\npath:mmu00061\\tFatty acid biosynthesis - Mus musculus (mouse)\\npath:mmu00062\\tFatty acid elongation - Mus musculus (mouse)\\npath:mmu00071\\tFatty acid degradation - Mus musculus (mouse)\\npath:mmu00072\\tSynthesis and degradation of ketone bodies - Mus musculus (mouse)\\npath:mmu00100\\tSteroid biosynthesis - Mus musculus (mouse)\\npath:mmu00120\\tPrimary bile acid biosynthesis - Mus musculus (mouse)\\npath:mmu00130\\tUbiquinone and other terpenoid-quinone biosynthesis - Mus musculus (mouse)\\npath:mmu00140\\tSteroid hormone biosynthesis - Mus musculus (mouse)\\npath:mmu00190\\tOxidative phosphorylation - Mus musculus (mouse)\\npath:mmu00220\\tArginine biosynthesis - Mus musculus (mouse)\\npath:mmu00230\\tPurine metabolism - Mus musculus (mouse)\\npath:mmu00232\\tCaffeine metabolism - Mus musculus (mouse)\\npath:mmu00240\\tPyrimidine metabolism - Mus musculus (mouse)\\npath:mmu00250\\tAlanine, aspartate and glutamate metabolism - Mus musculus (mouse)\\npath:mmu00260\\tGlycine, serine and threonine metabolism - Mus musculus (mouse)\\npath:mmu00270\\tCysteine and methionine metabolism - Mus musculus (mouse)\\npath:mmu00280\\tValine, leucine and isoleucine degradation - Mus musculus (mouse)\\npath:mmu00290\\tValine, leucine and isoleucine biosynthesis - Mus musculus (mouse)\\npath:mmu00300\\tLysine biosynthesis - Mus musculus (mouse)\\npath:mmu00310\\tLysine degradation - Mus musculus (mouse)\\npath:mmu00330\\tArginine and proline metabolism - Mus musculus (mouse)\\npath:mmu00340\\tHistidine metabolism - Mus musculus (mouse)\\npath:mmu00350\\tTyrosine metabolism - Mus musculus (mouse)\\npath:mmu00360\\tPhenylalanine metabolism - Mus musculus (mouse)\\npath:mmu00380\\tTryptophan metabolism - Mus musculus (mouse)\\npath:mmu00400\\tPhenylalanine, tyrosine and tryptophan biosynthesis - Mus musculus (mouse)\\npath:mmu00410\\tbeta-Alanine metabolism - Mus musculus (mouse)\\npath:mmu00430\\tTaurine and hypotaurine metabolism - Mus musculus (mouse)\\npath:mmu00450\\tSelenocompound metabolism - Mus musculus (mouse)\\npath:mmu00471\\tD-Glutamine and D-glutamate metabolism - Mus musculus (mouse)\\npath:mmu00472\\tD-Arginine and D-ornithine metabolism - Mus musculus (mouse)\\npath:mmu00480\\tGlutathione metabolism - Mus musculus (mouse)\\npath:mmu00500\\tStarch and sucrose metabolism - Mus musculus (mouse)\\npath:mmu00510\\tN-Glycan biosynthesis - Mus musculus (mouse)\\npath:mmu00511\\tOther glycan degradation - Mus musculus (mouse)\\npath:mmu00512\\tMucin type O-Glycan biosynthesis - Mus musculus (mouse)\\npath:mmu00514\\tOther types of O-glycan biosynthesis - Mus musculus (mouse)\\npath:mmu00520\\tAmino sugar and nucleotide sugar metabolism - Mus musculus (mouse)\\npath:mmu00524\\tNeomycin, kanamycin and gentamicin biosynthesis - Mus musculus (mouse)\\npath:mmu00531\\tGlycosaminoglycan degradation - Mus musculus (mouse)\\npath:mmu00532\\tGlycosaminoglycan biosynthesis - chondroitin sulfate / dermatan sulfate - Mus musculus (mouse)\\npath:mmu00533\\tGlycosaminoglycan biosynthesis - keratan sulfate - Mus musculus (mouse)\\npath:mmu00534\\tGlycosaminoglycan biosynthesis - heparan sulfate / heparin - Mus musculus (mouse)\\npath:mmu00561\\tGlycerolipid metabolism - Mus musculus (mouse)\\npath:mmu00562\\tInositol phosphate metabolism - Mus musculus (mouse)\\npath:mmu00563\\tGlycosylphosphatidylinositol(GPI)-anchor biosynthesis - Mus musculus (mouse)\\npath:mmu00564\\tGlycerophospholipid metabolism - Mus musculus (mouse)\\npath:mmu00565\\tEther lipid metabolism - Mus musculus (mouse)\\npath:mmu00590\\tArachidonic acid metabolism - Mus musculus (mouse)\\npath:mmu00591\\tLinoleic acid metabolism - Mus musculus (mouse)\\npath:mmu00592\\talpha-Linolenic acid metabolism - Mus musculus (mouse)\\npath:mmu00600\\tSphingolipid metabolism - Mus musculus (mouse)\\npath:mmu00601\\tGlycosphingolipid biosynthesis - lacto and neolacto series - Mus musculus (mouse)\\npath:mmu00603\\tGlycosphingolipid biosynthesis - globo and isoglobo series - Mus musculus (mouse)\\npath:mmu00604\\tGlycosphingolipid biosynthesis - ganglio series - Mus musculus (mouse)\\npath:mmu00620\\tPyruvate metabolism - Mus musculus (mouse)\\npath:mmu00630\\tGlyoxylate and dicarboxylate metabolism - Mus musculus (mouse)\\npath:mmu00640\\tPropanoate metabolism - Mus musculus (mouse)\\npath:mmu00650\\tButanoate metabolism - Mus musculus (mouse)\\npath:mmu00670\\tOne carbon pool by folate - Mus musculus (mouse)\\npath:mmu00730\\tThiamine metabolism - Mus musculus (mouse)\\npath:mmu00740\\tRiboflavin metabolism - Mus musculus (mouse)\\npath:mmu00750\\tVitamin B6 metabolism - Mus musculus (mouse)\\npath:mmu00760\\tNicotinate and nicotinamide metabolism - Mus musculus (mouse)\\npath:mmu00770\\tPantothenate and CoA biosynthesis - Mus musculus (mouse)\\npath:mmu00780\\tBiotin metabolism - Mus musculus (mouse)\\npath:mmu00785\\tLipoic acid metabolism - Mus musculus (mouse)\\npath:mmu00790\\tFolate biosynthesis - Mus musculus (mouse)\\npath:mmu00830\\tRetinol metabolism - Mus musculus (mouse)\\npath:mmu00860\\tPorphyrin and chlorophyll metabolism - Mus musculus (mouse)\\npath:mmu00900\\tTerpenoid backbone biosynthesis - Mus musculus (mouse)\\npath:mmu00910\\tNitrogen metabolism - Mus musculus (mouse)\\npath:mmu00920\\tSulfur metabolism - Mus musculus (mouse)\\npath:mmu00970\\tAminoacyl-tRNA biosynthesis - Mus musculus (mouse)\\npath:mmu00980\\tMetabolism of xenobiotics by cytochrome P450 - Mus musculus (mouse)\\npath:mmu00982\\tDrug metabolism - cytochrome P450 - Mus musculus (mouse)\\npath:mmu00983\\tDrug metabolism - other enzymes - Mus musculus (mouse)\\npath:mmu01040\\tBiosynthesis of unsaturated fatty acids - Mus musculus (mouse)\\npath:mmu01100\\tMetabolic pathways - Mus musculus (mouse)\\npath:mmu01200\\tCarbon metabolism - Mus musculus (mouse)\\npath:mmu01210\\t2-Oxocarboxylic acid metabolism - Mus musculus (mouse)\\npath:mmu01212\\tFatty acid metabolism - Mus musculus (mouse)\\npath:mmu01230\\tBiosynthesis of amino acids - Mus musculus (mouse)\\npath:mmu01521\\tEGFR tyrosine kinase inhibitor resistance - Mus musculus (mouse)\\npath:mmu01522\\tEndocrine resistance - Mus musculus (mouse)\\npath:mmu01524\\tPlatinum drug resistance - Mus musculus (mouse)\\npath:mmu02010\\tABC transporters - Mus musculus (mouse)\\npath:mmu03008\\tRibosome biogenesis in eukaryotes - Mus musculus (mouse)\\npath:mmu03010\\tRibosome - Mus musculus (mouse)\\npath:mmu03013\\tRNA transport - Mus musculus (mouse)\\npath:mmu03015\\tmRNA surveillance pathway - Mus musculus (mouse)\\npath:mmu03018\\tRNA degradation - Mus musculus (mouse)\\npath:mmu03020\\tRNA polymerase - Mus musculus (mouse)\\npath:mmu03022\\tBasal transcription factors - Mus musculus (mouse)\\npath:mmu03030\\tDNA replication - Mus musculus (mouse)\\npath:mmu03040\\tSpliceosome - Mus musculus (mouse)\\npath:mmu03050\\tProteasome - Mus musculus (mouse)\\npath:mmu03060\\tProtein export - Mus musculus (mouse)\\npath:mmu03320\\tPPAR signaling pathway - Mus musculus (mouse)\\npath:mmu03410\\tBase excision repair - Mus musculus (mouse)\\npath:mmu03420\\tNucleotide excision repair - Mus musculus (mouse)\\npath:mmu03430\\tMismatch repair - Mus musculus (mouse)\\npath:mmu03440\\tHomologous recombination - Mus musculus (mouse)\\npath:mmu03450\\tNon-homologous end-joining - Mus musculus (mouse)\\npath:mmu03460\\tFanconi anemia pathway - Mus musculus (mouse)\\npath:mmu04010\\tMAPK signaling pathway - Mus musculus (mouse)\\npath:mmu04012\\tErbB signaling pathway - Mus musculus (mouse)\\npath:mmu04014\\tRas signaling pathway - Mus musculus (mouse)\\npath:mmu04015\\tRap1 signaling pathway - Mus musculus (mouse)\\npath:mmu04020\\tCalcium signaling pathway - Mus musculus (mouse)\\npath:mmu04022\\tcGMP-PKG signaling pathway - Mus musculus (mouse)\\npath:mmu04024\\tcAMP signaling pathway - Mus musculus (mouse)\\npath:mmu04060\\tCytokine-cytokine receptor interaction - Mus musculus (mouse)\\npath:mmu04062\\tChemokine signaling pathway - Mus musculus (mouse)\\npath:mmu04064\\tNF-kappa B signaling pathway - Mus musculus (mouse)\\npath:mmu04066\\tHIF-1 signaling pathway - Mus musculus (mouse)\\npath:mmu04068\\tFoxO signaling pathway - Mus musculus (mouse)\\npath:mmu04070\\tPhosphatidylinositol signaling system - Mus musculus (mouse)\\npath:mmu04071\\tSphingolipid signaling pathway - Mus musculus (mouse)\\npath:mmu04072\\tPhospholipase D signaling pathway - Mus musculus (mouse)\\npath:mmu04080\\tNeuroactive ligand-receptor interaction - Mus musculus (mouse)\\npath:mmu04110\\tCell cycle - Mus musculus (mouse)\\npath:mmu04114\\tOocyte meiosis - Mus musculus (mouse)\\npath:mmu04115\\tp53 signaling pathway - Mus musculus (mouse)\\npath:mmu04120\\tUbiquitin mediated proteolysis - Mus musculus (mouse)\\npath:mmu04122\\tSulfur relay system - Mus musculus (mouse)\\npath:mmu04130\\tSNARE interactions in vesicular transport - Mus musculus (mouse)\\npath:mmu04140\\tRegulation of autophagy - Mus musculus (mouse)\\npath:mmu04141\\tProtein processing in endoplasmic reticulum - Mus musculus (mouse)\\npath:mmu04142\\tLysosome - Mus musculus (mouse)\\npath:mmu04144\\tEndocytosis - Mus musculus (mouse)\\npath:mmu04145\\tPhagosome - Mus musculus (mouse)\\npath:mmu04146\\tPeroxisome - Mus musculus (mouse)\\npath:mmu04150\\tmTOR signaling pathway - Mus musculus (mouse)\\npath:mmu04151\\tPI3K-Akt signaling pathway - Mus musculus (mouse)\\npath:mmu04152\\tAMPK signaling pathway - Mus musculus (mouse)\\npath:mmu04210\\tApoptosis - Mus musculus (mouse)\\npath:mmu04211\\tLongevity regulating pathway - Mus musculus (mouse)\\npath:mmu04213\\tLongevity regulating pathway - multiple species - Mus musculus (mouse)\\npath:mmu04215\\tApoptosis - multiple species - Mus musculus (mouse)\\npath:mmu04260\\tCardiac muscle contraction - Mus musculus (mouse)\\npath:mmu04261\\tAdrenergic signaling in cardiomyocytes - Mus musculus (mouse)\\npath:mmu04270\\tVascular smooth muscle contraction - Mus musculus (mouse)\\npath:mmu04310\\tWnt signaling pathway - Mus musculus (mouse)\\npath:mmu04320\\tDorso-ventral axis formation - Mus musculus (mouse)\\npath:mmu04330\\tNotch signaling pathway - Mus musculus (mouse)\\npath:mmu04340\\tHedgehog signaling pathway - Mus musculus (mouse)\\npath:mmu04350\\tTGF-beta signaling pathway - Mus musculus (mouse)\\npath:mmu04360\\tAxon guidance - Mus musculus (mouse)\\npath:mmu04370\\tVEGF signaling pathway - Mus musculus (mouse)\\npath:mmu04380\\tOsteoclast differentiation - Mus musculus (mouse)\\npath:mmu04390\\tHippo signaling pathway - Mus musculus (mouse)\\npath:mmu04392\\tHippo signaling pathway -multiple species - Mus musculus (mouse)\\npath:mmu04510\\tFocal adhesion - Mus musculus (mouse)\\npath:mmu04512\\tECM-receptor interaction - Mus musculus (mouse)\\npath:mmu04514\\tCell adhesion molecules (CAMs) - Mus musculus (mouse)\\npath:mmu04520\\tAdherens junction - Mus musculus (mouse)\\npath:mmu04530\\tTight junction - Mus musculus (mouse)\\npath:mmu04540\\tGap junction - Mus musculus (mouse)\\npath:mmu04550\\tSignaling pathways regulating pluripotency of stem cells - Mus musculus (mouse)\\npath:mmu04610\\tComplement and coagulation cascades - Mus musculus (mouse)\\npath:mmu04611\\tPlatelet activation - Mus musculus (mouse)\\npath:mmu04612\\tAntigen processing and presentation - Mus musculus (mouse)\\npath:mmu04614\\tRenin-angiotensin system - Mus musculus (mouse)\\npath:mmu04620\\tToll-like receptor signaling pathway - Mus musculus (mouse)\\npath:mmu04621\\tNOD-like receptor signaling pathway - Mus musculus (mouse)\\npath:mmu04622\\tRIG-I-like receptor signaling pathway - Mus musculus (mouse)\\npath:mmu04623\\tCytosolic DNA-sensing pathway - Mus musculus (mouse)\\npath:mmu04630\\tJak-STAT signaling pathway - Mus musculus (mouse)\\npath:mmu04640\\tHematopoietic cell lineage - Mus musculus (mouse)\\npath:mmu04650\\tNatural killer cell mediated cytotoxicity - Mus musculus (mouse)\\npath:mmu04660\\tT cell receptor signaling pathway - Mus musculus (mouse)\\npath:mmu04662\\tB cell receptor signaling pathway - Mus musculus (mouse)\\npath:mmu04664\\tFc epsilon RI signaling pathway - Mus musculus (mouse)\\npath:mmu04666\\tFc gamma R-mediated phagocytosis - Mus musculus (mouse)\\npath:mmu04668\\tTNF signaling pathway - Mus musculus (mouse)\\npath:mmu04670\\tLeukocyte transendothelial migration - Mus musculus (mouse)\\npath:mmu04672\\tIntestinal immune network for IgA production - Mus musculus (mouse)\\npath:mmu04710\\tCircadian rhythm - Mus musculus (mouse)\\npath:mmu04713\\tCircadian entrainment - Mus musculus (mouse)\\npath:mmu04720\\tLong-term potentiation - Mus musculus (mouse)\\npath:mmu04721\\tSynaptic vesicle cycle - Mus musculus (mouse)\\npath:mmu04722\\tNeurotrophin signaling pathway - Mus musculus (mouse)\\npath:mmu04723\\tRetrograde endocannabinoid signaling - Mus musculus (mouse)\\npath:mmu04724\\tGlutamatergic synapse - Mus musculus (mouse)\\npath:mmu04725\\tCholinergic synapse - Mus musculus (mouse)\\npath:mmu04726\\tSerotonergic synapse - Mus musculus (mouse)\\npath:mmu04727\\tGABAergic synapse - Mus musculus (mouse)\\npath:mmu04728\\tDopaminergic synapse - Mus musculus (mouse)\\npath:mmu04730\\tLong-term depression - Mus musculus (mouse)\\npath:mmu04740\\tOlfactory transduction - Mus musculus (mouse)\\npath:mmu04742\\tTaste transduction - Mus musculus (mouse)\\npath:mmu04744\\tPhototransduction - Mus musculus (mouse)\\npath:mmu04750\\tInflammatory mediator regulation of TRP channels - Mus musculus (mouse)\\npath:mmu04810\\tRegulation of actin cytoskeleton - Mus musculus (mouse)\\npath:mmu04910\\tInsulin signaling pathway - Mus musculus (mouse)\\npath:mmu04911\\tInsulin secretion - Mus musculus (mouse)\\npath:mmu04912\\tGnRH signaling pathway - Mus musculus (mouse)\\npath:mmu04913\\tOvarian steroidogenesis - Mus musculus (mouse)\\npath:mmu04914\\tProgesterone-mediated oocyte maturation - Mus musculus (mouse)\\npath:mmu04915\\tEstrogen signaling pathway - Mus musculus (mouse)\\npath:mmu04916\\tMelanogenesis - Mus musculus (mouse)\\npath:mmu04917\\tProlactin signaling pathway - Mus musculus (mouse)\\npath:mmu04918\\tThyroid hormone synthesis - Mus musculus (mouse)\\npath:mmu04919\\tThyroid hormone signaling pathway - Mus musculus (mouse)\\npath:mmu04920\\tAdipocytokine signaling pathway - Mus musculus (mouse)\\npath:mmu04921\\tOxytocin signaling pathway - Mus musculus (mouse)\\npath:mmu04922\\tGlucagon signaling pathway - Mus musculus (mouse)\\npath:mmu04923\\tRegulation of lipolysis in adipocytes - Mus musculus (mouse)\\npath:mmu04924\\tRenin secretion - Mus musculus (mouse)\\npath:mmu04925\\tAldosterone synthesis and secretion - Mus musculus (mouse)\\npath:mmu04930\\tType II diabetes mellitus - Mus musculus (mouse)\\npath:mmu04931\\tInsulin resistance - Mus musculus (mouse)\\npath:mmu04932\\tNon-alcoholic fatty liver disease (NAFLD) - Mus musculus (mouse)\\npath:mmu04933\\tAGE-RAGE signaling pathway in diabetic complications - Mus musculus (mouse)\\npath:mmu04940\\tType I diabetes mellitus - Mus musculus (mouse)\\npath:mmu04950\\tMaturity onset diabetes of the young - Mus musculus (mouse)\\npath:mmu04960\\tAldosterone-regulated sodium reabsorption - Mus musculus (mouse)\\npath:mmu04961\\tEndocrine and other factor-regulated calcium reabsorption - Mus musculus (mouse)\\npath:mmu04962\\tVasopressin-regulated water reabsorption - Mus musculus (mouse)\\npath:mmu04964\\tProximal tubule bicarbonate reclamation - Mus musculus (mouse)\\npath:mmu04966\\tCollecting duct acid secretion - Mus musculus (mouse)\\npath:mmu04970\\tSalivary secretion - Mus musculus (mouse)\\npath:mmu04971\\tGastric acid secretion - Mus musculus (mouse)\\npath:mmu04972\\tPancreatic secretion - Mus musculus (mouse)\\npath:mmu04973\\tCarbohydrate digestion and absorption - Mus musculus (mouse)\\npath:mmu04974\\tProtein digestion and absorption - Mus musculus (mouse)\\npath:mmu04975\\tFat digestion and absorption - Mus musculus (mouse)\\npath:mmu04976\\tBile secretion - Mus musculus (mouse)\\npath:mmu04977\\tVitamin digestion and absorption - Mus musculus (mouse)\\npath:mmu04978\\tMineral absorption - Mus musculus (mouse)\\npath:mmu05010\\tAlzheimer's disease - Mus musculus (mouse)\\npath:mmu05012\\tParkinson's disease - Mus musculus (mouse)\\npath:mmu05014\\tAmyotrophic lateral sclerosis (ALS) - Mus musculus (mouse)\\npath:mmu05016\\tHuntington's disease - Mus musculus (mouse)\\npath:mmu05020\\tPrion diseases - Mus musculus (mouse)\\npath:mmu05030\\tCocaine addiction - Mus musculus (mouse)\\npath:mmu05031\\tAmphetamine addiction - Mus musculus (mouse)\\npath:mmu05032\\tMorphine addiction - Mus musculus (mouse)\\npath:mmu05033\\tNicotine addiction - Mus musculus (mouse)\\npath:mmu05034\\tAlcoholism - Mus musculus (mouse)\\npath:mmu05100\\tBacterial invasion of epithelial cells - Mus musculus (mouse)\\npath:mmu05132\\tSalmonella infection - Mus musculus (mouse)\\npath:mmu05133\\tPertussis - Mus musculus (mouse)\\npath:mmu05134\\tLegionellosis - Mus musculus (mouse)\\npath:mmu05140\\tLeishmaniasis - Mus musculus (mouse)\\npath:mmu05142\\tChagas disease (American trypanosomiasis) - Mus musculus (mouse)\\npath:mmu05143\\tAfrican trypanosomiasis - Mus musculus (mouse)\\npath:mmu05144\\tMalaria - Mus musculus (mouse)\\npath:mmu05145\\tToxoplasmosis - Mus musculus (mouse)\\npath:mmu05146\\tAmoebiasis - Mus musculus (mouse)\\npath:mmu05150\\tStaphylococcus aureus infection - Mus musculus (mouse)\\npath:mmu05152\\tTuberculosis - Mus musculus (mouse)\\npath:mmu05160\\tHepatitis C - Mus musculus (mouse)\\npath:mmu05161\\tHepatitis B - Mus musculus (mouse)\\npath:mmu05162\\tMeasles - Mus musculus (mouse)\\npath:mmu05164\\tInfluenza A - Mus musculus (mouse)\\npath:mmu05166\\tHTLV-I infection - Mus musculus (mouse)\\npath:mmu05168\\tHerpes simplex infection - Mus musculus (mouse)\\npath:mmu05169\\tEpstein-Barr virus infection - Mus musculus (mouse)\\npath:mmu05200\\tPathways in cancer - Mus musculus (mouse)\\npath:mmu05202\\tTranscriptional misregulation in cancer - Mus musculus (mouse)\\npath:mmu05203\\tViral carcinogenesis - Mus musculus (mouse)\\npath:mmu05204\\tChemical carcinogenesis - Mus musculus (mouse)\\npath:mmu05205\\tProteoglycans in cancer - Mus musculus (mouse)\\npath:mmu05206\\tMicroRNAs in cancer - Mus musculus (mouse)\\npath:mmu05210\\tColorectal cancer - Mus musculus (mouse)\\npath:mmu05211\\tRenal cell carcinoma - Mus musculus (mouse)\\npath:mmu05212\\tPancreatic cancer - Mus musculus (mouse)\\npath:mmu05213\\tEndometrial cancer - Mus musculus (mouse)\\npath:mmu05214\\tGlioma - Mus musculus (mouse)\\npath:mmu05215\\tProstate cancer - Mus musculus (mouse)\\npath:mmu05216\\tThyroid cancer - Mus musculus (mouse)\\npath:mmu05217\\tBasal cell carcinoma - Mus musculus (mouse)\\npath:mmu05218\\tMelanoma - Mus musculus (mouse)\\npath:mmu05219\\tBladder cancer - Mus musculus (mouse)\\npath:mmu05220\\tChronic myeloid leukemia - Mus musculus (mouse)\\npath:mmu05221\\tAcute myeloid leukemia - Mus musculus (mouse)\\npath:mmu05222\\tSmall cell lung cancer - Mus musculus (mouse)\\npath:mmu05223\\tNon-small cell lung cancer - Mus musculus (mouse)\\npath:mmu05224\\tBreast cancer - Mus musculus (mouse)\\npath:mmu05230\\tCentral carbon metabolism in cancer - Mus musculus (mouse)\\npath:mmu05231\\tCholine metabolism in cancer - Mus musculus (mouse)\\npath:mmu05310\\tAsthma - Mus musculus (mouse)\\npath:mmu05320\\tAutoimmune thyroid disease - Mus musculus (mouse)\\npath:mmu05321\\tInflammatory bowel disease (IBD) - Mus musculus (mouse)\\npath:mmu05322\\tSystemic lupus erythematosus - Mus musculus (mouse)\\npath:mmu05323\\tRheumatoid arthritis - Mus musculus (mouse)\\npath:mmu05330\\tAllograft rejection - Mus musculus (mouse)\\npath:mmu05332\\tGraft-versus-host disease - Mus musculus (mouse)\\npath:mmu05340\\tPrimary immunodeficiency - Mus musculus (mouse)\\npath:mmu05410\\tHypertrophic cardiomyopathy (HCM) - Mus musculus (mouse)\\npath:mmu05412\\tArrhythmogenic right ventricular cardiomyopathy (ARVC) - Mus musculus (mouse)\\npath:mmu05414\\tDilated cardiomyopathy - Mus musculus (mouse)\\npath:mmu05416\\tViral myocarditis - Mus musculus (mouse)\\n\""
      ]
     },
     "execution_count": 174,
     "metadata": {},
     "output_type": "execute_result"
    }
   ],
   "source": [
    "l"
   ]
  },
  {
   "cell_type": "code",
   "execution_count": 337,
   "metadata": {
    "collapsed": false
   },
   "outputs": [
    {
     "data": {
      "text/html": [
       "<div>\n",
       "<table border=\"1\" class=\"dataframe\">\n",
       "  <thead>\n",
       "    <tr style=\"text-align: right;\">\n",
       "      <th></th>\n",
       "      <th>Pathway_Description</th>\n",
       "    </tr>\n",
       "    <tr>\n",
       "      <th>Pathway_ID</th>\n",
       "      <th></th>\n",
       "    </tr>\n",
       "  </thead>\n",
       "  <tbody>\n",
       "    <tr>\n",
       "      <th>path:mmu05410</th>\n",
       "      <td>Hypertrophic cardiomyopathy (HCM) - Mus muscul...</td>\n",
       "    </tr>\n",
       "    <tr>\n",
       "      <th>path:mmu05412</th>\n",
       "      <td>Arrhythmogenic right ventricular cardiomyopath...</td>\n",
       "    </tr>\n",
       "    <tr>\n",
       "      <th>path:mmu05414</th>\n",
       "      <td>Dilated cardiomyopathy - Mus musculus (mouse)</td>\n",
       "    </tr>\n",
       "    <tr>\n",
       "      <th>path:mmu05416</th>\n",
       "      <td>Viral myocarditis - Mus musculus (mouse)</td>\n",
       "    </tr>\n",
       "    <tr>\n",
       "      <th></th>\n",
       "      <td>None</td>\n",
       "    </tr>\n",
       "  </tbody>\n",
       "</table>\n",
       "</div>"
      ],
      "text/plain": [
       "                                             Pathway_Description\n",
       "Pathway_ID                                                      \n",
       "path:mmu05410  Hypertrophic cardiomyopathy (HCM) - Mus muscul...\n",
       "path:mmu05412  Arrhythmogenic right ventricular cardiomyopath...\n",
       "path:mmu05414      Dilated cardiomyopathy - Mus musculus (mouse)\n",
       "path:mmu05416           Viral myocarditis - Mus musculus (mouse)\n",
       "                                                            None"
      ]
     },
     "execution_count": 337,
     "metadata": {},
     "output_type": "execute_result"
    }
   ],
   "source": [
    "df_path_list = pd.DataFrame([x.replace(\";\", \"\\t\", 1).split(\"\\t\") for x in l.split(\"\\n\")], columns =[\"Pathway_ID\", \"Pathway_Description\"])\n",
    "df_path_list.set_index(\"Pathway_ID\",inplace=True)\n",
    "df_path_list.tail()"
   ]
  },
  {
   "cell_type": "code",
   "execution_count": 268,
   "metadata": {
    "collapsed": false
   },
   "outputs": [
    {
     "data": {
      "text/plain": [
       "['ENTRY       mmu00010                    Pathway',\n",
       " 'NAME        Glycolysis / Gluconeogenesis - Mus musculus (mouse)',\n",
       " 'DESCRIPTION Glycolysis is the process of converting glucose into pyruvate and generating small amounts of ATP (energy) and NADH (reducing power). It is a central pathway that produces important precursor metabolites: six-carbon compounds of glucose-6P and fructose-6P and three-carbon compounds of glycerone-P, glyceraldehyde-3P, glycerate-3P, phosphoenolpyruvate, and pyruvate [MD:M00001]. Acetyl-CoA, another important precursor metabolite, is produced by oxidative decarboxylation of pyruvate [MD:M00307]. When the enzyme genes of this pathway are examined in completely sequenced genomes, the reaction steps of three-carbon compounds from glycerone-P to pyruvate form a conserved core module [MD:M00002], which is found in almost all organisms and which sometimes contains operon structures in bacterial genomes. Gluconeogenesis is a synthesis pathway of glucose from noncarbohydrate precursors. It is essentially a reversal of glycolysis with minor variations of alternative paths [MD:M00003].',\n",
       " 'CLASS       Metabolism; Carbohydrate metabolism',\n",
       " 'PATHWAY_MAP mmu00010  Glycolysis / Gluconeogenesis',\n",
       " 'MODULE      mmu_M00001  Glycolysis (Embden-Meyerhof pathway), glucose => pyruvate [PATH:mmu00010]',\n",
       " '            mmu_M00002  Glycolysis, core module involving three-carbon compounds [PATH:mmu00010]',\n",
       " '            mmu_M00003  Gluconeogenesis, oxaloacetate => fructose-6P [PATH:mmu00010]',\n",
       " '            mmu_M00307  Pyruvate oxidation, pyruvate => acetyl-CoA [PATH:mmu00010]',\n",
       " 'DBLINKS     BSID: 83126',\n",
       " '            GO: 0006096 0006094',\n",
       " 'ORGANISM    Mus musculus (mouse) [GN:mmu]',\n",
       " 'GENE        15277  Hk2; hexokinase 2 [KO:K00844] [EC:2.7.1.1]',\n",
       " '            212032  Hk3; hexokinase 3 [KO:K00844] [EC:2.7.1.1]',\n",
       " '            15275  Hk1; hexokinase 1 [KO:K00844] [EC:2.7.1.1]',\n",
       " '            216019  Hkdc1; hexokinase domain containing 1 [KO:K00844] [EC:2.7.1.1]',\n",
       " '            103988  Gck; glucokinase [KO:K12407] [EC:2.7.1.2]',\n",
       " '            14751  Gpi1; glucose phosphate isomerase 1 [KO:K01810] [EC:5.3.1.9]',\n",
       " '            18641  Pfkl; phosphofructokinase, liver, B-type [KO:K00850] [EC:2.7.1.11]',\n",
       " '            18642  Pfkm; phosphofructokinase, muscle [KO:K00850] [EC:2.7.1.11]',\n",
       " '            56421  Pfkp; phosphofructokinase, platelet [KO:K00850] [EC:2.7.1.11]',\n",
       " '            14121  Fbp1; fructose bisphosphatase 1 [KO:K03841] [EC:3.1.3.11]',\n",
       " '            14120  Fbp2; fructose bisphosphatase 2 [KO:K03841] [EC:3.1.3.11]',\n",
       " '            11674  Aldoa; aldolase A, fructose-bisphosphate [KO:K01623] [EC:4.1.2.13]',\n",
       " '            230163  Aldob; aldolase B, fructose-bisphosphate [KO:K01623] [EC:4.1.2.13]',\n",
       " '            11676  Aldoc; aldolase C, fructose-bisphosphate [KO:K01623] [EC:4.1.2.13]',\n",
       " '            353204  Aldoart1; aldolase 1 A, retrogene 1 [KO:K01623] [EC:4.1.2.13]',\n",
       " '            21991  Tpi1; triosephosphate isomerase 1 [KO:K01803] [EC:5.3.1.1]',\n",
       " '            14433  Gapdh; glyceraldehyde-3-phosphate dehydrogenase [KO:K00134] [EC:1.2.1.12]',\n",
       " '            100042025  Gapdh-ps15; glyceraldehyde-3-phosphate dehydrogenase, pseudogene 15 [KO:K00134] [EC:1.2.1.12]',\n",
       " '            14447  Gapdhs; glyceraldehyde-3-phosphate dehydrogenase, spermatogenic [KO:K10705] [EC:1.2.1.12]',\n",
       " '            18655  Pgk1; phosphoglycerate kinase 1 [KO:K00927] [EC:2.7.2.3]',\n",
       " '            18663  Pgk2; phosphoglycerate kinase 2 [KO:K00927] [EC:2.7.2.3]',\n",
       " '            18648  Pgam1; phosphoglycerate mutase 1 [KO:K01834] [EC:5.4.2.11]',\n",
       " '            56012  Pgam2; phosphoglycerate mutase 2 [KO:K01834] [EC:5.4.2.11]',\n",
       " '            13806  Eno1; enolase 1, alpha non-neuron [KO:K01689] [EC:4.2.1.11]',\n",
       " '            13807  Eno2; enolase 2, gamma neuronal [KO:K01689] [EC:4.2.1.11]',\n",
       " '            13808  Eno3; enolase 3, beta muscle [KO:K01689] [EC:4.2.1.11]',\n",
       " '            433182  Eno1b; enolase 1B, retrotransposed [KO:K01689] [EC:4.2.1.11]',\n",
       " '            18746  Pkm; pyruvate kinase, muscle [KO:K00873] [EC:2.7.1.40]',\n",
       " '            18770  Pklr; pyruvate kinase liver and red blood cell [KO:K12406] [EC:2.7.1.40]',\n",
       " '            18597  Pdha1; pyruvate dehydrogenase E1 alpha 1 [KO:K00161] [EC:1.2.4.1]',\n",
       " '            18598  Pdha2; pyruvate dehydrogenase E1 alpha 2 [KO:K00161] [EC:1.2.4.1]',\n",
       " '            68263  Pdhb; pyruvate dehydrogenase (lipoamide) beta [KO:K00162] [EC:1.2.4.1]',\n",
       " '            235339  Dlat; dihydrolipoamide S-acetyltransferase (E2 component of pyruvate dehydrogenase complex) [KO:K00627] [EC:2.3.1.12]',\n",
       " '            13382  Dld; dihydrolipoamide dehydrogenase [KO:K00382] [EC:1.8.1.4]',\n",
       " '            16828  Ldha; lactate dehydrogenase A [KO:K00016] [EC:1.1.1.27]',\n",
       " '            16832  Ldhb; lactate dehydrogenase B [KO:K00016] [EC:1.1.1.27]',\n",
       " '            16833  Ldhc; lactate dehydrogenase C [KO:K00016] [EC:1.1.1.27]',\n",
       " '            106557  Ldhal6b; lactate dehydrogenase A-like 6B [KO:K00016] [EC:1.1.1.27]',\n",
       " '            11522  Adh1; alcohol dehydrogenase 1 (class I) [KO:K13951] [EC:1.1.1.1]',\n",
       " '            11529  Adh7; alcohol dehydrogenase 7 (class IV), mu or sigma polypeptide [KO:K13951] [EC:1.1.1.1]',\n",
       " '            26876  Adh4; alcohol dehydrogenase 4 (class II), pi polypeptide [KO:K13980] [EC:1.1.1.1]',\n",
       " '            11532  Adh5; alcohol dehydrogenase 5 (class III), chi polypeptide [KO:K00121] [EC:1.1.1.1 1.1.1.284]',\n",
       " '            58810  Akr1a1; aldo-keto reductase family 1, member A1 (aldehyde reductase) [KO:K00002] [EC:1.1.1.2]',\n",
       " '            11669  Aldh2; aldehyde dehydrogenase 2, mitochondrial [KO:K00128] [EC:1.2.1.3]',\n",
       " '            11671  Aldh3a2; aldehyde dehydrogenase family 3, subfamily A2 [KO:K00128] [EC:1.2.1.3]',\n",
       " '            72535  Aldh1b1; aldehyde dehydrogenase 1 family, member B1 [KO:K00128] [EC:1.2.1.3]',\n",
       " '            110695  Aldh7a1; aldehyde dehydrogenase family 7, member A1 [KO:K14085] [EC:1.2.1.3 1.2.1.8 1.2.1.31]',\n",
       " '            56752  Aldh9a1; aldehyde dehydrogenase 9, subfamily A1 [KO:K00149] [EC:1.2.1.3 1.2.1.47]',\n",
       " '            11670  Aldh3a1; aldehyde dehydrogenase family 3, subfamily A1 [KO:K00129] [EC:1.2.1.5]',\n",
       " '            56847  Aldh1a3; aldehyde dehydrogenase family 1, subfamily A3 [KO:K00129] [EC:1.2.1.5]',\n",
       " '            67689  Aldh3b1; aldehyde dehydrogenase 3 family, member B1 [KO:K00129] [EC:1.2.1.5]',\n",
       " '            621603  Aldh3b2; aldehyde dehydrogenase 3 family, member B2 [KO:K00129] [EC:1.2.1.5]',\n",
       " '            73458  Aldh3b3; aldehyde dehydrogenase 3 family, member B3 [KO:K00129] [EC:1.2.1.5]',\n",
       " '            68738  Acss1; acyl-CoA synthetase short-chain family member 1 [KO:K01895] [EC:6.2.1.1]',\n",
       " '            60525  Acss2; acyl-CoA synthetase short-chain family member 2 [KO:K01895] [EC:6.2.1.1]',\n",
       " '            319625  Galm; galactose mutarotase [KO:K01785] [EC:5.1.3.3]',\n",
       " '            72157  Pgm2; phosphoglucomutase 2 [KO:K01835] [EC:5.4.2.2]',\n",
       " '            66681  Pgm1; phosphoglucomutase 1 [KO:K15779] [EC:5.4.2.7 5.4.2.2]',\n",
       " '            14377  G6pc; glucose-6-phosphatase, catalytic [KO:K01084] [EC:3.1.3.9]',\n",
       " '            14378  G6pc2; glucose-6-phosphatase, catalytic, 2 [KO:K01084] [EC:3.1.3.9]',\n",
       " '            68401  G6pc3; glucose 6 phosphatase, catalytic, 3 [KO:K01084] [EC:3.1.3.9]',\n",
       " '            72141  Adpgk; ADP-dependent glucokinase [KO:K08074] [EC:2.7.1.147]',\n",
       " '            12183  Bpgm; 2,3-bisphosphoglycerate mutase [KO:K01837] [EC:3.1.3.13 5.4.2.11 5.4.2.4]',\n",
       " '            17330  Minpp1; multiple inositol polyphosphate histidine phosphatase 1 [KO:K03103] [EC:3.1.3.80 3.1.3.62]',\n",
       " '            18534  Pck1; phosphoenolpyruvate carboxykinase 1, cytosolic [KO:K01596] [EC:4.1.1.32]',\n",
       " '            74551  Pck2; phosphoenolpyruvate carboxykinase 2 (mitochondrial) [KO:K01596] [EC:4.1.1.32]',\n",
       " 'COMPOUND    C00022  Pyruvate',\n",
       " '            C00024  Acetyl-CoA',\n",
       " '            C00031  D-Glucose',\n",
       " '            C00033  Acetate',\n",
       " '            C00036  Oxaloacetate',\n",
       " '            C00068  Thiamin diphosphate',\n",
       " '            C00074  Phosphoenolpyruvate',\n",
       " '            C00084  Acetaldehyde',\n",
       " '            C00103  D-Glucose 1-phosphate',\n",
       " '            C00111  Glycerone phosphate',\n",
       " '            C00118  D-Glyceraldehyde 3-phosphate',\n",
       " '            C00186  (S)-Lactate',\n",
       " '            C00197  3-Phospho-D-glycerate',\n",
       " '            C00221  beta-D-Glucose',\n",
       " '            C00236  3-Phospho-D-glyceroyl phosphate',\n",
       " '            C00267  alpha-D-Glucose',\n",
       " '            C00469  Ethanol',\n",
       " '            C00631  2-Phospho-D-glycerate',\n",
       " '            C00668  alpha-D-Glucose 6-phosphate',\n",
       " '            C01159  2,3-Bisphospho-D-glycerate',\n",
       " '            C01172  beta-D-Glucose 6-phosphate',\n",
       " '            C01451  Salicin',\n",
       " '            C05125  2-(alpha-Hydroxyethyl)thiamine diphosphate',\n",
       " '            C05345  beta-D-Fructose 6-phosphate',\n",
       " '            C05378  beta-D-Fructose 1,6-bisphosphate',\n",
       " '            C06186  Arbutin',\n",
       " '            C06187  Arbutin 6-phosphate',\n",
       " '            C06188  Salicin 6-phosphate',\n",
       " '            C15972  Enzyme N6-(lipoyl)lysine',\n",
       " '            C15973  Enzyme N6-(dihydrolipoyl)lysine',\n",
       " '            C16255  [Dihydrolipoyllysine-residue acetyltransferase] S-acetyldihydrolipoyllysine',\n",
       " 'REFERENCE   (map 1)',\n",
       " '  AUTHORS   Nishizuka Y (ed).',\n",
       " '  TITLE     [Metabolic Maps] (In Japanese)',\n",
       " '  JOURNAL   Tokyo Kagaku Dojin (1980)',\n",
       " 'REFERENCE   (map 1)',\n",
       " '  AUTHORS   Nishizuka Y, Seyama Y, Ikai A, Ishimura Y, Kawaguchi A (eds).',\n",
       " '  TITLE     [Cellular Functions and Metabolic Maps] (In Japanese)',\n",
       " '  JOURNAL   Tokyo Kagaku Dojin (1997)',\n",
       " 'REFERENCE   ',\n",
       " '  AUTHORS   Michal G.',\n",
       " '  TITLE     Biochemical Pathways',\n",
       " '  JOURNAL   Wiley (1999)',\n",
       " 'KO_PATHWAY  ko00010',\n",
       " '///',\n",
       " '']"
      ]
     },
     "execution_count": 268,
     "metadata": {},
     "output_type": "execute_result"
    }
   ],
   "source": [
    "lis = kegg_get(\"path:mmu00010\").read().split(\"\\n\")\n",
    "lis"
   ]
  },
  {
   "cell_type": "code",
   "execution_count": 462,
   "metadata": {
    "collapsed": false
   },
   "outputs": [],
   "source": [
    "#workaround to parse Genes per Pathway\n",
    "def get_gene_per_path(l):\n",
    "    bla = []\n",
    "    s = 0\n",
    "    e = len(lis)\n",
    "    geneli = []\n",
    "    mb = []\n",
    "    genes = []\n",
    "    for i in range(len(lis)):\n",
    "        if(lis[i].startswith(\"GENE\")):\n",
    "            s = i\n",
    "        elif lis[i].startswith(\"COMPOUND\"):\n",
    "            e = i\n",
    "    for k in range(s,e):\n",
    "        bla.append(lis[k])\n",
    "\n",
    "    for b in range(len(bla)):\n",
    "        geneli.append(bla[b].split(\"\\t\"))\n",
    "    for u in range(0, len(geneli)):\n",
    "        t = str(str(geneli[u]).split(\";\")).split(\" \")\n",
    "        mb.append(t)\n",
    "        mb[u] = filter(None, mb[u])\n",
    "    for r in range(len(mb)):\n",
    "        if len(mb[r]) > 2:\n",
    "            #maybe as dictionary \n",
    "            #tmp = {mb[r][2].replace(\",\" , \"\").replace(\"\\\"\" , \"\") : mb[r][1]}\n",
    "            tmp = mb[r][2].replace(\",\" , \"\").replace(\"\\\"\" , \"\")\n",
    "            genes.append(tmp)\n",
    "    return genes"
   ]
  },
  {
   "cell_type": "code",
   "execution_count": 463,
   "metadata": {
    "collapsed": false
   },
   "outputs": [
    {
     "name": "stdout",
     "output_type": "stream",
     "text": [
      "path:mmu00010\n",
      "path:mmu00020\n",
      "path:mmu00030\n",
      "path:mmu00040\n",
      "path:mmu00051\n",
      "path:mmu00052\n",
      "path:mmu00053\n",
      "path:mmu00061\n",
      "path:mmu00062\n",
      "path:mmu00071\n",
      "path:mmu00072\n",
      "path:mmu00100\n",
      "path:mmu00120\n",
      "path:mmu00130\n",
      "path:mmu00140\n",
      "path:mmu00190\n",
      "path:mmu00220\n",
      "path:mmu00230\n",
      "path:mmu00232\n",
      "path:mmu00240\n",
      "path:mmu00250\n",
      "path:mmu00260\n",
      "path:mmu00270\n",
      "path:mmu00280\n",
      "path:mmu00290\n",
      "path:mmu00300\n",
      "path:mmu00310\n",
      "path:mmu00330\n",
      "path:mmu00340\n",
      "path:mmu00350\n",
      "path:mmu00360\n",
      "path:mmu00380\n",
      "path:mmu00400\n",
      "path:mmu00410\n",
      "path:mmu00430\n",
      "path:mmu00450\n",
      "path:mmu00471\n",
      "path:mmu00472\n",
      "path:mmu00480\n",
      "path:mmu00500\n",
      "path:mmu00510\n",
      "path:mmu00511\n",
      "path:mmu00512\n",
      "path:mmu00514\n",
      "path:mmu00520\n",
      "path:mmu00524\n",
      "path:mmu00531\n",
      "path:mmu00532\n",
      "path:mmu00533\n",
      "path:mmu00534\n",
      "path:mmu00561\n",
      "path:mmu00562\n",
      "path:mmu00563\n",
      "path:mmu00564\n",
      "path:mmu00565\n",
      "path:mmu00590\n",
      "path:mmu00591\n",
      "path:mmu00592\n",
      "path:mmu00600\n",
      "path:mmu00601\n",
      "path:mmu00603\n",
      "path:mmu00604\n",
      "path:mmu00620\n",
      "path:mmu00630\n",
      "path:mmu00640\n",
      "path:mmu00650\n",
      "path:mmu00670\n",
      "path:mmu00730\n",
      "path:mmu00740\n",
      "path:mmu00750\n",
      "path:mmu00760\n",
      "path:mmu00770\n",
      "path:mmu00780\n",
      "path:mmu00785\n",
      "path:mmu00790\n",
      "path:mmu00830\n",
      "path:mmu00860\n",
      "path:mmu00900\n",
      "path:mmu00910\n",
      "path:mmu00920\n",
      "path:mmu00970\n",
      "path:mmu00980\n",
      "path:mmu00982\n",
      "path:mmu00983\n",
      "path:mmu01040\n",
      "path:mmu01100\n",
      "path:mmu01200\n",
      "path:mmu01210\n",
      "path:mmu01212\n",
      "path:mmu01230\n",
      "path:mmu01521\n",
      "path:mmu01522\n",
      "path:mmu01524\n",
      "path:mmu02010\n",
      "path:mmu03008\n",
      "path:mmu03010\n",
      "path:mmu03013\n",
      "path:mmu03015\n",
      "path:mmu03018\n",
      "path:mmu03020\n",
      "path:mmu03022\n",
      "path:mmu03030\n",
      "path:mmu03040\n",
      "path:mmu03050\n",
      "path:mmu03060\n",
      "path:mmu03320\n",
      "path:mmu03410\n",
      "path:mmu03420\n",
      "path:mmu03430\n",
      "path:mmu03440\n",
      "path:mmu03450\n",
      "path:mmu03460\n",
      "path:mmu04010\n",
      "path:mmu04012\n",
      "path:mmu04014\n",
      "path:mmu04015\n",
      "path:mmu04020\n",
      "path:mmu04022\n",
      "path:mmu04024\n",
      "path:mmu04060\n",
      "path:mmu04062\n",
      "path:mmu04064\n",
      "path:mmu04066\n",
      "path:mmu04068\n",
      "path:mmu04070\n",
      "path:mmu04071\n",
      "path:mmu04072\n",
      "path:mmu04080\n",
      "path:mmu04110\n",
      "path:mmu04114\n",
      "path:mmu04115\n",
      "path:mmu04120\n",
      "path:mmu04122\n",
      "path:mmu04130\n",
      "path:mmu04140\n",
      "path:mmu04141\n",
      "path:mmu04142\n",
      "path:mmu04144\n",
      "path:mmu04145\n",
      "path:mmu04146\n",
      "path:mmu04150\n",
      "path:mmu04151\n",
      "path:mmu04152\n",
      "path:mmu04210\n",
      "path:mmu04211\n",
      "path:mmu04213\n",
      "path:mmu04215\n",
      "path:mmu04260\n",
      "path:mmu04261\n",
      "path:mmu04270\n",
      "path:mmu04310\n",
      "path:mmu04320\n",
      "path:mmu04330\n",
      "path:mmu04340\n",
      "path:mmu04350\n",
      "path:mmu04360\n",
      "path:mmu04370\n",
      "path:mmu04380\n",
      "path:mmu04390\n",
      "path:mmu04392\n",
      "path:mmu04510\n",
      "path:mmu04512\n",
      "path:mmu04514\n",
      "path:mmu04520\n",
      "path:mmu04530\n",
      "path:mmu04540\n",
      "path:mmu04550\n",
      "path:mmu04610\n",
      "path:mmu04611\n",
      "path:mmu04612\n",
      "path:mmu04614\n",
      "path:mmu04620\n",
      "path:mmu04621\n",
      "path:mmu04622\n",
      "path:mmu04623\n",
      "path:mmu04630\n",
      "path:mmu04640\n",
      "path:mmu04650\n",
      "path:mmu04660\n",
      "path:mmu04662\n",
      "path:mmu04664\n",
      "path:mmu04666\n",
      "path:mmu04668\n",
      "path:mmu04670\n",
      "path:mmu04672\n",
      "path:mmu04710\n",
      "path:mmu04713\n",
      "path:mmu04720\n",
      "path:mmu04721\n",
      "path:mmu04722\n",
      "path:mmu04723\n",
      "path:mmu04724\n",
      "path:mmu04725\n",
      "path:mmu04726\n",
      "path:mmu04727\n",
      "path:mmu04728\n",
      "path:mmu04730\n",
      "path:mmu04740\n",
      "path:mmu04742\n",
      "path:mmu04744\n",
      "path:mmu04750\n",
      "path:mmu04810\n",
      "path:mmu04910\n",
      "path:mmu04911\n",
      "path:mmu04912\n",
      "path:mmu04913\n",
      "path:mmu04914\n",
      "path:mmu04915\n",
      "path:mmu04916\n",
      "path:mmu04917\n",
      "path:mmu04918\n",
      "path:mmu04919\n",
      "path:mmu04920\n",
      "path:mmu04921\n",
      "path:mmu04922\n",
      "path:mmu04923\n",
      "path:mmu04924\n",
      "path:mmu04925\n",
      "path:mmu04930\n",
      "path:mmu04931\n",
      "path:mmu04932\n",
      "path:mmu04933\n",
      "path:mmu04940\n",
      "path:mmu04950\n",
      "path:mmu04960\n",
      "path:mmu04961\n",
      "path:mmu04962\n",
      "path:mmu04964\n",
      "path:mmu04966\n",
      "path:mmu04970\n",
      "path:mmu04971\n",
      "path:mmu04972\n",
      "path:mmu04973\n",
      "path:mmu04974\n",
      "path:mmu04975\n",
      "path:mmu04976\n",
      "path:mmu04977\n",
      "path:mmu04978\n",
      "path:mmu05010\n",
      "path:mmu05012\n",
      "path:mmu05014\n",
      "path:mmu05016\n",
      "path:mmu05020\n",
      "path:mmu05030\n",
      "path:mmu05031\n",
      "path:mmu05032\n",
      "path:mmu05033\n",
      "path:mmu05034\n",
      "path:mmu05100\n",
      "path:mmu05132\n",
      "path:mmu05133\n",
      "path:mmu05134\n",
      "path:mmu05140\n",
      "path:mmu05142\n",
      "path:mmu05143\n",
      "path:mmu05144\n",
      "path:mmu05145\n",
      "path:mmu05146\n",
      "path:mmu05150\n",
      "path:mmu05152\n",
      "path:mmu05160\n",
      "path:mmu05161\n",
      "path:mmu05162\n",
      "path:mmu05164\n",
      "path:mmu05166\n",
      "path:mmu05168\n",
      "path:mmu05169\n",
      "path:mmu05200\n",
      "path:mmu05202\n",
      "path:mmu05203\n",
      "path:mmu05204\n",
      "path:mmu05205\n",
      "path:mmu05206\n",
      "path:mmu05210\n",
      "path:mmu05211\n",
      "path:mmu05212\n",
      "path:mmu05213\n",
      "path:mmu05214\n",
      "path:mmu05215\n",
      "path:mmu05216\n",
      "path:mmu05217\n",
      "path:mmu05218\n",
      "path:mmu05219\n",
      "path:mmu05220\n",
      "path:mmu05221\n",
      "path:mmu05222\n",
      "path:mmu05223\n",
      "path:mmu05224\n",
      "path:mmu05230\n",
      "path:mmu05231\n",
      "path:mmu05310\n",
      "path:mmu05320\n",
      "path:mmu05321\n",
      "path:mmu05322\n",
      "path:mmu05323\n",
      "path:mmu05330\n",
      "path:mmu05332\n",
      "path:mmu05340\n",
      "path:mmu05410\n",
      "path:mmu05412\n",
      "path:mmu05414\n",
      "path:mmu05416\n"
     ]
    }
   ],
   "source": [
    "genes_list = []\n",
    "for row in df_path_list.index[:-1]:\n",
    "    lis = kegg_get(row).read().split(\"\\n\")\n",
    "    print row\n",
    "    genes_list.append([row, get_gene_per_path(lis)])"
   ]
  },
  {
   "cell_type": "code",
   "execution_count": 464,
   "metadata": {
    "collapsed": false
   },
   "outputs": [],
   "source": [
    "all_genes = pd.DataFrame(genes_list, columns=[\"Pathway_ID\", \"Genes\"])\n",
    "all_genes.set_index(\"Pathway_ID\", inplace=True)"
   ]
  },
  {
   "cell_type": "code",
   "execution_count": 465,
   "metadata": {
    "collapsed": false
   },
   "outputs": [
    {
     "data": {
      "text/html": [
       "<div>\n",
       "<table border=\"1\" class=\"dataframe\">\n",
       "  <thead>\n",
       "    <tr style=\"text-align: right;\">\n",
       "      <th></th>\n",
       "      <th>Pathway_Description</th>\n",
       "      <th>Genes</th>\n",
       "    </tr>\n",
       "    <tr>\n",
       "      <th>Pathway_ID</th>\n",
       "      <th></th>\n",
       "      <th></th>\n",
       "    </tr>\n",
       "  </thead>\n",
       "  <tbody>\n",
       "    <tr>\n",
       "      <th>path:mmu00010</th>\n",
       "      <td>Glycolysis / Gluconeogenesis - Mus musculus (m...</td>\n",
       "      <td>[Hk2, Hk3, Hk1, Hkdc1, Gck, Gpi1, Pfkl, Pfkm, ...</td>\n",
       "    </tr>\n",
       "    <tr>\n",
       "      <th>path:mmu00020</th>\n",
       "      <td>Citrate cycle (TCA cycle) - Mus musculus (mouse)</td>\n",
       "      <td>[Cs, Csl, Acly, Aco2, Aco1, Idh1, Idh2, Idh3g,...</td>\n",
       "    </tr>\n",
       "    <tr>\n",
       "      <th>path:mmu00030</th>\n",
       "      <td>Pentose phosphate pathway - Mus musculus (mouse)</td>\n",
       "      <td>[Gpi1, G6pd2, G6pdx, Pgls, H6pd, Pgd, Rpe, Tkt...</td>\n",
       "    </tr>\n",
       "    <tr>\n",
       "      <th>path:mmu00040</th>\n",
       "      <td>Pentose and glucuronate interconversions - Mus...</td>\n",
       "      <td>[Gusb, Kl, Ugt2b5, Ugt1a2, Ugt1a6a, Ugt2a1, Ug...</td>\n",
       "    </tr>\n",
       "    <tr>\n",
       "      <th>path:mmu00051</th>\n",
       "      <td>Fructose and mannose metabolism - Mus musculus...</td>\n",
       "      <td>[Mpi, Pmm2, Pmm1, Gmppb, Gmppa, Gmds, Tsta3, F...</td>\n",
       "    </tr>\n",
       "  </tbody>\n",
       "</table>\n",
       "</div>"
      ],
      "text/plain": [
       "                                             Pathway_Description  \\\n",
       "Pathway_ID                                                         \n",
       "path:mmu00010  Glycolysis / Gluconeogenesis - Mus musculus (m...   \n",
       "path:mmu00020   Citrate cycle (TCA cycle) - Mus musculus (mouse)   \n",
       "path:mmu00030   Pentose phosphate pathway - Mus musculus (mouse)   \n",
       "path:mmu00040  Pentose and glucuronate interconversions - Mus...   \n",
       "path:mmu00051  Fructose and mannose metabolism - Mus musculus...   \n",
       "\n",
       "                                                           Genes  \n",
       "Pathway_ID                                                        \n",
       "path:mmu00010  [Hk2, Hk3, Hk1, Hkdc1, Gck, Gpi1, Pfkl, Pfkm, ...  \n",
       "path:mmu00020  [Cs, Csl, Acly, Aco2, Aco1, Idh1, Idh2, Idh3g,...  \n",
       "path:mmu00030  [Gpi1, G6pd2, G6pdx, Pgls, H6pd, Pgd, Rpe, Tkt...  \n",
       "path:mmu00040  [Gusb, Kl, Ugt2b5, Ugt1a2, Ugt1a6a, Ugt2a1, Ug...  \n",
       "path:mmu00051  [Mpi, Pmm2, Pmm1, Gmppb, Gmppa, Gmds, Tsta3, F...  "
      ]
     },
     "execution_count": 465,
     "metadata": {},
     "output_type": "execute_result"
    }
   ],
   "source": [
    "df_genes = df_path_list.join(all_genes, how=\"inner\")\n",
    "df_genes.head()"
   ]
  },
  {
   "cell_type": "code",
   "execution_count": 466,
   "metadata": {
    "collapsed": false
   },
   "outputs": [],
   "source": []
  },
  {
   "cell_type": "code",
   "execution_count": null,
   "metadata": {
    "collapsed": false
   },
   "outputs": [],
   "source": []
  },
  {
   "cell_type": "code",
   "execution_count": null,
   "metadata": {
    "collapsed": false
   },
   "outputs": [],
   "source": []
  },
  {
   "cell_type": "markdown",
   "metadata": {},
   "source": [
    "### Subtask 1.2: Save the KEGG gene sets as a gmt file after you made sure they have the proper gene ids with respect to your DE analysis"
   ]
  },
  {
   "cell_type": "markdown",
   "metadata": {},
   "source": [
    "hints: \n",
    "\n",
    "http://biopython.org/wiki/Annotate_Entrez_Gene_IDs\n",
    "\n",
    "http://www.broadinstitute.org/cancer/software/gsea/wiki/index.php/Data_formats"
   ]
  },
  {
   "cell_type": "code",
   "execution_count": 467,
   "metadata": {
    "collapsed": false
   },
   "outputs": [],
   "source": [
    "df_genes.to_csv(\"/home/engelha/Documents/Praktikum/Integrated_Bioinformatics/notebooks/DayY_KEGG_genes.csv\", sep=\"\\t\")"
   ]
  },
  {
   "cell_type": "markdown",
   "metadata": {},
   "source": [
    "## Task 2: Gene Set Enrichment"
   ]
  },
  {
   "cell_type": "markdown",
   "metadata": {},
   "source": [
    "### Subtask 2.1: Read in the csv file you produced during the Differential Expression module, extract a gene list (as a python list of gene symbols) from your favorite multiple correction column (and store it in a variable)"
   ]
  },
  {
   "cell_type": "code",
   "execution_count": 521,
   "metadata": {
    "collapsed": false
   },
   "outputs": [],
   "source": [
    "DE = pd.read_csv(\"/home/engelha/Documents/Praktikum/Integrated_Bioinformatics/notebooks/Diff_Genes_Log2FC_INDEX.csv\", index_col=0)"
   ]
  },
  {
   "cell_type": "code",
   "execution_count": 522,
   "metadata": {
    "collapsed": false
   },
   "outputs": [
    {
     "data": {
      "text/html": [
       "<div>\n",
       "<table border=\"1\" class=\"dataframe\">\n",
       "  <thead>\n",
       "    <tr style=\"text-align: right;\">\n",
       "      <th></th>\n",
       "      <th>Log2_FoldChange</th>\n",
       "      <th>MannWhit_P_values</th>\n",
       "      <th>bonferroni_p_Values_corrected</th>\n",
       "      <th>sidak_p_Values_corrected</th>\n",
       "      <th>holm-sidak_p_Values_corrected</th>\n",
       "      <th>holm_p_Values_corrected</th>\n",
       "      <th>simes-hochberg_p_Values_corrected</th>\n",
       "      <th>hommel_p_Values_corrected</th>\n",
       "      <th>fdr_bh_p_Values_corrected</th>\n",
       "      <th>fdr_by_p_Values_corrected</th>\n",
       "      <th>fdr_tsbh_p_Values_corrected</th>\n",
       "      <th>fdr_tsbky_p_Values_corrected</th>\n",
       "    </tr>\n",
       "    <tr>\n",
       "      <th>Gene_ID</th>\n",
       "      <th></th>\n",
       "      <th></th>\n",
       "      <th></th>\n",
       "      <th></th>\n",
       "      <th></th>\n",
       "      <th></th>\n",
       "      <th></th>\n",
       "      <th></th>\n",
       "      <th></th>\n",
       "      <th></th>\n",
       "      <th></th>\n",
       "      <th></th>\n",
       "    </tr>\n",
       "  </thead>\n",
       "  <tbody>\n",
       "    <tr>\n",
       "      <th>Igh</th>\n",
       "      <td>0.036984</td>\n",
       "      <td>3.455967e-08</td>\n",
       "      <td>7.545759e-04</td>\n",
       "      <td>7.542913e-04</td>\n",
       "      <td>6.963077e-04</td>\n",
       "      <td>6.965502e-04</td>\n",
       "      <td>6.965157e-04</td>\n",
       "      <td>6.269470e-04</td>\n",
       "      <td>4.488851e-07</td>\n",
       "      <td>4.744026e-06</td>\n",
       "      <td>1.984149e-07</td>\n",
       "      <td>2.107534e-07</td>\n",
       "    </tr>\n",
       "    <tr>\n",
       "      <th>Hcfc2</th>\n",
       "      <td>0.019614</td>\n",
       "      <td>8.087184e-05</td>\n",
       "      <td>1.000000e+00</td>\n",
       "      <td>8.289547e-01</td>\n",
       "      <td>7.406464e-01</td>\n",
       "      <td>1.000000e+00</td>\n",
       "      <td>5.000000e-01</td>\n",
       "      <td>5.000000e-01</td>\n",
       "      <td>3.424985e-04</td>\n",
       "      <td>3.619682e-03</td>\n",
       "      <td>1.513902e-04</td>\n",
       "      <td>1.608044e-04</td>\n",
       "    </tr>\n",
       "    <tr>\n",
       "      <th>Ccdc112</th>\n",
       "      <td>0.077647</td>\n",
       "      <td>4.945441e-12</td>\n",
       "      <td>1.079788e-07</td>\n",
       "      <td>1.079798e-07</td>\n",
       "      <td>1.063428e-07</td>\n",
       "      <td>1.063418e-07</td>\n",
       "      <td>1.063418e-07</td>\n",
       "      <td>1.041658e-07</td>\n",
       "      <td>3.244404e-10</td>\n",
       "      <td>3.428836e-09</td>\n",
       "      <td>1.434082e-10</td>\n",
       "      <td>1.523261e-10</td>\n",
       "    </tr>\n",
       "    <tr>\n",
       "      <th>EG635895</th>\n",
       "      <td>0.065744</td>\n",
       "      <td>4.284527e-07</td>\n",
       "      <td>9.354836e-03</td>\n",
       "      <td>9.311218e-03</td>\n",
       "      <td>8.276260e-03</td>\n",
       "      <td>8.310697e-03</td>\n",
       "      <td>8.310697e-03</td>\n",
       "      <td>6.995775e-03</td>\n",
       "      <td>3.837094e-06</td>\n",
       "      <td>4.055219e-05</td>\n",
       "      <td>1.696061e-06</td>\n",
       "      <td>1.801531e-06</td>\n",
       "    </tr>\n",
       "    <tr>\n",
       "      <th>Srp72</th>\n",
       "      <td>0.000394</td>\n",
       "      <td>3.359962e-01</td>\n",
       "      <td>1.000000e+00</td>\n",
       "      <td>1.000000e+00</td>\n",
       "      <td>1.000000e+00</td>\n",
       "      <td>1.000000e+00</td>\n",
       "      <td>5.000000e-01</td>\n",
       "      <td>5.000000e-01</td>\n",
       "      <td>3.750675e-01</td>\n",
       "      <td>1.000000e+00</td>\n",
       "      <td>1.657862e-01</td>\n",
       "      <td>1.760957e-01</td>\n",
       "    </tr>\n",
       "  </tbody>\n",
       "</table>\n",
       "</div>"
      ],
      "text/plain": [
       "          Log2_FoldChange  MannWhit_P_values  bonferroni_p_Values_corrected  \\\n",
       "Gene_ID                                                                       \n",
       "Igh              0.036984       3.455967e-08                   7.545759e-04   \n",
       "Hcfc2            0.019614       8.087184e-05                   1.000000e+00   \n",
       "Ccdc112          0.077647       4.945441e-12                   1.079788e-07   \n",
       "EG635895         0.065744       4.284527e-07                   9.354836e-03   \n",
       "Srp72            0.000394       3.359962e-01                   1.000000e+00   \n",
       "\n",
       "          sidak_p_Values_corrected  holm-sidak_p_Values_corrected  \\\n",
       "Gene_ID                                                             \n",
       "Igh                   7.542913e-04                   6.963077e-04   \n",
       "Hcfc2                 8.289547e-01                   7.406464e-01   \n",
       "Ccdc112               1.079798e-07                   1.063428e-07   \n",
       "EG635895              9.311218e-03                   8.276260e-03   \n",
       "Srp72                 1.000000e+00                   1.000000e+00   \n",
       "\n",
       "          holm_p_Values_corrected  simes-hochberg_p_Values_corrected  \\\n",
       "Gene_ID                                                                \n",
       "Igh                  6.965502e-04                       6.965157e-04   \n",
       "Hcfc2                1.000000e+00                       5.000000e-01   \n",
       "Ccdc112              1.063418e-07                       1.063418e-07   \n",
       "EG635895             8.310697e-03                       8.310697e-03   \n",
       "Srp72                1.000000e+00                       5.000000e-01   \n",
       "\n",
       "          hommel_p_Values_corrected  fdr_bh_p_Values_corrected  \\\n",
       "Gene_ID                                                          \n",
       "Igh                    6.269470e-04               4.488851e-07   \n",
       "Hcfc2                  5.000000e-01               3.424985e-04   \n",
       "Ccdc112                1.041658e-07               3.244404e-10   \n",
       "EG635895               6.995775e-03               3.837094e-06   \n",
       "Srp72                  5.000000e-01               3.750675e-01   \n",
       "\n",
       "          fdr_by_p_Values_corrected  fdr_tsbh_p_Values_corrected  \\\n",
       "Gene_ID                                                            \n",
       "Igh                    4.744026e-06                 1.984149e-07   \n",
       "Hcfc2                  3.619682e-03                 1.513902e-04   \n",
       "Ccdc112                3.428836e-09                 1.434082e-10   \n",
       "EG635895               4.055219e-05                 1.696061e-06   \n",
       "Srp72                  1.000000e+00                 1.657862e-01   \n",
       "\n",
       "          fdr_tsbky_p_Values_corrected  \n",
       "Gene_ID                                 \n",
       "Igh                       2.107534e-07  \n",
       "Hcfc2                     1.608044e-04  \n",
       "Ccdc112                   1.523261e-10  \n",
       "EG635895                  1.801531e-06  \n",
       "Srp72                     1.760957e-01  "
      ]
     },
     "execution_count": 522,
     "metadata": {},
     "output_type": "execute_result"
    }
   ],
   "source": [
    "DE.index.names = [\"Gene_ID\"]\n",
    "DE.head()"
   ]
  },
  {
   "cell_type": "code",
   "execution_count": 728,
   "metadata": {
    "collapsed": false
   },
   "outputs": [
    {
     "data": {
      "text/plain": [
       "0         Igh\n",
       "1       Hcfc2\n",
       "2     Ccdc112\n",
       "3    EG635895\n",
       "4       Srp72\n",
       "Name: Gene_ID, dtype: object"
      ]
     },
     "execution_count": 728,
     "metadata": {},
     "output_type": "execute_result"
    }
   ],
   "source": [
    "sidaks = pd.Series(DE.index)\n",
    "sidaks.head()"
   ]
  },
  {
   "cell_type": "code",
   "execution_count": 729,
   "metadata": {
    "collapsed": false
   },
   "outputs": [
    {
     "data": {
      "text/plain": [
       "9128"
      ]
     },
     "execution_count": 729,
     "metadata": {},
     "output_type": "execute_result"
    }
   ],
   "source": [
    "pathway_genes = []\n",
    "for row in df_genes.index:\n",
    "    pathway_genes = set(pathway_genes).union(set(df_genes.loc[row][\"Genes\"]))\n",
    "len(pathway_genes)"
   ]
  },
  {
   "cell_type": "code",
   "execution_count": 900,
   "metadata": {
    "collapsed": false
   },
   "outputs": [
    {
     "data": {
      "text/plain": [
       "7061"
      ]
     },
     "execution_count": 900,
     "metadata": {},
     "output_type": "execute_result"
    }
   ],
   "source": [
    "shared_genes = set(sidaks).intersection(pathway_genes)\n",
    "len(shared_genes)"
   ]
  },
  {
   "cell_type": "code",
   "execution_count": 957,
   "metadata": {
    "collapsed": false
   },
   "outputs": [],
   "source": [
    "crossDF_DE = DE.copy()\n",
    "crossDF_DE.drop(crossDF_DE.columns[0:], axis=1, inplace=True)\n",
    "crossDF_DE[\"Diff_Exp\"] = False\n"
   ]
  },
  {
   "cell_type": "code",
   "execution_count": 958,
   "metadata": {
    "collapsed": false
   },
   "outputs": [],
   "source": [
    "r1 = list(df_genes.loc[\"path:mmu00510\"][\"Genes\"])"
   ]
  },
  {
   "cell_type": "code",
   "execution_count": 959,
   "metadata": {
    "collapsed": false
   },
   "outputs": [],
   "source": [
    "crossDF_DE.Diff_Exp.loc[shared_genes] = True"
   ]
  },
  {
   "cell_type": "code",
   "execution_count": 971,
   "metadata": {
    "collapsed": false
   },
   "outputs": [],
   "source": [
    "crossDF_Path = pd.DataFrame([pathway_genes])\n",
    "crossDF_Path = crossDF_Path.T\n",
    "crossDF_Path.set_index(0, inplace=True)\n",
    "crossDF_Path.drop(\"\",axis=0, inplace=True)\n",
    "crossDF_Path[\"path:mmu00010\"] = False\n",
    "crossDF_Path[\"path:mmu00010\"].loc[r1] = True"
   ]
  },
  {
   "cell_type": "code",
   "execution_count": null,
   "metadata": {
    "collapsed": false
   },
   "outputs": [],
   "source": []
  },
  {
   "cell_type": "code",
   "execution_count": 970,
   "metadata": {
    "collapsed": false
   },
   "outputs": [],
   "source": [
    "cross_Joined = crossDF_DE.join(crossDF_Path, how=\"outer\")\n",
    "cross_Joined.replace(np.nan, False, inplace=True)"
   ]
  },
  {
   "cell_type": "code",
   "execution_count": null,
   "metadata": {
    "collapsed": false
   },
   "outputs": [],
   "source": []
  },
  {
   "cell_type": "markdown",
   "metadata": {},
   "source": [
    "### Subtask 2.2: Perform gene set enrichment (Fisher's exact test or an hypergeometric test will do for our purposes) with the KEGG gene sets you extracted in Task 1 (you may want to store the results in a pandas dataframe and write them to csv)"
   ]
  },
  {
   "cell_type": "markdown",
   "metadata": {},
   "source": [
    "hint:\n",
    "\n",
    "https://genetrail2.bioinf.uni-sb.de/help?topic=set_level_statistics"
   ]
  },
  {
   "cell_type": "code",
   "execution_count": 974,
   "metadata": {
    "collapsed": false
   },
   "outputs": [
    {
     "data": {
      "text/html": [
       "<div>\n",
       "<table border=\"1\" class=\"dataframe\">\n",
       "  <thead>\n",
       "    <tr style=\"text-align: right;\">\n",
       "      <th>path:mmu00010</th>\n",
       "      <th>False</th>\n",
       "      <th>True</th>\n",
       "      <th>All</th>\n",
       "    </tr>\n",
       "    <tr>\n",
       "      <th>Diff_Exp</th>\n",
       "      <th></th>\n",
       "      <th></th>\n",
       "      <th></th>\n",
       "    </tr>\n",
       "  </thead>\n",
       "  <tbody>\n",
       "    <tr>\n",
       "      <th>False</th>\n",
       "      <td>16838</td>\n",
       "      <td>1</td>\n",
       "      <td>16839</td>\n",
       "    </tr>\n",
       "    <tr>\n",
       "      <th>True</th>\n",
       "      <td>7013</td>\n",
       "      <td>48</td>\n",
       "      <td>7061</td>\n",
       "    </tr>\n",
       "    <tr>\n",
       "      <th>All</th>\n",
       "      <td>23851</td>\n",
       "      <td>49</td>\n",
       "      <td>23900</td>\n",
       "    </tr>\n",
       "  </tbody>\n",
       "</table>\n",
       "</div>"
      ],
      "text/plain": [
       "path:mmu00010  False  True    All\n",
       "Diff_Exp                         \n",
       "False          16838     1  16839\n",
       "True            7013    48   7061\n",
       "All            23851    49  23900"
      ]
     },
     "execution_count": 974,
     "metadata": {},
     "output_type": "execute_result"
    }
   ],
   "source": [
    "cross_table = pd.crosstab(cross_Joined.Diff_Exp, cross_Joined[\"path:mmu00010\"], margins=True)\n",
    "cross_table"
   ]
  },
  {
   "cell_type": "code",
   "execution_count": null,
   "metadata": {
    "collapsed": false
   },
   "outputs": [],
   "source": []
  },
  {
   "cell_type": "code",
   "execution_count": null,
   "metadata": {
    "collapsed": false
   },
   "outputs": [],
   "source": []
  },
  {
   "cell_type": "code",
   "execution_count": null,
   "metadata": {
    "collapsed": false
   },
   "outputs": [],
   "source": []
  },
  {
   "cell_type": "code",
   "execution_count": null,
   "metadata": {
    "collapsed": false
   },
   "outputs": [],
   "source": []
  },
  {
   "cell_type": "code",
   "execution_count": null,
   "metadata": {
    "collapsed": true
   },
   "outputs": [],
   "source": []
  },
  {
   "cell_type": "code",
   "execution_count": null,
   "metadata": {
    "collapsed": false
   },
   "outputs": [],
   "source": []
  },
  {
   "cell_type": "code",
   "execution_count": null,
   "metadata": {
    "collapsed": true
   },
   "outputs": [],
   "source": []
  },
  {
   "cell_type": "code",
   "execution_count": null,
   "metadata": {
    "collapsed": true
   },
   "outputs": [],
   "source": []
  },
  {
   "cell_type": "code",
   "execution_count": null,
   "metadata": {
    "collapsed": true
   },
   "outputs": [],
   "source": []
  },
  {
   "cell_type": "code",
   "execution_count": null,
   "metadata": {
    "collapsed": true
   },
   "outputs": [],
   "source": []
  },
  {
   "cell_type": "code",
   "execution_count": 610,
   "metadata": {
    "collapsed": true
   },
   "outputs": [],
   "source": []
  },
  {
   "cell_type": "markdown",
   "metadata": {},
   "source": [
    "### Subtask 2.3: Extract a list of significantly (at 0.05 significance) enriched KEGG pathways"
   ]
  },
  {
   "cell_type": "code",
   "execution_count": null,
   "metadata": {
    "collapsed": false
   },
   "outputs": [],
   "source": []
  },
  {
   "cell_type": "markdown",
   "metadata": {},
   "source": [
    "## Task 3: KEGG map visualization"
   ]
  },
  {
   "cell_type": "markdown",
   "metadata": {},
   "source": [
    "#### hint:\n",
    "\n",
    "http://nbviewer.jupyter.org/github/widdowquinn/notebooks/blob/master/Biopython_KGML_intro.ipynb\n",
    "\n",
    "#### remark:\n",
    "\n",
    "In real life you may want to use the R-based tool pathview: https://bioconductor.org/packages/release/bioc/html/pathview.html (if you insist you can also try to use r2py for using pathview from Python during the practical)\n",
    "\n",
    "For Python (in addition to the Biopyhton module) https://github.com/idekerlab/py2cytoscape in combination with https://github.com/idekerlab/KEGGscape may be another alternative (in the future)\n",
    "\n",
    "Generally speaking, it is always a good idea to pay attention also to other pathway databases like Reactome or WikiPathways ..."
   ]
  },
  {
   "cell_type": "markdown",
   "metadata": {},
   "source": [
    "### Subtask 3.1: Pick some significantly enriched KEGG pathways of your choice from 2.3 and visualize them"
   ]
  },
  {
   "cell_type": "code",
   "execution_count": null,
   "metadata": {
    "collapsed": false
   },
   "outputs": [],
   "source": []
  },
  {
   "cell_type": "markdown",
   "metadata": {},
   "source": [
    "### Subtask 3.2: Define a a suitable binary color scheme respresenting the fact whether a gene is significantly expressed or not"
   ]
  },
  {
   "cell_type": "markdown",
   "metadata": {},
   "source": [
    "hint: \n",
    "\n",
    "http://www.rapidtables.com/web/color/RGB_Color.htm"
   ]
  },
  {
   "cell_type": "markdown",
   "metadata": {},
   "source": [
    "### Subtask 3.3: Visualize the pathway(s) from 3.1 in such a way that the included genes have the corresponding color from 3.2 ( you may need to define a suitable mapping from single genes to what is actually shown in the pathway map...)"
   ]
  },
  {
   "cell_type": "code",
   "execution_count": null,
   "metadata": {
    "collapsed": false
   },
   "outputs": [],
   "source": []
  },
  {
   "cell_type": "markdown",
   "metadata": {},
   "source": [
    "### Subtask 3.4: Define a suitable continuous color range representing the log2 fold changes of the all the genes in your data"
   ]
  },
  {
   "cell_type": "markdown",
   "metadata": {},
   "source": [
    "hint:\n",
    "\n",
    "http://bsou.io/posts/color-gradients-with-python"
   ]
  },
  {
   "cell_type": "code",
   "execution_count": null,
   "metadata": {
    "collapsed": true
   },
   "outputs": [],
   "source": []
  },
  {
   "cell_type": "markdown",
   "metadata": {},
   "source": [
    "### Subtask 3.5: Visualize the pathway(s) from 3.1 in such a way that the included genes have the corresponding color from 3.4"
   ]
  },
  {
   "cell_type": "code",
   "execution_count": null,
   "metadata": {
    "collapsed": true
   },
   "outputs": [],
   "source": []
  }
 ],
 "metadata": {
  "anaconda-cloud": {},
  "kernelspec": {
   "display_name": "Python [Root]",
   "language": "python",
   "name": "Python [Root]"
  },
  "language_info": {
   "codemirror_mode": {
    "name": "ipython",
    "version": 2
   },
   "file_extension": ".py",
   "mimetype": "text/x-python",
   "name": "python",
   "nbconvert_exporter": "python",
   "pygments_lexer": "ipython2",
   "version": "2.7.12"
  }
 },
 "nbformat": 4,
 "nbformat_minor": 0
}
